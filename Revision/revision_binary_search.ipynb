{
 "cells": [
  {
   "cell_type": "markdown",
   "metadata": {},
   "source": [
    "# Binary Search"
   ]
  },
  {
   "cell_type": "code",
   "execution_count": 14,
   "metadata": {},
   "outputs": [
    {
     "data": {
      "text/plain": [
       "True"
      ]
     },
     "execution_count": 14,
     "metadata": {},
     "output_type": "execute_result"
    }
   ],
   "source": [
    "# Recursive\n",
    "def binary_search(arr, target):\n",
    "    if arr == []:\n",
    "        return False\n",
    "    \n",
    "    mid = len(arr)//2\n",
    "    if arr[mid] == target:\n",
    "        return True\n",
    "    elif arr[mid] < target:\n",
    "        return binary_search(arr[mid+1:], target)\n",
    "    else:\n",
    "        return binary_search(arr[:mid], target)\n",
    "\n",
    "binary_search([1,2,3,4,5,6,7], 5)"
   ]
  },
  {
   "cell_type": "code",
   "execution_count": 19,
   "metadata": {},
   "outputs": [
    {
     "data": {
      "text/plain": [
       "False"
      ]
     },
     "execution_count": 19,
     "metadata": {},
     "output_type": "execute_result"
    }
   ],
   "source": [
    "# Functional\n",
    "def binary_search(arr, target):\n",
    "    start = 0\n",
    "    end = len(arr) -1\n",
    "\n",
    "    while start <= end:\n",
    "        mid = (end + start)//2\n",
    "        if arr[mid] == target:\n",
    "            return True\n",
    "        elif arr[mid] < target:\n",
    "            start = mid+1\n",
    "        else:\n",
    "            end = mid-1\n",
    "    return False\n",
    "\n",
    "binary_search([1,2,3,4,5,6,7], 9)"
   ]
  },
  {
   "cell_type": "markdown",
   "metadata": {},
   "source": [
    "### Pattern 1: Order-agnostic Binary Search (easy)\n",
    "https://www.designgurus.io/course-play/grokking-the-coding-interview/doc/orderagnostic-binary-search-easy\n",
    "\n",
    "It is not given that where your array is sort in ascending or descending order."
   ]
  },
  {
   "cell_type": "code",
   "execution_count": 9,
   "metadata": {},
   "outputs": [
    {
     "data": {
      "text/plain": [
       "True"
      ]
     },
     "execution_count": 9,
     "metadata": {},
     "output_type": "execute_result"
    }
   ],
   "source": [
    "def binary_search(arr, target):\n",
    "    n=len(arr)\n",
    "\n",
    "    if arr[0] < arr[n-1]:\n",
    "        flag = True\n",
    "    else:\n",
    "        flag = False\n",
    "\n",
    "    start = 0 \n",
    "    end  = n-1\n",
    "\n",
    "\n",
    "    while start <= end:\n",
    "        mid = (start + end)//2\n",
    "        if target ==  arr[mid]:\n",
    "            return True\n",
    "        elif arr[mid] < target:\n",
    "            if flag:\n",
    "                start = mid+1\n",
    "            else:\n",
    "                end = mid - 1\n",
    "        else:\n",
    "            if flag:\n",
    "                end = mid - 1\n",
    "            else:\n",
    "                start = mid+1\n",
    "        \n",
    "   \n",
    "    return False\n",
    "\n",
    "binary_search (sorted([1,2,3,4,5,6], reverse=False), 2)\n"
   ]
  },
  {
   "cell_type": "markdown",
   "metadata": {},
   "source": [
    "### Pattern 2: Ceiling of a number\n",
    "https://www.designgurus.io/course-play/grokking-the-coding-interview/doc/ceiling-of-a-number-medium\n",
    "\n",
    "return smallest number greater than equal to target\n",
    "\n",
    "We have to run the binary search and return the start value if it is not found as the start will be pointed to the exactly the next greater element"
   ]
  },
  {
   "cell_type": "code",
   "execution_count": 11,
   "metadata": {},
   "outputs": [
    {
     "data": {
      "text/plain": [
       "7"
      ]
     },
     "execution_count": 11,
     "metadata": {},
     "output_type": "execute_result"
    }
   ],
   "source": [
    "def ceiling(arr, target):\n",
    "    n =  len(arr)\n",
    "    start =  0\n",
    "    end = len(arr) -1\n",
    "\n",
    "    while start <= end:\n",
    "        mid = (start+end)//2\n",
    "\n",
    "        if arr[mid] ==target:\n",
    "            return arr[mid]\n",
    "        elif arr[mid] < target:\n",
    "            start = mid+1\n",
    "        else:\n",
    "            end= mid-1\n",
    "\n",
    "    return arr[start]\n",
    "\n",
    "ceiling([1,2,3,4,7,8,9,10], 6)\n",
    "\n",
    "\n"
   ]
  },
  {
   "cell_type": "markdown",
   "metadata": {},
   "source": [
    "### Pattern 3: Next Letter\n",
    "https://www.designgurus.io/course-play/grokking-the-coding-interview/doc/next-letter-medium\n",
    "\n",
    "Given an array of lowercase letters sorted in ascending order, find the smallest letter in the given array greater than a given ‘key’.\n",
    "\n",
    "Assume the given array is a circular list, which means that the last letter is assumed to be connected with the first letter. This also means that the smallest letter in the given array is greater than the last letter of the array and is also the first letter of the array.\n",
    "\n",
    "Write a function to return the next letter of the given ‘key’.\n",
    "\n",
    "\n",
    "**APPROACH** \n",
    "\n",
    "The problem follows the Binary Search pattern. Since Binary Search helps us find an element in a sorted array efficiently, we can use a modified version of it to find the next letter.\n",
    "\n",
    "We can use a similar approach as discussed in Ceiling of a Number. There are a couple of differences though:\n",
    "\n",
    "The array is considered circular, which means if the ‘key’ is bigger than the last letter of the array or if it is smaller than the first letter of the array, the key’s next letter will be the first letter of the array.\n",
    "The other difference is that we have to find the next biggest letter which can’t be equal to the ‘key’. This means that we will ignore the case where key == arr[middle]. To handle this case, we can update our start range to start = middle +1.\n",
    "In the end, instead of returning the element pointed out by start, we have to return the letter pointed out by start % array_length. This is needed because of point 2 discussed above. Imagine that the last letter of the array is equal to the ‘key’. In that case, we have to return the first letter of the input array."
   ]
  },
  {
   "cell_type": "code",
   "execution_count": 26,
   "metadata": {},
   "outputs": [
    {
     "data": {
      "text/plain": [
       "'c'"
      ]
     },
     "execution_count": 26,
     "metadata": {},
     "output_type": "execute_result"
    }
   ],
   "source": [
    "def next_letter(arr, target):\n",
    "        start = 0\n",
    "        end =  len(arr) - 1\n",
    "        i = -1\n",
    "        while start <= end:\n",
    "    \n",
    "            mid = (start+end)//2\n",
    "            #since we have to return the next greater letter\n",
    "            if arr[mid] <= target:\n",
    "                #the moment arr[mid] = target since I have to return the next greater value so we will update the start with start+1\n",
    "                #this will help us in returning the next value\n",
    "                start = mid + 1\n",
    "            else:\n",
    "                end = mid - 1\n",
    "\n",
    "        return arr[start % len(arr)]\n",
    "\n",
    "arr = ['a', 'c', 'f', 'h']\n",
    "key = 'k'\n",
    "arr = [\"a\", \"b\", \"c\", \"d\", \"e\"]\n",
    "key = \"b\"\n",
    "\n",
    "next_letter(arr, key)"
   ]
  },
  {
   "cell_type": "markdown",
   "metadata": {},
   "source": [
    "### Pattern 4: Number Range (medium)\n",
    "\n",
    "**Problem Statement**\n",
    "Given an array of numbers sorted in ascending order, find the range of a given number ‘key’. The range of the ‘key’ will be the first and last position of the ‘key’ in the array.\n",
    "\n",
    "Write a function to return the range of the ‘key’. If the ‘key’ is not present return [-1, -1].\n",
    "\n",
    "\n",
    "**APPROACH**\n",
    "I can use the lower bound and the upper bound of the functions to get the range. \n",
    "\n",
    "**LOWER BOUND** \n",
    "- For finding the lower bound I have to track the value in ans initialize to n. \n",
    "- we will check if the arr[mid] >= target then we will come to left half by end = mid- 1 at the same time I have to update the value of the ans=mid so that it will point to the nth element of the current range.\n",
    "- at last this ans will contain the final index\n",
    "- the = sign in the arr[mid] >= target help us to reduce the range while ans keeps track of the last found target\n",
    "\n",
    "**UPPER BOUND**\n",
    "- For finding the upper bound I have to track the value in ans. \n",
    "- we will check if arr[mid] <= target then we will update ans =mid and move to right half. for this we will update start = mid + 1\n",
    "- In the else part we will reduce the end= mid-1\n",
    "- the increment in the start will help us in exploring the further occurrence of the element at the right side"
   ]
  },
  {
   "cell_type": "code",
   "execution_count": 34,
   "metadata": {},
   "outputs": [
    {
     "data": {
      "text/plain": [
       "[4, 6]"
      ]
     },
     "execution_count": 34,
     "metadata": {},
     "output_type": "execute_result"
    }
   ],
   "source": [
    "def lower_bound(arr, target):\n",
    "    start = 0\n",
    "    end = len(arr) -1\n",
    "    ans = len(arr)\n",
    "    while start <= end:\n",
    "        mid = (start + end) // 2\n",
    "        if arr[mid] >= target:\n",
    "            ans = mid\n",
    "            end = mid-1\n",
    "        else:\n",
    "            start = mid + 1\n",
    "    return ans\n",
    "\n",
    "def upper_bound(arr, target):\n",
    "    start = 0\n",
    "    end = len(arr)-1\n",
    "    ans = len(arr)\n",
    "\n",
    "    while start <= end:\n",
    "        mid = (start + end) // 2\n",
    "        if arr[mid] <= target:\n",
    "            ans = mid\n",
    "            start = mid + 1\n",
    "        else:\n",
    "            end = mid - 1\n",
    "    return ans\n",
    "\n",
    "def num_range(arr, target):\n",
    "    lower = lower_bound(arr, target)\n",
    "    upper = upper_bound(arr, target)\n",
    "\n",
    "    n = len(arr)\n",
    "    if n==0:\n",
    "        return [-1, -1]\n",
    "\n",
    "    if lower == n and upper == n:\n",
    "        return [-1, -1]\n",
    "    elif arr[lower] != target or arr[upper] != target:\n",
    "        return [-1, -1]\n",
    "    else:\n",
    "        return [lower, upper]\n",
    "    \n",
    "\n",
    "\n",
    "\n",
    "    \n",
    "arr = [1,2,3,4,8,8,8,9,10]\n",
    "target = 8\n",
    "num_range(arr, target)"
   ]
  },
  {
   "cell_type": "markdown",
   "metadata": {},
   "source": [
    "### Pattern 5: Search in a Sorted Infinite Array\n",
    "\n",
    "https://www.designgurus.io/course-play/grokking-the-coding-interview/doc/solution-search-in-a-sorted-infinite-array\n",
    " \n",
    "Given an infinite sorted array (or an array with unknown size), find if a given number ‘key’ is present in the array. Write a function to return the index of the ‘key’ if it is present in the array, otherwise return -1.\n",
    "\n",
    "Since it is not possible to define an array with infinite (unknown) size, you will be provided with an interface ArrayReader to read elements of the array. ArrayReader.get(index) will return the number at index; if the array’s size is smaller than the index, it will return Integer.MAX_VALUE.\n",
    "\n",
    "\n",
    "**APPROACH**\n",
    "we have to find the bound first. for this we will start by taking start =0  and end  =1 and every time we will double the value of end and start till we find arr[end]> target. this end will be our upper bound."
   ]
  },
  {
   "cell_type": "code",
   "execution_count": 51,
   "metadata": {},
   "outputs": [
    {
     "data": {
      "text/plain": [
       "6"
      ]
     },
     "execution_count": 51,
     "metadata": {},
     "output_type": "execute_result"
    }
   ],
   "source": [
    "def find_bound(arr, target):\n",
    "    start = 0\n",
    "    end = 1\n",
    "\n",
    "    while start <= end:\n",
    "        \n",
    "        if arr[end] < target:\n",
    "            start = end + 1\n",
    "            end = start * 2\n",
    "        else:\n",
    "            return end\n",
    "\n",
    "\n",
    "def search_infinite(arr, target):\n",
    "    start = 0\n",
    "    end = find_bound(arr, target)\n",
    "    while start <= end:\n",
    "        mid = (start + end)//2\n",
    "        if arr[mid]==target:\n",
    "            return mid\n",
    "        elif arr[mid] < target:\n",
    "            start = mid +1\n",
    "        else:\n",
    "            end = mid - 1\n",
    "        \n",
    "    return -1\n",
    "\n",
    "arr = [4, 6, 8, 10, 12, 14, 16, 18, 20, 22, 24, 26, 28, 30]\n",
    "target = 16\n",
    "search_infinite(arr, target)"
   ]
  },
  {
   "cell_type": "markdown",
   "metadata": {},
   "source": [
    "## Pattern 6 : Minimum difference element\n",
    "\n",
    "Given an array of numbers sorted in ascending order, find the element in the array that has the minimum difference with the given ‘key’.\n",
    "\n",
    "Input: [4, 6, 10], key = 7\n",
    "Output: 6\n",
    "Explanation: The difference between the key '7' and '6' is minimum than any other number in the array \n",
    "\n",
    "**APPROACH**\n",
    "Find the prev minimum(floor) element and next greater(cieling) then take the difference and return the max value"
   ]
  },
  {
   "cell_type": "code",
   "execution_count": null,
   "metadata": {},
   "outputs": [
    {
     "name": "stdout",
     "output_type": "stream",
     "text": [
      "2 3\n"
     ]
    },
    {
     "data": {
      "text/plain": [
       "5"
      ]
     },
     "execution_count": 57,
     "metadata": {},
     "output_type": "execute_result"
    }
   ],
   "source": [
    "# I will calculate the prev smaller and next greater. Cieling if the number matches then we can have the min value. \n",
    "\n",
    "def prev_lower_upper(arr, target):\n",
    "    start = 0\n",
    "    end = len(arr) -1\n",
    "\n",
    "    while start <= end:\n",
    "        mid =  (start+end)//2\n",
    "        if arr[mid] == target:\n",
    "            return mid, mid\n",
    "        elif arr[mid] < target:\n",
    "            start = mid + 1\n",
    "        else:\n",
    "            end = mid - 1\n",
    "    return end, start\n",
    "\n",
    "def min_diff(arr, target):\n",
    "    prev_min, next_max = prev_lower_upper(arr, target)\n",
    "\n",
    "    if target - arr[prev_min] < arr[next_max] - target:\n",
    "        return arr[prev_min]\n",
    "    else:\n",
    "        return arr[next_max]\n",
    "\n",
    "\n",
    "    \n",
    "logn\n",
    "\n",
    "arr = [1,2,3,5,6,7]\n",
    "target = 4\n",
    "lower, upper =  prev_lower(arr, target)\n",
    "print(lower, upper)\n",
    "min_diff(arr, target)"
   ]
  },
  {
   "cell_type": "markdown",
   "metadata": {},
   "source": [
    "## Pattern 7: Find the maximum in Bitonic array\n",
    "\n",
    "Find the maximum value in a given Bitonic array. An array is considered bitonic if it is first monotonically increasing and then monotonically decreasing.\n",
    "\n",
    "In other words, a bitonic array starts with a sequence of increasing elements, reaches a peak element, and then follows with a sequence of decreasing elements. The peak element is the maximum value in the array.\n",
    "\n",
    "\n",
    "**APPROACH**\n",
    "we have two cases\n",
    "- arr[mid] < arr[mid+1] this means that we are in the increasing sequence so we will update start = mid+1\n",
    "- arr[mid] > arr[mid + 1] this means that we are in the decreasing sequence so we will set the end = mid since the max will be at right side.\n",
    "- our answer will be at start == end"
   ]
  },
  {
   "cell_type": "code",
   "execution_count": 86,
   "metadata": {},
   "outputs": [
    {
     "data": {
      "text/plain": [
       "16"
      ]
     },
     "execution_count": 86,
     "metadata": {},
     "output_type": "execute_result"
    }
   ],
   "source": [
    "def max_bitonic_array(arr):\n",
    "    start= 0\n",
    "    end = len(arr) -1\n",
    "\n",
    "    while start != end:\n",
    "        mid = (start+end)//2\n",
    "        if arr[mid] > arr[mid+1]:\n",
    "            end = mid\n",
    "        elif arr[mid] < arr[mid+1]:\n",
    "            start = mid+1\n",
    "    return arr[start]\n",
    "\n",
    "arr = [1,3,8,12,16,4,2,]\n",
    "max_bitonic_array(arr)"
   ]
  },
  {
   "cell_type": "markdown",
   "metadata": {},
   "source": [
    "## Pattern 8: Search in Bitonic array\n",
    "\n",
    "https://www.designgurus.io/course-play/grokking-the-coding-interview/doc/problem-challenge-1-search-bitonic-array-medium\n",
    "\n",
    "Given a Bitonic array, find if a given ‘key’ is present in it. An array is considered bitonic if it is first monotonically increasing and then monotonically decreasing.\n",
    "\n",
    "**APPROACH**\n",
    "We will find the max in the bitonic array and then we will divide the array into two parts increasing and decreasing. \n",
    "we will search both the parts.\n"
   ]
  },
  {
   "cell_type": "code",
   "execution_count": 87,
   "metadata": {},
   "outputs": [
    {
     "data": {
      "text/plain": [
       "3"
      ]
     },
     "execution_count": 87,
     "metadata": {},
     "output_type": "execute_result"
    }
   ],
   "source": [
    "def bitonic_max(arr):\n",
    "    start = 0\n",
    "    end = len(arr) - 1\n",
    "\n",
    "    while start != end:\n",
    "        mid = (start + end)//2\n",
    "\n",
    "        if arr[mid] > arr[mid+1]:\n",
    "            end = mid\n",
    "        else:\n",
    "            start = mid+1\n",
    "    return start\n",
    "\n",
    "def binary_search(arr, target):\n",
    "    start= 0\n",
    "    end =len(arr)-1\n",
    "\n",
    "    while start<=end:\n",
    "        mid = (start+end)//2\n",
    "        if arr[mid]==target:\n",
    "            return mid\n",
    "        elif arr[mid] >  target:\n",
    "            end = mid-1\n",
    "        else:\n",
    "            start = mid +1\n",
    "    return -1\n",
    "\n",
    "def search_bitonic(arr, target):\n",
    "    max_index= bitonic_max(arr)\n",
    "\n",
    "    increasing = arr[:max_index+1]\n",
    "    decreasing = arr[max_index+1:]\n",
    "\n",
    "    left =  binary_search(increasing, target)\n",
    "    if left != -1:\n",
    "        return left\n",
    "    else:\n",
    "        right = binary_search(decreasing, target)\n",
    "        return len(increasing) + right\n",
    "\n",
    "arr=  [1, 3, 8, 4, 3]\n",
    "target = 4\n",
    "search_bitonic(arr, target)\n",
    "\n",
    "\n",
    "    "
   ]
  },
  {
   "cell_type": "markdown",
   "metadata": {},
   "source": [
    "## Pattern 9: Search in Rotated array\n",
    "\n",
    "Given an array of numbers which is sorted in ascending order and also rotated by some arbitrary number, find if a given ‘key’ is present in it.\n",
    "\n",
    "Write a function to return the index of the ‘key’ in the rotated array. If the ‘key’ is not present, return -1. You can assume that the given array does not have any duplicates.\n",
    "\n",
    "Note: You need to solve the problem in  time complexity.\n",
    "\n",
    "Input: [10, 15, 1, 3, 8], key = 15\n",
    "Output: 1\n",
    "Explanation: '15' is present in the array at index '1'.\n",
    "\n",
    "[4, 5, 7, 9, 10, -1, 2], key = 10\n",
    "\n",
    "\n",
    "**APPROACH**\n",
    "After comparing the arr[mid]==key. we have to compare the start and the mid.\n",
    "\n",
    "- if arr[start] <= arr[mid] it means that the left part is sorted. \n",
    "- if arr[start] > arr[mid] it means that the right part is sorted. \n",
    "\n",
    "for both the above case we have two scenarios: \n",
    "\n",
    "**CASE 1** If arr[start] <= arr[mid]:\n",
    "\n",
    "    - if arr[start] <= target and target < arr[mid]: # it means the value lies in this left sorted path\n",
    "        end = mid -1\n",
    "    - else : (arr[start] > target or arr[mid] < target)\n",
    "        start = mid +1\n",
    "    \n",
    "**CASE 2** if arr[start] > arr[mid]: right part is sorted:\n",
    "\n",
    "    - if arr[mid] < target and arr[end] > target:\n",
    "        start = mid+1\n",
    "        the value lies in the sorted part\n",
    "        \n",
    "    - else:\n",
    "    the value does not lie in the sorted part\n",
    "        end = mid -1\n",
    "\n",
    "\n"
   ]
  },
  {
   "cell_type": "code",
   "execution_count": null,
   "metadata": {},
   "outputs": [
    {
     "data": {
      "text/plain": [
       "4"
      ]
     },
     "execution_count": 95,
     "metadata": {},
     "output_type": "execute_result"
    }
   ],
   "source": [
    "def search_rotated(arr, target):\n",
    "    start = 0\n",
    "    end = len(arr) - 1\n",
    "\n",
    "    while start <= end:\n",
    "        mid = (start + end)//2\n",
    "        if arr[mid] == target:\n",
    "            return mid\n",
    "\n",
    "        if arr[start] <= arr[mid]: # left part is sorted\n",
    "            if arr[start] <= target and target < arr[mid]:\n",
    "                end = mid -1\n",
    "            else:\n",
    "                start = mid+1\n",
    "            pass\n",
    "        else: # right part is sorted\n",
    "            if arr[mid] < target and arr[end] >= target:\n",
    "                start = mid +1\n",
    "            else:\n",
    "                end = mid -1\n",
    "        \n",
    "    return -1\n",
    "\n",
    "# arr =[10, 15, 1, 3, 8]\n",
    "arr = [4, 5, 7, 9, 10, -1, 2]\n",
    "target = 10\n",
    "# target = 8\n",
    "search_rotated(arr, target)\n"
   ]
  },
  {
   "cell_type": "markdown",
   "metadata": {},
   "source": [
    "## Pattern 10: Minimum in rotated sorted array\n",
    "\n",
    "https://leetcode.com/problems/find-minimum-in-rotated-sorted-array/editorial/?envType=study-plan-v2&envId=binary-search"
   ]
  },
  {
   "cell_type": "code",
   "execution_count": null,
   "metadata": {},
   "outputs": [],
   "source": [
    "class Solution:\n",
    "    def findMin(self, nums: List[int]) -> int:\n",
    "        start = 0\n",
    "        end = len(nums) - 1\n",
    "\n",
    "        if nums[0] <= nums[end]:\n",
    "            return nums[0]\n",
    "\n",
    "        \n",
    "\n",
    "        while start <= end :\n",
    "            mid = start + (end-start)//2\n",
    "\n",
    "            if nums[mid] > nums[mid+1]:\n",
    "                return nums[mid+1]\n",
    "            \n",
    "            if nums[mid] < nums[mid-1]:\n",
    "                return nums[mid]\n",
    "\n",
    "            if nums[mid] > nums[start]:\n",
    "                start = mid + 1\n",
    "            else:\n",
    "                end = mid -1\n",
    "\n",
    "        return -1 \n",
    "\n",
    "\n",
    "\n",
    "\n",
    "        # low=0\n",
    "        # high=len(nums)-1\n",
    "        # m=float(\"inf\")\n",
    "        # while low<=high:\n",
    "        #     if nums[low]<=nums[high]:\n",
    "        #         m=min(m, nums[low])\n",
    "        #         return m\n",
    "        #     mid=(low+high)//2\n",
    "            \n",
    "        #     if nums[low] <= nums[mid]: #left half is sorted\n",
    "        #         m = min(m , nums[low])\n",
    "        #         low = mid+1 #discard the left half\n",
    "        #     else: #right half is sorted\n",
    "        #         m= min(m, nums[mid])\n",
    "        #         high = mid - 1 #discard the right half\n",
    "            \n",
    "        # return m\n",
    "        "
   ]
  },
  {
   "cell_type": "markdown",
   "metadata": {},
   "source": [
    "## Pattern 11: Minimum in sorted roatated array 2 (Conatins duplicate)\n",
    "\n",
    "https://leetcode.com/problems/find-minimum-in-rotated-sorted-array-ii/editorial/?envType=study-plan-v2&envId=binary-search"
   ]
  },
  {
   "cell_type": "code",
   "execution_count": null,
   "metadata": {},
   "outputs": [],
   "source": [
    "class Solution:\n",
    "    def findMin(self, nums: List[int]) -> int:\n",
    "        start = 0\n",
    "        end = len(nums) - 1\n",
    "\n",
    "        if nums[0] < nums[end]:\n",
    "            return nums[0]\n",
    "\n",
    "        while start <= end:\n",
    "            mid = (start + end)//2\n",
    "\n",
    "            #case1 : mid value is greater than the end value \n",
    "            # then the minimum would be on right\n",
    "            if nums[mid] < nums[end]:\n",
    "                end = mid\n",
    "            # alternative: high = pivot - 1\n",
    "            # too aggressive to move the `high` index,\n",
    "            # it won't work for the test case of [3, 1, 3]\n",
    "        \n",
    "            #case 2: mid value is smaller than the end value means we will have the min on right\n",
    "            elif nums[mid] > nums[end]:\n",
    "                start = mid + 1\n",
    "            \n",
    "            #case 3: both the values are equal. arr[mid] == arr[end]\n",
    "            # In this case, we are not sure which side of the pivot that the desired minimum element would reside\n",
    "            else:\n",
    "                end -= 1\n",
    "            # we will gradually reduce the value of end\n",
    "\n",
    "        return nums[start]"
   ]
  },
  {
   "cell_type": "markdown",
   "metadata": {},
   "source": [
    "# 2 D Array"
   ]
  },
  {
   "cell_type": "markdown",
   "metadata": {},
   "source": [
    "## Pattern 1: Search in 2 D array \n",
    "\n",
    "You are given an m x n integer matrix matrix with the following two properties:\n",
    "\n",
    "Each row is sorted in non-decreasing order.\n",
    "The first integer of each row is greater than the last integer of the previous row.\n",
    "Given an integer target, return true if target is in matrix or false otherwise.\n",
    "\n",
    "You must write a solution in O(log(m * n)) time complexity.\n",
    "\n",
    "matrix = [[1,3,5,7],[10,11,16,20],[23,30,34,60]], target = 3\n",
    "\n",
    "**APPROACH**\n",
    "We have the sorted elements in the array. \n",
    "so if we consider this matrix as an array but not actually converting it into an array. then we can apply binary search.\n",
    "\n",
    "- Start = 0, end  = n*m -1, find mid = (start+end)//2\n",
    "- we have 2D array but mid will be a single value so we have to determin the row and col.\n",
    "- row = mid // n and col = mid % n (where n is number of columns)\n",
    "- apply binary search"
   ]
  },
  {
   "cell_type": "code",
   "execution_count": 99,
   "metadata": {},
   "outputs": [
    {
     "data": {
      "text/plain": [
       "True"
      ]
     },
     "execution_count": 99,
     "metadata": {},
     "output_type": "execute_result"
    }
   ],
   "source": [
    "def search_2D_array(matrix, target):\n",
    "    m = len(matrix)\n",
    "    n = len(matrix[0])\n",
    "\n",
    "    start = 0\n",
    "    end = (n*m) -1\n",
    "\n",
    "    while start <= end:\n",
    "        mid = (start+end)//2\n",
    "        row = mid // n\n",
    "        col = mid % n\n",
    "        if matrix[row][col] == target:\n",
    "            return True\n",
    "\n",
    "        elif matrix[row][col] > target:\n",
    "            end = mid -1\n",
    "        else:\n",
    "            start = mid + 1\n",
    "\n",
    "    return False\n",
    "\n",
    "matrix = [[1,3,5,7],[10,11,16,20],[23,30,34,60]]\n",
    "target = 3\n",
    "search_2D_array(matrix, target)\n"
   ]
  },
  {
   "cell_type": "markdown",
   "metadata": {},
   "source": [
    "# Binary Search on Answer : VVV IMP"
   ]
  },
  {
   "cell_type": "markdown",
   "metadata": {},
   "source": [
    "## Pattern 1: Koko eating banana\n",
    "\n",
    "https://leetcode.com/problems/koko-eating-bananas/description/\n",
    "\n",
    "**APPROACH**\n",
    "\n",
    "The minimum banana per hour will be 1 and the max will be max(piles). but we have to find the minimum k for which hours is less than given hours. \n",
    "\n",
    "We have to apply the binary search on the answer range. \n",
    "k: 1 --> max(piles)\n",
    "for each k we will calculate the number of hours and we have to return the min.\n",
    "\n",
    "**ALGORITHM**\n",
    "- Create a function which calculates the number of hours required for koko to eat the banana. \n",
    "- We have to then select the k value using the binary search on the range of 1-->k.\n",
    "- for each value we will calculate the hours and return the min of k for which hours is less than equal to h."
   ]
  },
  {
   "cell_type": "code",
   "execution_count": null,
   "metadata": {},
   "outputs": [
    {
     "name": "stdout",
     "output_type": "stream",
     "text": [
      "8 15\n",
      "6 23\n",
      "8 19\n",
      "7 21\n",
      "7 22\n"
     ]
    },
    {
     "data": {
      "text/plain": [
       "23"
      ]
     },
     "execution_count": 105,
     "metadata": {},
     "output_type": "execute_result"
    }
   ],
   "source": [
    "def calculate_hours(piles, k):\n",
    "    hours = 0\n",
    "    for element in piles:\n",
    "        rem = element % k\n",
    "        if rem == 0:\n",
    "            hours += element//k\n",
    "        else:\n",
    "            hours += (1 + element//k)\n",
    "    return hours\n",
    "\n",
    "def find_k(piles, h):\n",
    "    start = 1\n",
    "    end = max(piles)\n",
    "    ans = float(\"inf\")\n",
    "    while start <= end:\n",
    "        mid = (start + end)//2\n",
    "        hours = calculate_hours(piles, mid)\n",
    "        print(hours, mid)\n",
    "\n",
    "        if hours <= h:\n",
    "            ans = min(mid, ans)\n",
    "            end = mid - 1\n",
    "        else:\n",
    "            start = mid + 1\n",
    "    return ans\n",
    "\n",
    "piles = [3,6,7,11]\n",
    "h = 8\n",
    "piles = [30,11,23,4,20]\n",
    "h = 5\n",
    "piles = [30,11,23,4,20]\n",
    "h = 6\n",
    "find_k(piles, h)\n",
    "\n"
   ]
  },
  {
   "cell_type": "markdown",
   "metadata": {},
   "source": [
    "# Pattern 2:  Capacity To Ship Packages Within D Days (Based on koko eating)\n",
    "\n",
    "https://leetcode.com/problems/capacity-to-ship-packages-within-d-days/description/?envType=study-plan-v2&envId=binary-search\n",
    "\n",
    "we have to calculate the number of days required for each capacity.\n",
    "the capacity will may vary from the **max_element** to the **sum of weights**\n",
    "\n",
    "**WHY MAX for the start ?**\n",
    "Because we cant take a value on the ship if the capacity weight of the ship is less than the packaage weight"
   ]
  },
  {
   "cell_type": "code",
   "execution_count": null,
   "metadata": {},
   "outputs": [
    {
     "name": "stdout",
     "output_type": "stream",
     "text": [
      "1 1\n",
      "2 2\n",
      "3 3\n"
     ]
    },
    {
     "data": {
      "text/plain": [
       "4"
      ]
     },
     "execution_count": 120,
     "metadata": {},
     "output_type": "execute_result"
    }
   ],
   "source": [
    "class Solution:\n",
    "    def days_calculation(self, weights, w):\n",
    "        s = 0\n",
    "        day = 0\n",
    "        for i in range(len(weights)):\n",
    "            if s + weights[i] <= w:\n",
    "                s += weights[i]\n",
    "            else:\n",
    "                day += 1\n",
    "                s = weights[i]\n",
    "        if s != 0:\n",
    "            return day +1\n",
    "        return day\n",
    "    def shipWithinDays(self, weights: List[int], days: int) -> int:\n",
    "        start = max(weights)\n",
    "        end = sum(weights) #55\n",
    "        ans = float(\"inf\")\n",
    "        while start <= end :\n",
    "            mid = (start + end)//2\n",
    "            calculated_day = self.days_calculation(weights, mid)\n",
    "            print(calculated_day, mid)\n",
    "            if calculated_day <= days:\n",
    "                ans = min(mid, ans)\n",
    "                end = mid-1\n",
    "            else:\n",
    "                start = mid + 1\n",
    "\n",
    "        return ans\n",
    "    "
   ]
  },
  {
   "cell_type": "code",
   "execution_count": null,
   "metadata": {},
   "outputs": [
    {
     "name": "stdout",
     "output_type": "stream",
     "text": [
      "7\n"
     ]
    },
    {
     "ename": "",
     "evalue": "",
     "output_type": "error",
     "traceback": [
      "\u001b[1;31mThe Kernel crashed while executing code in the current cell or a previous cell. \n",
      "\u001b[1;31mPlease review the code in the cell(s) to identify a possible cause of the failure. \n",
      "\u001b[1;31mClick <a href='https://aka.ms/vscodeJupyterKernelCrash'>here</a> for more info. \n",
      "\u001b[1;31mView Jupyter <a href='command:jupyter.viewOutput'>log</a> for further details."
     ]
    }
   ],
   "source": [
    "def calculate_div_sum(nums, div):\n",
    "    s = 0\n",
    "    for i in range(len(nums)):\n",
    "        rem = nums[i] % div\n",
    "        if rem == 0:\n",
    "            s += (nums[i] //div)\n",
    "        else:\n",
    "            s = s + (nums[i] //div) + 1\n",
    "    return s\n",
    "\n",
    "print(calculate_div_sum([44,33,22,11,1], 23))"
   ]
  },
  {
   "cell_type": "code",
   "execution_count": null,
   "metadata": {},
   "outputs": [
    {
     "data": {
      "text/plain": [
       "24"
      ]
     },
     "execution_count": 1,
     "metadata": {},
     "output_type": "execute_result"
    },
    {
     "ename": "",
     "evalue": "",
     "output_type": "error",
     "traceback": [
      "\u001b[1;31mThe Kernel crashed while executing code in the current cell or a previous cell. \n",
      "\u001b[1;31mPlease review the code in the cell(s) to identify a possible cause of the failure. \n",
      "\u001b[1;31mClick <a href='https://aka.ms/vscodeJupyterKernelCrash'>here</a> for more info. \n",
      "\u001b[1;31mView Jupyter <a href='command:jupyter.viewOutput'>log</a> for further details."
     ]
    }
   ],
   "source": [
    "(17 + 32)//2"
   ]
  },
  {
   "cell_type": "code",
   "execution_count": 1,
   "metadata": {},
   "outputs": [
    {
     "name": "stdout",
     "output_type": "stream",
     "text": [
      "2\n"
     ]
    }
   ],
   "source": [
    "# Import math library\n",
    "import math\n",
    "\n",
    "# Round a number upward to its nearest integer\n",
    "print(math.ceil(1.4))"
   ]
  },
  {
   "cell_type": "code",
   "execution_count": 3,
   "metadata": {},
   "outputs": [
    {
     "data": {
      "text/plain": [
       "6"
      ]
     },
     "execution_count": 3,
     "metadata": {},
     "output_type": "execute_result"
    }
   ],
   "source": [
    "def total_hours(dist, speed):\n",
    "    hours = 0\n",
    "    for i in range(len(dist)):\n",
    "        hours += math.ceil(dist[i]/speed)\n",
    "    return hours\n",
    "\n",
    "dist =[1,3,2]\n",
    "total_hours(dist, 1)"
   ]
  },
  {
   "cell_type": "code",
   "execution_count": null,
   "metadata": {},
   "outputs": [],
   "source": []
  }
 ],
 "metadata": {
  "kernelspec": {
   "display_name": "base",
   "language": "python",
   "name": "python3"
  },
  "language_info": {
   "codemirror_mode": {
    "name": "ipython",
    "version": 3
   },
   "file_extension": ".py",
   "mimetype": "text/x-python",
   "name": "python",
   "nbconvert_exporter": "python",
   "pygments_lexer": "ipython3",
   "version": "3.11.7"
  }
 },
 "nbformat": 4,
 "nbformat_minor": 2
}
