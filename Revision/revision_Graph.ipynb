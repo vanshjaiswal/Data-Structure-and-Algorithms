{
 "cells": [
  {
   "cell_type": "markdown",
   "metadata": {},
   "source": [
    "# Graph\n"
   ]
  },
  {
   "cell_type": "markdown",
   "metadata": {},
   "source": [
    "### Adjacency matrix - \n",
    "\n",
    "Space - O(n^2)\n",
    "\n",
    "\n",
    "n = number of nodes\n",
    "m = number of edges\n",
    "\n",
    "edge[] = array containing the edges\n",
    "\n",
    "edge[i] = [[u,v]] means there is an edge between the node u and v"
   ]
  },
  {
   "cell_type": "markdown",
   "metadata": {},
   "source": []
  },
  {
   "cell_type": "code",
   "execution_count": 1,
   "metadata": {},
   "outputs": [
    {
     "data": {
      "text/plain": [
       "[[0, 0, 0, 0, 0, 0],\n",
       " [0, 0, 1, 1, 0, 0],\n",
       " [0, 1, 0, 0, 1, 0],\n",
       " [0, 1, 0, 0, 1, 1],\n",
       " [0, 0, 1, 1, 0, 1],\n",
       " [0, 0, 0, 1, 1, 0]]"
      ]
     },
     "execution_count": 1,
     "metadata": {},
     "output_type": "execute_result"
    }
   ],
   "source": [
    "# Adjacency matrix for unweighted undirected graph\n",
    "\n",
    "n=5\n",
    "m=6\n",
    "edges= [(1,2), (1,3), (2,4), (3,4), (3,5), (4,5)]\n",
    "\n",
    "def adjacency_matrix(n, edges):\n",
    "    adj_mat = [[0 for i in range(n+1)] for j in range(n+1)]\n",
    "\n",
    "    for (i,j) in edges:\n",
    "        adj_mat[i][j] = 1\n",
    "        adj_mat[j][i] = 1\n",
    "    return adj_mat\n",
    "\n",
    "adjacency_matrix(n, edges)"
   ]
  },
  {
   "cell_type": "code",
   "execution_count": 5,
   "metadata": {},
   "outputs": [
    {
     "data": {
      "text/plain": [
       "[[0, 0, 0, 0, 0, 0],\n",
       " [0, 0, 2, 3, 0, 0],\n",
       " [0, 2, 0, 0, 1, 0],\n",
       " [0, 3, 0, 0, 4, 2],\n",
       " [0, 0, 1, 4, 0, 1],\n",
       " [0, 0, 0, 2, 1, 0]]"
      ]
     },
     "execution_count": 5,
     "metadata": {},
     "output_type": "execute_result"
    }
   ],
   "source": [
    "# Adjacency matrix for weighted undirected graph\n",
    "\n",
    "n=5\n",
    "m=6\n",
    "weighted_edges = [(1,2,2), (1,3,3), (2,4,1), (3,4,4), (3,5,2), (4,5,1)]  #(u, v, w)\n",
    "\n",
    "\n",
    "def adjacency_matrix(n, edges):\n",
    "    adj_mat = [[0 for i in range(n+1)] for j in range(n+1)]\n",
    "\n",
    "    for (i,j, wt) in weighted_edges:\n",
    "        adj_mat[i][j] = wt\n",
    "        adj_mat[j][i] = wt\n",
    "    return adj_mat\n",
    "\n",
    "adjacency_matrix(n, weighted_edges)"
   ]
  },
  {
   "cell_type": "code",
   "execution_count": 6,
   "metadata": {},
   "outputs": [
    {
     "data": {
      "text/plain": [
       "[[0, 0, 0, 0, 0, 0],\n",
       " [0, 0, 1, 1, 0, 0],\n",
       " [0, 0, 0, 0, 1, 0],\n",
       " [0, 0, 0, 0, 1, 1],\n",
       " [0, 0, 0, 0, 0, 1],\n",
       " [0, 0, 0, 0, 0, 0]]"
      ]
     },
     "execution_count": 6,
     "metadata": {},
     "output_type": "execute_result"
    }
   ],
   "source": [
    "# Adjacency matrix for unweighted directed graph\n",
    "\n",
    "n=5\n",
    "m=6\n",
    "edges= [(1,2), (1,3), (2,4), (3,4), (3,5), (4,5)]\n",
    "\n",
    "def adjacency_matrix(n, edges):\n",
    "    adj_mat = [[0 for i in range(n+1)] for j in range(n+1)]\n",
    "\n",
    "    for (i,j) in edges:\n",
    "        adj_mat[i][j] = 1\n",
    "        \n",
    "    return adj_mat\n",
    "\n",
    "adjacency_matrix(n, edges)"
   ]
  },
  {
   "cell_type": "markdown",
   "metadata": {},
   "source": [
    "### Adjacency List\n",
    "\n",
    "We are going to use the adjacency list over the adjacency matrix because it will take less space\n",
    "Space Complexity: O(2*E)\n",
    "\n",
    "0 - []\n",
    "\n",
    "1 - [2,3]\n",
    "\n",
    "2 - [1,4]"
   ]
  },
  {
   "cell_type": "code",
   "execution_count": 14,
   "metadata": {},
   "outputs": [
    {
     "data": {
      "text/plain": [
       "{0: [], 1: [2, 3], 2: [1, 4], 3: [1, 4, 5], 4: [2, 3, 5], 5: [3, 4]}"
      ]
     },
     "execution_count": 14,
     "metadata": {},
     "output_type": "execute_result"
    }
   ],
   "source": [
    "# Adjcency list for undirected graph\n",
    "def adjacency_list(n, edges):\n",
    "    adj_list = {}\n",
    "\n",
    "    for i in range(n+1):\n",
    "        adj_list[i] = []\n",
    "\n",
    "    for (i,j) in edges:\n",
    "        adj_list[i].append(j)\n",
    "        adj_list[j].append(i)\n",
    "    return adj_list\n",
    "\n",
    "n=5\n",
    "m=6\n",
    "edges= [(1,2), (1,3), (2,4), (3,4), (3,5), (4,5)]\n",
    "adjacency_list(n ,edges)\n",
    "    "
   ]
  },
  {
   "cell_type": "code",
   "execution_count": 15,
   "metadata": {},
   "outputs": [
    {
     "data": {
      "text/plain": [
       "{0: [], 1: [2, 3], 2: [4], 3: [4, 5], 4: [5], 5: []}"
      ]
     },
     "execution_count": 15,
     "metadata": {},
     "output_type": "execute_result"
    }
   ],
   "source": [
    "# Adjcency list for directed graph\n",
    "def adjacency_list(n, edges):\n",
    "    adj_list = {}\n",
    "\n",
    "    for i in range(n+1):\n",
    "        adj_list[i] = []\n",
    "\n",
    "    for (i,j) in edges:\n",
    "        adj_list[i].append(j)\n",
    "        \n",
    "    return adj_list\n",
    "\n",
    "n=5\n",
    "m=6\n",
    "edges= [(1,2), (1,3), (2,4), (3,4), (3,5), (4,5)]\n",
    "adjacency_list(n ,edges)"
   ]
  },
  {
   "cell_type": "code",
   "execution_count": 17,
   "metadata": {},
   "outputs": [
    {
     "data": {
      "text/plain": [
       "{0: [],\n",
       " 1: [(2, 2), (3, 3)],\n",
       " 2: [(1, 2), (4, 1)],\n",
       " 3: [(1, 3), (4, 4), (5, 2)],\n",
       " 4: [(2, 1), (3, 4), (5, 1)],\n",
       " 5: [(3, 2), (4, 1)]}"
      ]
     },
     "execution_count": 17,
     "metadata": {},
     "output_type": "execute_result"
    }
   ],
   "source": [
    "# Adjcency list for weighted undirected graph\n",
    "def adjacency_list(n, edges):\n",
    "    adj_list = {}\n",
    "\n",
    "    for i in range(n+1):\n",
    "        adj_list[i] = []\n",
    "\n",
    "    for (i,j, wt) in weighted_edges:\n",
    "        adj_list[i].append((j,wt))\n",
    "        adj_list[j].append((i,wt))\n",
    "    return adj_list\n",
    "\n",
    "n=5\n",
    "m=6\n",
    "weighted_edges = [(1,2,2), (1,3,3), (2,4,1), (3,4,4), (3,5,2), (4,5,1)]  #(u, v, w)\n",
    "adjacency_list(n ,weighted_edges)"
   ]
  },
  {
   "cell_type": "markdown",
   "metadata": {},
   "source": [
    "# BFS - Breadth First Search\n",
    "\n",
    "In BFS we traverse the graph level wise. L0, L1, L2 ...\n",
    "At L0 we always have 1 node. which is starting node.\n",
    "\n",
    "### Approach\n",
    "- Create the adjacency list\n",
    "- Queue DS: Follows FIFO and will always return starting\n",
    "- visited array - initialized to zero and keep track of the node which is already visited\n",
    "- In BFS, We start from the starting node, marked it as visited and put it into the queue.\n",
    "- In every iteration we pop out the node u from queue and append it in our answer.\n",
    "- Then we put all the neighbour node of u inside the queue.\n",
    "- Repeat the above step untill queue is empty"
   ]
  },
  {
   "cell_type": "code",
   "execution_count": 33,
   "metadata": {},
   "outputs": [
    {
     "name": "stdout",
     "output_type": "stream",
     "text": [
      "adjacency list:  {0: [], 1: [2, 6], 2: [1, 3, 4], 3: [2], 4: [2, 5], 5: [4, 8], 6: [1, 7, 9], 7: [6, 8], 8: [7, 5], 9: [6]}\n"
     ]
    },
    {
     "data": {
      "text/plain": [
       "[1, 2, 6, 1, 3, 4, 7, 9, 5, 8]"
      ]
     },
     "execution_count": 33,
     "metadata": {},
     "output_type": "execute_result"
    }
   ],
   "source": [
    "from collections import deque\n",
    "\n",
    "def adjacency_list(n, edges):\n",
    "    adj_list = {}\n",
    "    for i in range(n+1):\n",
    "        adj_list[i] = []\n",
    "    for (i,j) in edges:\n",
    "        adj_list[i].append(j)\n",
    "        adj_list[j].append(i)\n",
    "    \n",
    "    return adj_list\n",
    "\n",
    "def bfs(n, edges):\n",
    "    #starting node 0\n",
    "    adj_list = adjacency_list(n, edges)\n",
    "    print(\"adjacency list: \", adj_list)\n",
    "    #create a queue ds\n",
    "    q = deque()\n",
    "\n",
    "    #append starting node. if starting node is 0 then append 0 if it is 1 then append 1\n",
    "    q.append(1)\n",
    "\n",
    "    #create the visited array\n",
    "    visited_array= [0] * (n+1)\n",
    "\n",
    "    #mark starting node as visisted\n",
    "    visited_array[0] =  1\n",
    "\n",
    "    #create the answer array for storing the traversal\n",
    "    ans = []\n",
    "\n",
    "    #while q is not empty we will run the loop\n",
    "    while q:\n",
    "        #pop the first element\n",
    "        node = q.popleft()\n",
    "        \n",
    "        #append the popped element in the answer\n",
    "        ans.append(node)\n",
    "\n",
    "        #get the neighbouring node of the popped element from the adj list\n",
    "        neighbours = adj_list[node]\n",
    "\n",
    "        #add all the elements of neighbour list into the queeu\n",
    "        for i in neighbours:\n",
    "            #before appending the node in the queue we have to check whethere they are already visited or not\n",
    "            if visited_array[i] != 1:\n",
    "                #mark the node visited\n",
    "                visited_array[i] = 1\n",
    "                #append the node in the queue\n",
    "                q.append(i)\n",
    "                \n",
    "    #return the answer\n",
    "    return ans\n",
    "\n",
    "n=9\n",
    "\n",
    "edges= [(1,2), (1,6), (2,3),(2,4),(6,7),(6,9),(4,5),(7,8),(5,8)]\n",
    "bfs(n ,edges)\n",
    "        "
   ]
  },
  {
   "cell_type": "markdown",
   "metadata": {},
   "source": [
    "# DFS -  Depth First Search\n",
    "\n",
    "This is similar to backtracking.\n",
    "\n",
    "**APPROACH**\n",
    "\n",
    "- In DFS, we start from node v and then we mark it as visited and store it in the ans list. \n",
    "- Take the adjacent nodes of v from adj_list and then we run through all the adjacent nodes and call the recursive dfs function to explore the node v which has not been visited previously.\n",
    "- Run a for loop on the neighbour of the node and then mark it as visisted and call the dfs for all its neighbouring nodes. \n",
    "\n"
   ]
  },
  {
   "cell_type": "code",
   "execution_count": 57,
   "metadata": {},
   "outputs": [
    {
     "data": {
      "text/plain": [
       "[0, 1, 2, 3, 4, 5, 8, 7, 6, 9]"
      ]
     },
     "execution_count": 57,
     "metadata": {},
     "output_type": "execute_result"
    }
   ],
   "source": [
    "def adjacency_list(n, edges):\n",
    "    adj_list = {}\n",
    "    for i in range(n+1):\n",
    "        adj_list[i] = []\n",
    "    for (i,j) in edges:\n",
    "        adj_list[i].append(j)\n",
    "        adj_list[j].append(i)\n",
    "    \n",
    "    return adj_list\n",
    "\n",
    "def dfs (node, ans, visited, adj_list):\n",
    "    adj_list  = adjacency_list(n, edges)\n",
    "\n",
    "    ans.append(node)\n",
    "    visited[node] = 1\n",
    "\n",
    "    neighbours = adj_list[node]\n",
    "    for i in neighbours:\n",
    "        if visited[i] != 1:\n",
    "            dfs(i, ans, visited, adj_list)\n",
    "\n",
    "    return ans\n",
    "\n",
    "def dfs_driver(n, edges):\n",
    "    visited = [0] * (n+1)\n",
    "    ans = []\n",
    "    adj_list =  adjacency_list(n, edges)\n",
    "    dfs(0, ans, visited, adj_list)\n",
    "    return ans\n",
    "\n",
    "n=9\n",
    "\n",
    "edges= [(0,1), (1,2), (1,6), (2,3),(2,4),(6,7),(6,9),(4,5),(7,8),(5,8)]\n",
    "dfs_driver(n ,edges)\n"
   ]
  },
  {
   "cell_type": "markdown",
   "metadata": {},
   "source": [
    "### Pattern 1: Number of province\n",
    "\n",
    "https://leetcode.com/problems/number-of-provinces/\n",
    "\n",
    "Input: isConnected = [[1,1,0],[1,1,0],[0,0,1]]\n",
    "Output: 2\n",
    "\n",
    "**APPROACH**\n",
    "\n",
    "Every city is connected with itself. isConnected[i][j] =1 when i==j. ith city is connected with jth cith if isConnected[i][j] =1 else 0.\n",
    "So we have to build the connected graph based on the city given. \n",
    "len(isConnected) will be the total number of the nodes == city. \n"
   ]
  },
  {
   "cell_type": "code",
   "execution_count": 61,
   "metadata": {},
   "outputs": [
    {
     "data": {
      "text/plain": [
       "2"
      ]
     },
     "execution_count": 61,
     "metadata": {},
     "output_type": "execute_result"
    }
   ],
   "source": [
    "from collections import deque\n",
    "def adjacency_list_Province(isConnected):\n",
    "    n = len(isConnected)\n",
    "    adj_list = {}\n",
    "    for i in range(n+1):\n",
    "        adj_list[i] = []\n",
    "\n",
    "    for i in range(n):\n",
    "        for connect in isConnected[i]:\n",
    "            if i==connect:\n",
    "                continue\n",
    "            adj_list[i].append(connect)\n",
    "    return adj_list\n",
    "\n",
    "def dfs(node, visited, ans, adj_list):\n",
    "    ans.append(node)\n",
    "    visited[node] = 1\n",
    "    neighbours = adj_list[node]\n",
    "\n",
    "    for i in neighbours:\n",
    "        if visited[i] != 1:\n",
    "            dfs(i, visited, ans, adj_list)\n",
    "    return ans\n",
    "def bfs_NumberOfProvince(node, adj_list, isConnected, visited, ans):\n",
    "\n",
    "    q = deque()\n",
    "    q.append(node)\n",
    "    \n",
    "    while q:\n",
    "        node = q.popleft()\n",
    "        ans.append(node)\n",
    "        neighbours = adj_list[node]\n",
    "\n",
    "        for i in neighbours:\n",
    "            if visited[i] !=1:\n",
    "                visited[i] =1\n",
    "                q.append(i)\n",
    "    return ans\n",
    "\n",
    "def NumberOfProvince(isConnected):\n",
    "    n=len(isConnected)\n",
    "    visited = [0] * (n)\n",
    "    adj_list = adjacency_list_Province(isConnected)\n",
    "    count =0 \n",
    "    ans = []\n",
    "    for i in range(n):\n",
    "        if visited[i] != 1:\n",
    "            count+=1\n",
    "            # dfs(i, visited, ans, adj_list)\n",
    "            bfs_NumberOfProvince(i, adj_list, isConnected, visited, ans)\n",
    "    return count\n",
    "\n",
    "\n",
    "\n",
    "isConnected = [[1,1,0],[1,1,0],[0,0,1]]\n",
    "NumberOfProvince(isConnected)\n"
   ]
  },
  {
   "cell_type": "markdown",
   "metadata": {},
   "source": [
    "### Problem 2 : Rotten Oranges\n",
    "\n",
    "In this problem at each time+1 4-directional oranges are getting rotten. So we will count the total fresh oraange and append the rotten one in the queue initially. \n",
    "The we will empty the queue by taking each rotten orange at a time. and reduce the size of the q. we also append the fresh orange which is rotten by the current node in the queue. and only consider it once the queue is empty.\n",
    "\n",
    "so we will need two while loop for this. \n",
    "\n"
   ]
  },
  {
   "cell_type": "code",
   "execution_count": 71,
   "metadata": {},
   "outputs": [
    {
     "data": {
      "text/plain": [
       "0"
      ]
     },
     "execution_count": 71,
     "metadata": {},
     "output_type": "execute_result"
    }
   ],
   "source": [
    "# Input: grid = [[2,1,1],[1,1,0],[0,1,1]]\n",
    "# Output: 4\n",
    "\n",
    "from collections import deque\n",
    "def rotten_oranges(grid):\n",
    "    n=len(grid)\n",
    "    m=len(grid[0])\n",
    "    count_fresh_oranges = 0\n",
    "    \n",
    "    time_taken = -1\n",
    "\n",
    "    q = deque()\n",
    "    visited = [[0 for i in range(m)] for j in range(n)]\n",
    "\n",
    "    for i in range(n):\n",
    "        for j in range(m):\n",
    "            if grid[i][j] ==1:\n",
    "                count_fresh_oranges += 1\n",
    "            elif grid[i][j] ==2:\n",
    "                # total_oranges +=1\n",
    "                # count_rotten += 1\n",
    "                q.append((i,j))\n",
    "                # visited[i][j] = 1\n",
    "    if count_fresh_oranges==0:\n",
    "        return 0\n",
    "\n",
    "    di = [-1, 0, 0, 1]\n",
    "    dj = [0, -1, 1, 0]\n",
    "\n",
    "    while q:\n",
    "        size = len(q)\n",
    "        while size > 0:\n",
    "            size -= 1\n",
    "            (row,col) = q.popleft()\n",
    "\n",
    "            for pos in range(4):\n",
    "                nrow = row + di[pos]\n",
    "                ncol = col + dj[pos]\n",
    "                if nrow >= 0 and nrow < n and ncol>=0 and ncol < m:\n",
    "                    if grid[nrow][ncol] == 1 and visited[nrow][ncol] != 1:\n",
    "                        visited[nrow][ncol] = 1\n",
    "                        q.append((nrow, ncol))\n",
    "                        count_fresh_oranges -= 1\n",
    "\n",
    "        time_taken +=1\n",
    "\n",
    "    if count_fresh_oranges == 0:\n",
    "        return time_taken\n",
    "    else:\n",
    "        return -1\n",
    "\n",
    "\n",
    "grid = [[2,1,1],[1,1,0],[0,1,1]]\n",
    "grid = [[0,2]]\n",
    "\n",
    "rotten_oranges(grid)\n",
    "    "
   ]
  },
  {
   "cell_type": "markdown",
   "metadata": {},
   "source": [
    "### Flood Fill\n",
    "\n",
    "Input: image = [[1,1,1],[1,1,0],[1,0,1]], sr = 1, sc = 1, color = 2\n",
    "\n",
    "Output: [[2,2,2],[2,2,0],[2,0,1]]\n"
   ]
  },
  {
   "cell_type": "code",
   "execution_count": 102,
   "metadata": {},
   "outputs": [
    {
     "data": {
      "text/plain": [
       "[[2, 2, 2], [2, 2, 0], [2, 0, 1]]"
      ]
     },
     "execution_count": 102,
     "metadata": {},
     "output_type": "execute_result"
    }
   ],
   "source": [
    "def dfs(i, j, color, arr, visited):\n",
    "    n=len(arr)\n",
    "    m=len(arr[0])\n",
    "    # print(\"before\", arr)\n",
    "    visited[i][j] = color\n",
    "    # print(\"after\", arr)\n",
    "    di = [-1, 0, 0, 1]  #ULRD\n",
    "    dj = [0, -1, 1, 0]\n",
    "\n",
    "    for pos in range(4):\n",
    "        nrow = i + di[pos]\n",
    "        ncol = j + dj[pos]\n",
    "        \n",
    "        if (nrow >= 0 and nrow < n and ncol >= 0 and ncol < m and arr[nrow][ncol] == arr[i][j] and visited[nrow][ncol]!=color) :\n",
    "            dfs(nrow, ncol,color, arr, visited)\n",
    "\n",
    "def dfs_driver(sr, sc, color, image):\n",
    "    n=len(image)\n",
    "    m=len(image[0])\n",
    "    # visited = image.copy()\n",
    "    # visited = [[] for i in range(n)]\n",
    "    # for i in range(n):\n",
    "    #     for j in range(m):\n",
    "    #         visited[i][j] = image[i][j]\n",
    "    visited = [[image[i][j] for j in range(m)] for image in range(n)]\n",
    "\n",
    "    \n",
    "    dfs(sr, sc, color, image, visited)\n",
    "    return visited\n",
    "\n",
    "image = [[1,1,1],[1,1,0],[1,0,1]]\n",
    "sr = 1\n",
    "sc = 1\n",
    "color = 2\n",
    "\n",
    "dfs_driver(sr, sc, color, image)\n",
    "\n"
   ]
  },
  {
   "cell_type": "markdown",
   "metadata": {},
   "source": [
    "# Detect Cycle in Undirected Graph - BFS\n",
    "\n",
    "We can detect the cycle using the DFS or BFS. \n",
    "\n",
    "The idea behind the cycle is that during traversal if a node is already marked visited it means there is some other path exist by which that node can be visisted which shows the graph is having the cycle "
   ]
  },
  {
   "cell_type": "code",
   "execution_count": null,
   "metadata": {},
   "outputs": [
    {
     "name": "stdout",
     "output_type": "stream",
     "text": [
      "{0: [], 1: [2, 3], 2: [1, 5], 3: [1, 4], 4: [3], 5: [2], 6: [7], 7: [6]}\n"
     ]
    },
    {
     "data": {
      "text/plain": [
       "False"
      ]
     },
     "execution_count": 3,
     "metadata": {},
     "output_type": "execute_result"
    },
    {
     "ename": "",
     "evalue": "",
     "output_type": "error",
     "traceback": [
      "\u001b[1;31mThe Kernel crashed while executing code in the current cell or a previous cell. \n",
      "\u001b[1;31mPlease review the code in the cell(s) to identify a possible cause of the failure. \n",
      "\u001b[1;31mClick <a href='https://aka.ms/vscodeJupyterKernelCrash'>here</a> for more info. \n",
      "\u001b[1;31mView Jupyter <a href='command:jupyter.viewOutput'>log</a> for further details."
     ]
    }
   ],
   "source": [
    "from collections import deque\n",
    "\n",
    "def adjacency_list(n, edges):\n",
    "    adj_list = {}\n",
    "    for i in range(n+1):\n",
    "        adj_list[i] = []\n",
    "    for (i,j) in edges:\n",
    "        adj_list[i].append(j)\n",
    "        adj_list[j].append(i)\n",
    "    \n",
    "    return adj_list\n",
    "\n",
    "def bfs(node, adj_list, visited):\n",
    "\n",
    "    q = deque()\n",
    "    q.append((node, -1))\n",
    "    visited[node] = 1\n",
    "\n",
    "    while q:\n",
    "        node, parent = q.popleft()\n",
    "\n",
    "        neighbours = adj_list[node]  #[2,3]\n",
    "        for connected_node in neighbours:\n",
    "            if connected_node == parent:\n",
    "                continue\n",
    "            if visited[connected_node]!= 1:\n",
    "                q.append((connected_node, node))\n",
    "                visited[connected_node] = 1\n",
    "            else:\n",
    "                return True\n",
    "            \n",
    "    return False\n",
    "def bfs_cycle_undirected_driver(n, edges):\n",
    "    adj_list =  adjacency_list(n, edges)\n",
    "    print(adj_list)\n",
    "    visited = [0] * (n+1)\n",
    "\n",
    "    for i in range(n):\n",
    "        if visited[i] != 1:\n",
    "            if bfs(i, adj_list, visited):\n",
    "                return True\n",
    "    return False\n",
    "\n",
    "edges = [(1,2), (1,3), (2,5), (6,7), (3,4)]\n",
    "\n",
    "# edges = [(1,2), (1,3), (3,4), (3,6), (2,5), (5,7), (6,7)]\n",
    "n=7\n",
    "\n",
    "bfs_cycle_undirected_driver(n, edges)\n"
   ]
  },
  {
   "cell_type": "markdown",
   "metadata": {},
   "source": [
    "# Detect cycle in Undirected graph-  DFS"
   ]
  },
  {
   "cell_type": "code",
   "execution_count": 116,
   "metadata": {},
   "outputs": [
    {
     "data": {
      "text/plain": [
       "True"
      ]
     },
     "execution_count": 116,
     "metadata": {},
     "output_type": "execute_result"
    }
   ],
   "source": [
    "def dfs(node, visited, parent, adj_list):\n",
    "    visited[node] = 1\n",
    "    neighbours = adj_list[node]\n",
    "\n",
    "    for current_node in neighbours:\n",
    "        if current_node ==  parent:\n",
    "            continue\n",
    "        if visited[current_node] != 1:\n",
    "            dfs(current_node, visited, node, adj_list)\n",
    "        else:\n",
    "            return True\n",
    "    return False\n",
    "\n",
    "def dfs_driver(n, edges):\n",
    "    adj_list = adjacency_list(n, edges)\n",
    "    visited = [0] * (n+1)\n",
    "\n",
    "    for i in range(n):\n",
    "        if visited[i] != 1:\n",
    "            if dfs(i, visited, -1, adj_list):\n",
    "                return True\n",
    "    return False\n",
    "\n",
    "\n",
    "edges = [(1,2), (1,3), (3,4), (3,6), (2,5), (5,7), (6,7)]\n",
    "n=7\n",
    "dfs_driver(n, edges)\n",
    "\n"
   ]
  },
  {
   "cell_type": "markdown",
   "metadata": {},
   "source": [
    "### 0-1 Matrix - BFS\n",
    "\n",
    "\n",
    "https://leetcode.com/problems/01-matrix/\n",
    "\n",
    "We have to calculate the distance of nearest 0 from each cell of the matrix.\n",
    "\n",
    "Since we have to calculate distance we can think of the BFS approach as it is based on the distance.\n",
    "\n",
    "We need one distance matrix initialized to 0 and visisted matrix.\n",
    "\n",
    "We have to append the coordinate as well as the steps in the q. ((i,j), step) and at each next level we have to increment the steps. \n",
    "\n",
    "Every 0 is at the step 0. so we will find all 0 and append it into the queue\n",
    "\n",
    "\n"
   ]
  },
  {
   "cell_type": "code",
   "execution_count": 128,
   "metadata": {},
   "outputs": [
    {
     "data": {
      "text/plain": [
       "[[0, 0, 0], [0, 1, 0], [1, 2, 1]]"
      ]
     },
     "execution_count": 128,
     "metadata": {},
     "output_type": "execute_result"
    }
   ],
   "source": [
    "def bfs_matrix(mat):\n",
    "    n=len(mat)\n",
    "    m=len(mat[0])\n",
    "\n",
    "    distance_matrix = [[0 for j in range(m)] for i in range(n)]\n",
    "    visited = [[0 for j in range(m)] for i in range(n)]\n",
    "\n",
    "    q = deque()\n",
    "    for i in range(n):\n",
    "        for j in range(m):\n",
    "            if mat[i][j] == 0:\n",
    "                q.append((i,j,0))\n",
    "                visited[i][j] = 1\n",
    "                distance_matrix[i][j] = 0\n",
    "\n",
    "    di = [-1, 0, 0, 1]\n",
    "    dj = [0, -1, 1, 0]\n",
    "\n",
    "    while q:\n",
    "        i, j, step = q.popleft()\n",
    "        \n",
    "\n",
    "        for pos in range(4):\n",
    "            nrow = i + di[pos]\n",
    "            ncol = j + dj[pos]\n",
    "\n",
    "            if nrow >= 0 and nrow < n and ncol >= 0 and ncol < m and visited[nrow][ncol] != 1 and mat[nrow][ncol]==1:\n",
    "                visited[nrow][ncol] = 1\n",
    "                distance_matrix[nrow][ncol] = step+1\n",
    "                q.append((nrow, ncol, step+1))\n",
    "   \n",
    "\n",
    "    return distance_matrix\n",
    "        \n",
    "\n",
    "            \n",
    "mat = [[0,0,0],[0,1,0],[1,1,1]]\n",
    "bfs_matrix(mat)\n",
    "\n"
   ]
  },
  {
   "cell_type": "code",
   "execution_count": 142,
   "metadata": {},
   "outputs": [
    {
     "name": "stdout",
     "output_type": "stream",
     "text": [
      "Out (0, 0)\n",
      "inside (0, 1)\n",
      "inside (1, 0)\n",
      "inside (2, 1)\n",
      "[[0, 1, 0, 0, 0], [1, 0, 0, 0, 0], [0, 1, 0, 0, 0], [0, 0, 0, 0, 0]]\n",
      "Out (0, 2)\n",
      "[[0, 1, 0, 0, 0], [1, 0, 0, 0, 0], [0, 1, 0, 0, 0], [0, 0, 0, 0, 0]]\n",
      "Out (0, 3)\n",
      "[[0, 1, 0, 0, 0], [1, 0, 0, 0, 0], [0, 1, 0, 0, 0], [0, 0, 0, 0, 0]]\n",
      "Out (1, 1)\n",
      "[[0, 1, 0, 0, 0], [1, 0, 0, 0, 0], [0, 1, 0, 0, 0], [0, 0, 0, 0, 0]]\n",
      "Out (1, 3)\n",
      "[[0, 1, 0, 0, 0], [1, 0, 0, 0, 0], [0, 1, 0, 0, 0], [0, 0, 0, 0, 0]]\n",
      "Out (2, 0)\n",
      "[[0, 1, 0, 0, 0], [1, 0, 0, 0, 0], [0, 1, 0, 0, 0], [0, 0, 0, 0, 0]]\n"
     ]
    },
    {
     "data": {
      "text/plain": [
       "6"
      ]
     },
     "execution_count": 142,
     "metadata": {},
     "output_type": "execute_result"
    }
   ],
   "source": [
    "class Solution:\n",
    "    def bfs(self, i, j, grid, visited):\n",
    "        q = deque()\n",
    "        n = len(grid)\n",
    "        m = len(grid[0])\n",
    "\n",
    "        q.append((i,j))\n",
    "\n",
    "        \n",
    "\n",
    "        while q:di= [-1, 0, 0, 1]\n",
    "        dj = [0, -1, 1, 0]\n",
    "        size =  len(q)\n",
    "            while size > 0:\n",
    "                size-=1\n",
    "                i, j = q.popleft()\n",
    "                for pos in range(4):\n",
    "                    \n",
    "                    nrow = i + di[pos]\n",
    "                    ncol = i + dj[pos]\n",
    "\n",
    "                    if nrow >= 0 and nrow < n and ncol >= 0 and ncol < m and visited[nrow][ncol] != 1 and grid[nrow][ncol] ==\"1\":\n",
    "                        visited[nrow][ncol] = 1\n",
    "                        print(\"inside\", (nrow, ncol))\n",
    "                        q.append((nrow, ncol))\n",
    "                    \n",
    "        print(visited)\n",
    "        return \n",
    "\n",
    "    def numIslands(self, grid):\n",
    "        n=len(grid)\n",
    "        m=len(grid[0])\n",
    "\n",
    "        visited = [[0 for j in range(m)] for i in range(n)]\n",
    "        count = 0\n",
    "        for i in range(n):\n",
    "            for j in range(m):\n",
    "                if visited[i][j] != 1 and grid[i][j] == \"1\":\n",
    "                    print(\"Out\", (i, j))\n",
    "                    count += 1\n",
    "                    self.bfs(i, j, grid, visited)\n",
    "        return count\n",
    "\n",
    "sol = Solution()\n",
    "\n",
    "grid = [\n",
    "  [\"1\",\"1\",\"1\",\"1\",\"0\"],\n",
    "  [\"1\",\"1\",\"0\",\"1\",\"0\"],\n",
    "  [\"1\",\"1\",\"0\",\"0\",\"0\"],\n",
    "  [\"0\",\"0\",\"0\",\"0\",\"0\"]\n",
    "]\n",
    "\n",
    "sol.numIslands(grid)\n",
    "\n"
   ]
  },
  {
   "cell_type": "code",
   "execution_count": 144,
   "metadata": {},
   "outputs": [
    {
     "name": "stdout",
     "output_type": "stream",
     "text": [
      "Out (0, 0)\n"
     ]
    },
    {
     "data": {
      "text/plain": [
       "1"
      ]
     },
     "execution_count": 144,
     "metadata": {},
     "output_type": "execute_result"
    }
   ],
   "source": [
    "def dfs(i, j, grid, visited):\n",
    "    n=len(grid)\n",
    "    m=len(grid[0])\n",
    "\n",
    "    visited[i][j] = 1\n",
    "    di = [-1, 0, 0, 1]\n",
    "    dj = [0, -1, 1, 0]\n",
    "\n",
    "    for pos in range(4):\n",
    "        nrow = i + di[pos]\n",
    "        ncol = j + dj[pos]\n",
    "\n",
    "        if nrow >= 0 and nrow < n and ncol >= 0 and ncol < m and visited[nrow][ncol] != 1 and grid[nrow][ncol] ==\"1\":\n",
    "            dfs(nrow, ncol, grid, visited)\n",
    "    return \n",
    "\n",
    "def numIslands(grid):\n",
    "    n=len(grid)\n",
    "    m=len(grid[0])\n",
    "\n",
    "    visited = [[0 for j in range(m)] for i in range(n)]\n",
    "    count = 0\n",
    "    for i in range(n):\n",
    "        for j in range(m):\n",
    "            if visited[i][j] != 1 and grid[i][j] == \"1\":\n",
    "                print(\"Out\", (i, j))\n",
    "                count += 1\n",
    "                dfs(i, j, grid, visited)\n",
    "    return count\n",
    "\n",
    "numIslands(grid)\n",
    "\n",
    "                \n"
   ]
  },
  {
   "cell_type": "markdown",
   "metadata": {},
   "source": [
    "# Bipartite Graph - Graph Coloring\n",
    "\n",
    "In bipartite graph adjacent node should have diferent colors\n",
    "\n",
    "**Intution:** A bipartite graph is a graph which is colored with the two colors only such that no adjacent node have the same color.\n",
    "\n",
    "- Any linear graph is always a bipartite graph.\n",
    "- A graph with even cycle length is also a bipartite graph.\n",
    "- A graph with odd cycle length is NOT a bipartite graph.\n",
    "\n",
    "We will use the DFS for this approach. We will traverse each node and color it with two colors 0 and 1. we will mainitain a color array initialized at -1.\n",
    "\n",
    "We have to check two things.\n",
    "- if color_array for the current node is -1 then we can call the dfs and we can change the color to 1-color.\n",
    "- elif color_arr[node] == color means that node is already colored with the current color then it is not possible to color it again and the graph is not bipartite and we will return False\n",
    "\n",
    "\n"
   ]
  },
  {
   "cell_type": "code",
   "execution_count": 6,
   "metadata": {},
   "outputs": [
    {
     "data": {
      "text/plain": [
       "False"
      ]
     },
     "execution_count": 6,
     "metadata": {},
     "output_type": "execute_result"
    }
   ],
   "source": [
    "def dfs(node, adj_list, color_array, color):\n",
    "    color_array[node] = color\n",
    "    neighbours = adj_list[node]\n",
    "    \n",
    "    for cur_node in neighbours:\n",
    "        if color_array[node] == -1:\n",
    "            if not dfs(cur_node, adj_list, color_array, 1-color):\n",
    "                return False\n",
    "        elif color_array[cur_node] == color:\n",
    "            return False\n",
    "    return True\n",
    "\n",
    "def coloring_driver(adj_list):\n",
    "    # adj_list = adjacency_list(n, edges)\n",
    "    n=len(adj_list)\n",
    "    color_array = [-1] * (n)\n",
    "    for i in range(n):\n",
    "        if color_array[i] == -1 :\n",
    "            if not dfs(i, adj_list, color_array, 0):\n",
    "                return False\n",
    "    return True\n",
    "\n",
    "edges = [[1,2,3],[0,2],[0,1,3],[0,2]]\n",
    "n=4\n",
    "\n",
    "coloring_driver(edges)\n"
   ]
  },
  {
   "cell_type": "markdown",
   "metadata": {},
   "source": [
    "# Detect Cycle in Directed Graph\n",
    "\n",
    "The idea behind this is that we have to keep track of the path. if there is a cycle in the current path then we will get the node again in the same path.\n",
    "\n",
    "We have to manage two array. visited  and path_visited.\n",
    "\n",
    "There are three cases:\n",
    "- **Case 1:**  The node is not marked in visited and not in the path_vistited then it is a unvisited node so we will make the DFS call from that node. \n",
    "\n",
    "- **Case 2:** The node is visited and it is also marked in the path_visited it means that the node is in the same path. This shows there is a cycle and we will return True.\n",
    "\n",
    "- **Case 3:** The node is visited but it is not marked in path_visisted. it means that there is some other path from which it is visited. So, we will continue to the next node. \n",
    "\n",
    "Finally, If there are no further node to visit then we will unmark the current node in the path_visited array and return False. \n",
    "\n"
   ]
  },
  {
   "cell_type": "code",
   "execution_count": 9,
   "metadata": {},
   "outputs": [
    {
     "data": {
      "text/plain": [
       "True"
      ]
     },
     "execution_count": 9,
     "metadata": {},
     "output_type": "execute_result"
    }
   ],
   "source": [
    "def dfs_directed(node, adj_list, visited, path_visited):\n",
    "    visited[node] = 1\n",
    "    path_visited[node] = 1\n",
    "\n",
    "    neighbours = adj_list[node]\n",
    "    for cur_node in neighbours:\n",
    "        if visited[cur_node] != 1:\n",
    "            if dfs_directed(cur_node, adj_list, visited, path_visited):\n",
    "                return True\n",
    "        elif path_visited[cur_node] == 1:\n",
    "            return True\n",
    "    path_visited[node] = 0\n",
    "    return False\n",
    "\n",
    "def isCyclic(V, adj):\n",
    "    vis = [0] * V\n",
    "    pathVis = [0] * V\n",
    "\n",
    "    for i in range(V):\n",
    "        if not vis[i]:\n",
    "            if dfs_directed(i, adj, vis, pathVis):\n",
    "                return True\n",
    "\n",
    "    return False\n",
    "\n",
    "adj_list = [[],[2], [3], [4,7], [5], [6], [], [5], [9], [10], [8]]\n",
    "isCyclic(len(adj_list),adj_list )"
   ]
  },
  {
   "cell_type": "markdown",
   "metadata": {},
   "source": [
    "# Topological Sorting in DAG\n",
    "\n",
    "Topo sort only exist in DAG (Directed Acyclic Graph).\n",
    "\n",
    "**ALGORITHM**\n",
    "\n",
    "- Declare a visited array and a stack data structure\n",
    "- In the DFS call we will call the DFS for the adjacent nodes of the current node.\n",
    "- Before returning from the function we will append the current node in stack. \n",
    "- this stack is going to be our topo sort."
   ]
  },
  {
   "cell_type": "code",
   "execution_count": 2,
   "metadata": {},
   "outputs": [
    {
     "name": "stdout",
     "output_type": "stream",
     "text": [
      "{0: [], 1: [], 2: [3], 3: [1], 4: [0, 1], 5: [0, 2], 6: []}\n"
     ]
    },
    {
     "data": {
      "text/plain": [
       "[5, 4, 2, 3, 1, 0]"
      ]
     },
     "execution_count": 2,
     "metadata": {},
     "output_type": "execute_result"
    }
   ],
   "source": [
    "def adjacency_list_directed(n, edges):\n",
    "    adj_list = {}\n",
    "    for i in range(n+1):\n",
    "        adj_list[i] = []\n",
    "    for (i,j) in edges:\n",
    "        adj_list[i].append(j)\n",
    "    return adj_list\n",
    "\n",
    "def dfs_topo_sort(node, adj_list, visited, stack):\n",
    "    visited[node] = 1\n",
    "    neighbours =  adj_list[node]\n",
    "    for cur_node in neighbours:\n",
    "        if visited[cur_node] != 1:\n",
    "            dfs_topo_sort(cur_node, adj_list, visited, stack)\n",
    "    stack.append(node)\n",
    "    return \n",
    "\n",
    "def dfs_topo_sort_driver(n, edges):\n",
    "    adj_list = adjacency_list_directed(n, edges)\n",
    "    print(adj_list)\n",
    "    visited = [0] * n\n",
    "    stack = []\n",
    "    for node in range(n):\n",
    "        if visited[node] != 1:\n",
    "            dfs_topo_sort(node, adj_list, visited, stack)\n",
    "    return stack[::-1]\n",
    "\n",
    "edges = [(5,0), (4,0), (4,1), (3,1), (2,3), (5,2)]\n",
    "n=6\n",
    "dfs_topo_sort_driver(n, edges)"
   ]
  },
  {
   "cell_type": "markdown",
   "metadata": {},
   "source": [
    "# KAHN's Algorithm - Topological Sort using BFS\n",
    "\n",
    "The main idea behind the kahn's algorithm is that we will calculate the indegree of each node. then we will create the indegree arraya and for every node we will store the indegree in the indegree_array.\n",
    "There will be at least one node for which indegree will be 0. we have to take this node and put it into the queue then we will reduce the indegree of each adj node of the current node and next we will put that node in the queue for which indegree is zero.\n",
    "\n",
    "**Algorithm:**\n",
    "- Create a indegree_array, queue, answer_array\n",
    "- First we will calculate the indegree of each node and store it in the indegree array.\n",
    "- There will be atleast 1 node for which indegree will be 0. append that node in the queue and answer array.\n",
    "- Then we will pop the node from the queue and reduce the indegree of each adj node by 1.\n",
    "- Append the new nodes with updated indegree of 0 in the queue and them in the ans array.\n",
    "- Repeat the above untill the queue is empty. return the answer_array.\n",
    "\n",
    "**CYCLE DETECTING IN DIRECTED GRAPH**\n",
    "\n",
    "You can check the length of the ans_array.\n",
    "- if len(ans_arr) = Number of edges then there is no cycle\n",
    "- else there is a cycle in the graph"
   ]
  },
  {
   "cell_type": "code",
   "execution_count": 6,
   "metadata": {},
   "outputs": [
    {
     "name": "stdout",
     "output_type": "stream",
     "text": [
      "{0: [1], 1: [0], 2: []}\n",
      "cycle\n"
     ]
    },
    {
     "data": {
      "text/plain": [
       "[]"
      ]
     },
     "execution_count": 6,
     "metadata": {},
     "output_type": "execute_result"
    }
   ],
   "source": [
    "from collections import deque\n",
    "def bfs_topo_sort(n, edges):\n",
    "    q= deque()\n",
    "    ans_array= []\n",
    "    indegree_array = [0] * (n)\n",
    "    adj_list = adjacency_list_directed(n, edges)\n",
    "    print(adj_list)\n",
    "\n",
    "    for i in range(n):\n",
    "        for neighbours in adj_list[i]:\n",
    "            indegree_array[neighbours] += 1\n",
    "    # print(indegree_array)\n",
    "\n",
    "\n",
    "    for i in range(n):\n",
    "        if indegree_array[i] == 0:\n",
    "            q.append(i)\n",
    "    # print(q)\n",
    "\n",
    "    while q:\n",
    "        node = q.popleft()\n",
    "        ans_array.append(node)\n",
    "        neighbours =  adj_list[node]\n",
    "        for cur_node in neighbours:\n",
    "            indegree_array[cur_node] -= 1\n",
    "            # print(indegree_array)\n",
    "            if indegree_array[cur_node] == 0:\n",
    "                q.append(cur_node)\n",
    "                # print(q)\n",
    "    ###FOR CHECKING IF THE GRAPH HAS CYCLE or NOT\n",
    "    \n",
    "    if len(ans_array) == n:\n",
    "        print(\"No cycle\")\n",
    "    else:\n",
    "        print(\"cycle\")\n",
    "    return ans_array\n",
    "\n",
    "# edges = [(5,0), (4,0), (4,1), (3,1), (2,3), (5,2)]\n",
    "edges = [(0,1), (1,0)]\n",
    "n=2\n",
    "bfs_topo_sort(n, edges)\n",
    "\n",
    "\n",
    "    "
   ]
  },
  {
   "cell_type": "markdown",
   "metadata": {},
   "source": [
    "### Course Schedule 1\n",
    "\n",
    "In this problem we have to check the order whether we can complete the course or not. so if we can arrange the graph into a topological sorting then we can complete the course else if there is cycle then we will not be able to do that."
   ]
  },
  {
   "cell_type": "code",
   "execution_count": 52,
   "metadata": {},
   "outputs": [
    {
     "name": "stdout",
     "output_type": "stream",
     "text": [
      "[1, 1]\n",
      "[]\n"
     ]
    },
    {
     "data": {
      "text/plain": [
       "False"
      ]
     },
     "execution_count": 52,
     "metadata": {},
     "output_type": "execute_result"
    }
   ],
   "source": [
    "\"\"\"\n",
    "https://leetcode.com/problems/course-schedule/\n",
    "\n",
    "Input: numCourses = 2, prerequisites = [[1,0]]\n",
    "Output: true\n",
    "\n",
    "Input: numCourses = 2, prerequisites = [[1,0],[0,1]]\n",
    "Output: false\n",
    "Explanation: There are a total of 2 courses to take. \n",
    "\n",
    "Input : [[0,1], [2,0]]\n",
    "\n",
    "\"\"\"\n",
    "\n",
    "def adjacency_list_directed(n, edges):\n",
    "    adj_list= {}\n",
    "    for i in range(n):\n",
    "        adj_list[i]=[]\n",
    "    for dest, source in edges:\n",
    "        adj_list[source].append(dest)\n",
    "    return adj_list\n",
    "\n",
    "def course_schedule(n, prerequisites):\n",
    "    adj_list = adjacency_list_directed(n, prerequisites)\n",
    "    q = deque()\n",
    "\n",
    "    indegree = [0] * n\n",
    "    ans = []\n",
    "\n",
    "    for i in range(n):\n",
    "        for neigbours in adj_list[i]:\n",
    "            indegree[neigbours] += 1\n",
    "\n",
    "    for i in range(n):\n",
    "        if indegree[i] == 0:\n",
    "            q.append(i)\n",
    "    print(indegree)\n",
    "    while q:\n",
    "        node = q.popleft()\n",
    "        ans.append(node)\n",
    "        neigbours =  adj_list[node]\n",
    "        for cur_node in neigbours:\n",
    "            indegree[cur_node] -= 1\n",
    "            if indegree[cur_node] ==0:\n",
    "                q.append(cur_node)\n",
    "    print(ans)\n",
    "    if len(ans)==n:\n",
    "        return True\n",
    "    else:\n",
    "        return False\n",
    "\n",
    "numCourses = 2\n",
    "prerequisites = [[1,0],[0,1]]\n",
    "# prerequisites = [[1,0]]\n",
    "\n",
    "course_schedule(numCourses, prerequisites)\n",
    "\n"
   ]
  },
  {
   "cell_type": "code",
   "execution_count": 7,
   "metadata": {},
   "outputs": [
    {
     "name": "stdout",
     "output_type": "stream",
     "text": [
      "{0: [3], 1: [0], 2: [0, 1], 3: [1], 4: [], 5: [2, 4]}\n"
     ]
    },
    {
     "data": {
      "text/plain": [
       "[2, 4, 5]"
      ]
     },
     "execution_count": 7,
     "metadata": {},
     "output_type": "execute_result"
    }
   ],
   "source": [
    "# Eventual Safe state\n",
    "# I solved this problem by modifying Kahn's algorithm from indegree to outdegree. \n",
    "# The other way is we can use the indegree Kahn's algo as well. \n",
    "# If we analyse the problem the node will only not reach the terminal node when there is a cycle.\n",
    "# We can find the cycle and if it exist then those nodes will not be the part of the output\n",
    "\n",
    "\n",
    "\n",
    "def adjacency_list_even(n, edges):\n",
    "    adj_list = {}\n",
    "    for i in range(n):\n",
    "        adj_list[i]= []\n",
    "    \n",
    "    for i in range(n):\n",
    "        for neighbours in graph[i]:\n",
    "            adj_list[neighbours].append(i)\n",
    "    return adj_list\n",
    "\n",
    "# adjacency_list_even(7, graph)\n",
    "\n",
    "def safe_state(n, edges):\n",
    "    adj_list =  adjacency_list_even(n, edges)\n",
    "\n",
    "    outdegree = [0] * n\n",
    "    ans = []\n",
    "    q= deque()\n",
    "    print(adj_list)\n",
    "    for i in range(n):\n",
    "        outdegree[i] = len(edges[i])\n",
    "    \n",
    "    for i in range(n):\n",
    "        if outdegree[i]==0:\n",
    "            q.append(i)\n",
    "\n",
    "    while q:\n",
    "        node = q.popleft()\n",
    "        ans.append(node)\n",
    "\n",
    "        neighbours = adj_list[node]\n",
    "        for cur_node in neighbours:\n",
    "            outdegree[cur_node] -= 1\n",
    "            if outdegree[cur_node] == 0:\n",
    "                q.append(cur_node)\n",
    "\n",
    "    return sorted(ans)\n",
    "\n",
    "graph = [[1,2],[2,3],[5],[0],[5],[],[]]\n",
    "# output = [2,4,5,6]\n",
    "# graph = [[1,2,3,4],[1,2],[3,4],[0,4],[]]\n",
    "n=6\n",
    "safe_state(n, graph)"
   ]
  },
  {
   "cell_type": "code",
   "execution_count": 75,
   "metadata": {},
   "outputs": [
    {
     "name": "stdout",
     "output_type": "stream",
     "text": [
      "3\n"
     ]
    }
   ],
   "source": [
    "# arr = [1, -3, 1, -2, 3]\n",
    "arr = [-2, -2, -2, 3, 3]\n",
    "# arr = [2, -1, -1]\n",
    "# arr = [1, -3, 1, -2, 3]\n",
    "\n",
    "output = None\n",
    "prev = None\n",
    "\n",
    "for i in range(len(arr)):\n",
    "    if arr[i] >= 0:\n",
    "        if output != None:\n",
    "            continue\n",
    "        else:\n",
    "            output = i\n",
    "            prev = output\n",
    "    else:\n",
    "        if output != None:\n",
    "            output = None\n",
    "\n",
    "\n",
    "\n",
    "print(prev)\n",
    "\n",
    "\n"
   ]
  },
  {
   "cell_type": "code",
   "execution_count": null,
   "metadata": {},
   "outputs": [],
   "source": []
  },
  {
   "cell_type": "code",
   "execution_count": null,
   "metadata": {},
   "outputs": [],
   "source": []
  },
  {
   "cell_type": "code",
   "execution_count": null,
   "metadata": {},
   "outputs": [],
   "source": []
  },
  {
   "cell_type": "code",
   "execution_count": null,
   "metadata": {},
   "outputs": [],
   "source": []
  },
  {
   "cell_type": "code",
   "execution_count": null,
   "metadata": {},
   "outputs": [],
   "source": []
  },
  {
   "cell_type": "code",
   "execution_count": null,
   "metadata": {},
   "outputs": [],
   "source": []
  },
  {
   "cell_type": "code",
   "execution_count": 52,
   "metadata": {},
   "outputs": [
    {
     "name": "stdout",
     "output_type": "stream",
     "text": [
      "4\n",
      "3\n",
      "2\n",
      "[0, 0, '_', '_', '_']\n"
     ]
    },
    {
     "data": {
      "text/plain": [
       "2"
      ]
     },
     "execution_count": 52,
     "metadata": {},
     "output_type": "execute_result"
    }
   ],
   "source": [
    "def removeDuplicates(nums):\n",
    "    # arr.pop(j)\n",
    "    # arr.append(\"_\")\n",
    "    # nums = [0,0,1,1,1,1,2,3,3]\n",
    "    k = len(nums)\n",
    "    i = 0\n",
    "    j = 1\n",
    "    count = 1\n",
    "    while j < len(nums) and nums[j] != \"_\" :\n",
    "        if nums[i]==nums[j] and count <=2:\n",
    "            count += 1\n",
    "            j += 1\n",
    "        \n",
    "        elif nums[i] != nums[j]:\n",
    "            i = j\n",
    "            j += 1\n",
    "            count = 1\n",
    "\n",
    "        if count > 2:\n",
    "            nums.pop(j-1)\n",
    "            nums.append(\"_\")\n",
    "            count -= 1\n",
    "            k -= 1\n",
    "            j -= 1\n",
    "            print(k)\n",
    "    print(nums)\n",
    "    return k\n",
    "\n",
    "\n",
    "removeDuplicates([0,0,0,0,0])"
   ]
  },
  {
   "cell_type": "code",
   "execution_count": 41,
   "metadata": {},
   "outputs": [
    {
     "name": "stdout",
     "output_type": "stream",
     "text": [
      "[1, 1, 2, 3, 0, 0]\n"
     ]
    }
   ],
   "source": [
    "count = 0\n",
    "nums = [0,0,1,1,1,1,2,3,3]\n",
    "nums =[1,1,1,2,2,3]\n",
    "\n",
    "for i in range(len(nums)-1):\n",
    "\n",
    "    if nums[i] == nums[i+1]:\n",
    "        count += 1\n",
    "    if count >1:\n",
    "        nums.pop(i)\n",
    "        nums.append(0)\n",
    "        count-=1\n",
    "\n",
    "\n",
    "print(nums)\n",
    "\n",
    "\n",
    "    \n"
   ]
  },
  {
   "cell_type": "code",
   "execution_count": null,
   "metadata": {},
   "outputs": [],
   "source": [
    "k=0\n",
    "nums = [0,0,1,1,1,1,2,3,3]\n",
    "for num in nums:\n",
    "    if k < 2 or num != nums[k - 2]:\n",
    "        nums[k] = num\n",
    "        k += 1"
   ]
  },
  {
   "cell_type": "code",
   "execution_count": null,
   "metadata": {},
   "outputs": [],
   "source": [
    "x + y + z = 0\n",
    "\n",
    "x + y = -z"
   ]
  }
 ],
 "metadata": {
  "kernelspec": {
   "display_name": "base",
   "language": "python",
   "name": "python3"
  },
  "language_info": {
   "codemirror_mode": {
    "name": "ipython",
    "version": 3
   },
   "file_extension": ".py",
   "mimetype": "text/x-python",
   "name": "python",
   "nbconvert_exporter": "python",
   "pygments_lexer": "ipython3",
   "version": "3.11.7"
  }
 },
 "nbformat": 4,
 "nbformat_minor": 2
}
