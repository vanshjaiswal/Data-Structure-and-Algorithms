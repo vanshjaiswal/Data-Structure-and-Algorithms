{
 "cells": [
  {
   "cell_type": "markdown",
   "id": "f59dcbb4",
   "metadata": {},
   "source": [
    "# Linear Search"
   ]
  },
  {
   "cell_type": "code",
   "execution_count": 1,
   "id": "c5d12327",
   "metadata": {},
   "outputs": [],
   "source": [
    "l=[46,64,61,466,61,1,34,32,1325,31,1,2]"
   ]
  },
  {
   "cell_type": "code",
   "execution_count": 6,
   "id": "98f5eb8a-df12-41a7-92e6-6608b010b674",
   "metadata": {},
   "outputs": [],
   "source": [
    "# m=l[0]\n",
    "\n",
    "# for i in l:\n",
    "#     print(\"Number from list:\", i)\n",
    "#     if i > m:\n",
    "#         m=i\n",
    "#         print(\"max is updated\", m)\n",
    "#     else:\n",
    "#         print(f\"No update as {i} is smaller than {m}\")"
   ]
  },
  {
   "cell_type": "code",
   "execution_count": 6,
   "id": "09f862e6",
   "metadata": {},
   "outputs": [],
   "source": [
    "\n",
    "def linear_search(l,target):\n",
    "    for i in l:\n",
    "        if i==target:\n",
    "            return True\n",
    "    return False"
   ]
  },
  {
   "cell_type": "code",
   "execution_count": 7,
   "id": "20a54396",
   "metadata": {},
   "outputs": [
    {
     "data": {
      "text/plain": [
       "True"
      ]
     },
     "execution_count": 7,
     "metadata": {},
     "output_type": "execute_result"
    }
   ],
   "source": [
    "linear_search(l,61)"
   ]
  },
  {
   "cell_type": "markdown",
   "id": "e25319f1",
   "metadata": {},
   "source": [
    "# Binary Search"
   ]
  },
  {
   "cell_type": "markdown",
   "id": "4bac31f9",
   "metadata": {},
   "source": [
    "What if l is sorted in ascending order\n",
    "\n",
    "compare v with the mid point of l\n",
    "\n",
    "if v is  the midpoint then it is found.\n",
    "\n",
    "if v is less than midpoint search the first half\n",
    "\n",
    "if v is  greater than midpoint search the second half\n",
    "\n",
    "stop when the interval to the search becomes empty"
   ]
  },
  {
   "cell_type": "code",
   "execution_count": 17,
   "id": "1596eef3",
   "metadata": {},
   "outputs": [
    {
     "data": {
      "text/plain": [
       "[46, 64, 61, 466, 61, 1, 34, 32, 1325, 31, 1, 2]"
      ]
     },
     "execution_count": 17,
     "metadata": {},
     "output_type": "execute_result"
    }
   ],
   "source": [
    "l"
   ]
  },
  {
   "cell_type": "code",
   "execution_count": 12,
   "id": "9b22d375",
   "metadata": {},
   "outputs": [],
   "source": [
    "L=[8,12,29,36,45,45,45,52,65,84,95]"
   ]
  },
  {
   "cell_type": "code",
   "execution_count": 14,
   "id": "71b1817f-620a-4d57-a6c3-6f438f3a9328",
   "metadata": {},
   "outputs": [
    {
     "data": {
      "text/plain": [
       "5"
      ]
     },
     "execution_count": 14,
     "metadata": {},
     "output_type": "execute_result"
    }
   ],
   "source": [
    "len(L)//2"
   ]
  },
  {
   "cell_type": "code",
   "execution_count": 16,
   "id": "a7d22fd9-7023-4332-90db-c4155c424433",
   "metadata": {},
   "outputs": [
    {
     "data": {
      "text/plain": [
       "[8, 12, 29, 36, 45]"
      ]
     },
     "execution_count": 16,
     "metadata": {},
     "output_type": "execute_result"
    }
   ],
   "source": [
    "L[:5]"
   ]
  },
  {
   "cell_type": "code",
   "execution_count": 18,
   "id": "d3134ec9-2475-4e6a-99c1-ed3536d26968",
   "metadata": {},
   "outputs": [
    {
     "data": {
      "text/plain": [
       "[45, 52, 65, 84, 95]"
      ]
     },
     "execution_count": 18,
     "metadata": {},
     "output_type": "execute_result"
    }
   ],
   "source": [
    "L[5+1:]"
   ]
  },
  {
   "cell_type": "code",
   "execution_count": 19,
   "id": "fa6922ee",
   "metadata": {},
   "outputs": [],
   "source": [
    "def binary_search(v,L):\n",
    "    if L==[]:\n",
    "        return False\n",
    "        \n",
    "    m=len(L)//2\n",
    "\n",
    "    \n",
    "    if v==L[m]:\n",
    "        return True\n",
    "    if v<L[m]:\n",
    "        return binary_search(v,L[:m])\n",
    "    else:\n",
    "        return binary_search(v,L[m+1:])"
   ]
  },
  {
   "cell_type": "code",
   "execution_count": null,
   "id": "61e21c13-723a-414a-9075-dbe477312fd0",
   "metadata": {},
   "outputs": [],
   "source": []
  },
  {
   "cell_type": "code",
   "execution_count": 21,
   "id": "91b5550a",
   "metadata": {},
   "outputs": [
    {
     "data": {
      "text/plain": [
       "False"
      ]
     },
     "execution_count": 21,
     "metadata": {},
     "output_type": "execute_result"
    }
   ],
   "source": [
    "binary_search(6265, L)\n"
   ]
  },
  {
   "cell_type": "code",
   "execution_count": null,
   "id": "77132e77",
   "metadata": {},
   "outputs": [],
   "source": []
  },
  {
   "cell_type": "code",
   "execution_count": 25,
   "id": "c31e5e40",
   "metadata": {},
   "outputs": [],
   "source": [
    "def binarySearch(arr, x):\n",
    "    l=0\n",
    "    r=len(arr)-1\n",
    "    while l <= r:\n",
    "        mid = l + (r - l) // 2\n",
    "        if arr[mid] == x:\n",
    "            return mid\n",
    "        elif arr[mid] < x:\n",
    "            l = mid + 1\n",
    "        else:\n",
    "            r = mid - 1\n",
    "    return -1\n",
    " "
   ]
  },
  {
   "cell_type": "code",
   "execution_count": 26,
   "id": "7f9a5801",
   "metadata": {},
   "outputs": [],
   "source": [
    "# Driver Code\n",
    "arr = [2, 3, 4, 10, 40]\n",
    "x = 10\n",
    " \n",
    "# Function call\n",
    "result = binarySearch(arr, x)"
   ]
  },
  {
   "cell_type": "code",
   "execution_count": 27,
   "id": "cebb9781",
   "metadata": {},
   "outputs": [
    {
     "data": {
      "text/plain": [
       "3"
      ]
     },
     "execution_count": 27,
     "metadata": {},
     "output_type": "execute_result"
    }
   ],
   "source": [
    "result"
   ]
  },
  {
   "cell_type": "markdown",
   "id": "6700d282",
   "metadata": {},
   "source": [
    "# Examples"
   ]
  },
  {
   "cell_type": "code",
   "execution_count": 54,
   "id": "dccb9282",
   "metadata": {},
   "outputs": [],
   "source": [
    "#1 Find the three largest number in a list\n",
    "\n",
    "\n",
    "l=[54,3,56,23,94,31,65,24,4,51,62]"
   ]
  },
  {
   "cell_type": "code",
   "execution_count": 58,
   "id": "a30f1086",
   "metadata": {},
   "outputs": [
    {
     "name": "stdout",
     "output_type": "stream",
     "text": [
      "94 65 62\n"
     ]
    }
   ],
   "source": [
    "#method 1: using sorted function\n",
    "def largest_three(l):\n",
    "    l=sorted(l)\n",
    "    return print(l[-1],l[-2],l[-3])\n",
    " \n",
    "\n",
    "largest_three(l)"
   ]
  },
  {
   "cell_type": "code",
   "execution_count": 65,
   "id": "bb5a3929",
   "metadata": {},
   "outputs": [
    {
     "data": {
      "text/plain": [
       "[54, 3, 56, 23, 94, 31, 65, 24, 4, 51, 62]"
      ]
     },
     "execution_count": 65,
     "metadata": {},
     "output_type": "execute_result"
    }
   ],
   "source": [
    "l"
   ]
  },
  {
   "cell_type": "code",
   "execution_count": 66,
   "id": "0ad7a0f2",
   "metadata": {},
   "outputs": [
    {
     "data": {
      "text/plain": [
       "(94, 65, 62)"
      ]
     },
     "execution_count": 66,
     "metadata": {},
     "output_type": "execute_result"
    }
   ],
   "source": [
    "#method 2: using three variable\n",
    "import sys\n",
    "def largest_three2(l):\n",
    "    if len(l)<3:\n",
    "        return print('Invalid Input')\n",
    "    first=second=third= -sys.maxsize\n",
    "    for i in range(len(l)):\n",
    "        if l[i]>first:\n",
    "            third=second\n",
    "            second=first\n",
    "            first=l[i]\n",
    "        elif l[i]>second:\n",
    "            third=second\n",
    "            second=l[i]\n",
    "        else:\n",
    "            third=l[i]\n",
    "    return first, second, third\n",
    "        \n",
    "largest_three2(l)"
   ]
  },
  {
   "cell_type": "code",
   "execution_count": null,
   "id": "57788f69",
   "metadata": {},
   "outputs": [],
   "source": []
  },
  {
   "cell_type": "markdown",
   "id": "78ab5c0e",
   "metadata": {},
   "source": [
    "Input: arr[] = [1, 2, 4, 6, 3, 7, 8], N = 8\n",
    "\n",
    "Output: 5\n",
    "\n",
    "Explanation: The missing number between 1 to 8 is 5"
   ]
  },
  {
   "cell_type": "code",
   "execution_count": 22,
   "id": "147f0c31",
   "metadata": {},
   "outputs": [],
   "source": [
    "#method 1 : using the new array with all 0 and then replace it with 1 approach\n",
    "def findMissing(arr, N):\n",
    "    \n",
    "    # create a list of zeroes\n",
    "    temp = [0] * (N+1)\n",
    "    print(\"temp Stage 1:\", temp)\n",
    "    \n",
    "    for i in range(0, N):\n",
    "        temp[arr[i] - 1] = 1\n",
    "        print(\"Temp inside for\", temp)\n",
    "  \n",
    "    for i in range(0, N+1):\n",
    "        if(temp[i] == 0):\n",
    "            ans = i + 1\n",
    "  \n",
    "    print(ans)"
   ]
  },
  {
   "cell_type": "code",
   "execution_count": 23,
   "id": "c35af9b6",
   "metadata": {},
   "outputs": [
    {
     "name": "stdout",
     "output_type": "stream",
     "text": [
      "temp Stage 1: [0, 0, 0, 0, 0, 0, 0, 0]\n",
      "Temp inside for [1, 0, 0, 0, 0, 0, 0, 0]\n",
      "Temp inside for [1, 1, 0, 0, 0, 0, 0, 0]\n",
      "Temp inside for [1, 1, 0, 0, 1, 0, 0, 0]\n",
      "Temp inside for [1, 1, 0, 1, 1, 0, 0, 0]\n",
      "Temp inside for [1, 1, 0, 1, 1, 0, 0, 1]\n",
      "Temp inside for [1, 1, 0, 1, 1, 1, 0, 1]\n",
      "Temp inside for [1, 1, 0, 1, 1, 1, 1, 1]\n",
      "3\n"
     ]
    }
   ],
   "source": [
    "arr=[1,2,5,4,8,6,7]\n",
    "N=7\n",
    "findMissing(arr, N)"
   ]
  },
  {
   "cell_type": "code",
   "execution_count": 86,
   "id": "86d59125",
   "metadata": {},
   "outputs": [],
   "source": [
    "#method 2 using the sum of first N natural number N*(N+1)/2 then subtract the sum of list and get the value \n",
    "\n",
    "def missing_sum_approach(l):\n",
    "    N=len(l)+1\n",
    "    total=(N*(N+1))/2\n",
    "    S=sum(l)\n",
    "    return int(total-S)"
   ]
  },
  {
   "cell_type": "code",
   "execution_count": 87,
   "id": "f0a72631",
   "metadata": {},
   "outputs": [
    {
     "data": {
      "text/plain": [
       "3"
      ]
     },
     "execution_count": 87,
     "metadata": {},
     "output_type": "execute_result"
    }
   ],
   "source": [
    "missing_sum_approach(arr)"
   ]
  },
  {
   "cell_type": "markdown",
   "id": "1fc1cb53",
   "metadata": {},
   "source": [
    "Find the first repeating element in an array of integers\n",
    "\n",
    "Input: arr[] = {10, 5, 3, 4, 3, 5, 6}\n",
    "\n",
    "Output: 5 \n",
    "\n",
    "Explanation: 5 is the first element that repeats\n",
    "\n",
    "Input: arr[] = {6, 10, 5, 4, 9, 120, 4, 6, 10}\n",
    "\n",
    "Output: 6 \n",
    "\n",
    "Explanation: 6 is the first element that repeats"
   ]
  },
  {
   "cell_type": "code",
   "execution_count": 89,
   "id": "f8436ff4",
   "metadata": {},
   "outputs": [],
   "source": [
    "#my method\n",
    "l=[10, 5, 3, 4, 3, 5, 6]\n",
    "def repeating(l):\n",
    "    for i in l:\n",
    "        if l.count(i)>1:\n",
    "            return i\n",
    "        \n",
    "    "
   ]
  },
  {
   "cell_type": "code",
   "execution_count": 90,
   "id": "7062a633",
   "metadata": {},
   "outputs": [
    {
     "data": {
      "text/plain": [
       "5"
      ]
     },
     "execution_count": 90,
     "metadata": {},
     "output_type": "execute_result"
    }
   ],
   "source": [
    "repeating(l)"
   ]
  },
  {
   "cell_type": "code",
   "execution_count": 99,
   "id": "e7ad276e",
   "metadata": {},
   "outputs": [],
   "source": [
    "#method2: using hashset\n",
    "\n",
    "def repeating_hashset(l):\n",
    "    myset={}\n",
    "    Min=-1\n",
    "    n=len(l)\n",
    "    for i in range(n-1, -1,-1):\n",
    "        if l[i] in myset.keys():\n",
    "            Min=i\n",
    "        else:\n",
    "            myset[l[i]]=1\n",
    "    if Min != -1:\n",
    "        return l[Min]\n",
    "    else:\n",
    "        return print('No repeating element')"
   ]
  },
  {
   "cell_type": "code",
   "execution_count": 100,
   "id": "562215f7",
   "metadata": {},
   "outputs": [
    {
     "data": {
      "text/plain": [
       "[10, 5, 3, 4, 3, 5, 6]"
      ]
     },
     "execution_count": 100,
     "metadata": {},
     "output_type": "execute_result"
    }
   ],
   "source": [
    "l"
   ]
  },
  {
   "cell_type": "code",
   "execution_count": 101,
   "id": "6e18ff3d",
   "metadata": {},
   "outputs": [
    {
     "data": {
      "text/plain": [
       "5"
      ]
     },
     "execution_count": 101,
     "metadata": {},
     "output_type": "execute_result"
    }
   ],
   "source": [
    "repeating_hashset(l)"
   ]
  },
  {
   "cell_type": "markdown",
   "id": "2da6a91d",
   "metadata": {},
   "source": [
    "# Find a pair with the given difference"
   ]
  },
  {
   "cell_type": "markdown",
   "id": "8714bb4b",
   "metadata": {},
   "source": [
    "Input: arr[] = {5, 20, 3, 2, 50, 80}, n = 78\n",
    "\n",
    "Output: Pair Found: (2, 80)\n",
    "\n",
    "Input: arr[] = {90, 70, 20, 80, 50}, n = 45\n",
    "\n",
    "Output: No Such Pair"
   ]
  },
  {
   "cell_type": "code",
   "execution_count": 103,
   "id": "4e94eff5",
   "metadata": {},
   "outputs": [],
   "source": [
    "#naive approach\n",
    "\n",
    "l=[5, 20, 3, 2, 50, 80]\n",
    "target=78\n",
    "\n",
    "def difference_naive(l, target):\n",
    "    for i in range(len(l)):\n",
    "        for j in range(i, len(l)):\n",
    "            if abs(l[i]-l[j])==target:\n",
    "                return (l[i], l[j])"
   ]
  },
  {
   "cell_type": "code",
   "execution_count": 105,
   "id": "e96e2d01",
   "metadata": {},
   "outputs": [
    {
     "data": {
      "text/plain": [
       "(2, 80)"
      ]
     },
     "execution_count": 105,
     "metadata": {},
     "output_type": "execute_result"
    }
   ],
   "source": [
    "difference_naive(l, 78)"
   ]
  },
  {
   "cell_type": "code",
   "execution_count": 140,
   "id": "4d266f29",
   "metadata": {},
   "outputs": [
    {
     "name": "stdout",
     "output_type": "stream",
     "text": [
      "Pair Found: ( 40 ,  100 )\n",
      "No such pair\n"
     ]
    }
   ],
   "source": [
    "# Python program to find a pair with the given difference\n",
    "def findPair( arr, size, n):\n",
    "    # Step-1 Sort the array\n",
    "    arr.sort();\n",
    "     \n",
    "    # Initialize positions of two elements\n",
    "    l = 0;\n",
    "    r = 1;\n",
    " \n",
    "    # take absolute value of difference\n",
    "    # this does not affect the pair as A-B=diff is same as\n",
    "    # B-A= -diff\n",
    "    n = abs(n);\n",
    " \n",
    "    # Search for a pair\n",
    " \n",
    "    # These loop running conditions are sufficient\n",
    "    while (l <= r and r < size) :\n",
    "        diff = arr[r] - arr[l];\n",
    "        if (diff == n and l != r):\n",
    "        # we need distinct elements in pair\n",
    "        # so l!=r\n",
    "            print(\"Pair Found: (\" , arr[l] , \", \"\n",
    "                 , arr[r] , \")\");\n",
    "            return True;\n",
    " \n",
    "        elif (diff > n):# try to reduce the diff\n",
    "            l += 1;\n",
    "        else :# Note if l==r then r will be advanced thus no\n",
    "             # pair will be missed\n",
    "            r+=1;\n",
    " \n",
    "    print(\"No such pair\");\n",
    "    return False;\n",
    " \n",
    "# Driver program to test above function\n",
    "arr = [ 1, 8, 30, 40, 100 ];\n",
    "size = len(arr);\n",
    "n = -60;\n",
    "findPair(arr, size, n);\n",
    "n = 20;\n",
    "findPair(arr, size, n);"
   ]
  },
  {
   "cell_type": "code",
   "execution_count": 150,
   "id": "5de7d5e5",
   "metadata": {},
   "outputs": [],
   "source": [
    "def find_difference_pair(arr, target):\n",
    "    arr=sorted(arr)\n",
    "    print(arr)\n",
    "#     target=abs(target)\n",
    "    l=0\n",
    "    r=1\n",
    "    size=len(arr)\n",
    "    \n",
    "    while l<=r and r<size:\n",
    "#         print('inside while')\n",
    "        diff= abs(arr[r]-arr[l])\n",
    "        \n",
    "        if (diff==target and l != r):\n",
    "            print(arr[l], arr[r])\n",
    "            return True\n",
    "        elif diff>target:\n",
    "            l+=1\n",
    "        else:\n",
    "            r+=1\n",
    "    \n",
    "    return print('Not found')"
   ]
  },
  {
   "cell_type": "code",
   "execution_count": 151,
   "id": "8cf77e64",
   "metadata": {},
   "outputs": [
    {
     "data": {
      "text/plain": [
       "[2, 3, 5, 20, 50, 80]"
      ]
     },
     "execution_count": 151,
     "metadata": {},
     "output_type": "execute_result"
    }
   ],
   "source": [
    "l"
   ]
  },
  {
   "cell_type": "code",
   "execution_count": 153,
   "id": "727a8d26",
   "metadata": {},
   "outputs": [
    {
     "name": "stdout",
     "output_type": "stream",
     "text": [
      "[2, 3, 5, 20, 50, 80]\n",
      "20 50\n"
     ]
    },
    {
     "data": {
      "text/plain": [
       "True"
      ]
     },
     "execution_count": 153,
     "metadata": {},
     "output_type": "execute_result"
    }
   ],
   "source": [
    "find_difference_pair(l, 30)"
   ]
  },
  {
   "cell_type": "code",
   "execution_count": 2,
   "id": "0728f5a7",
   "metadata": {},
   "outputs": [],
   "source": [
    "l=[5,6,4,23,5]"
   ]
  },
  {
   "cell_type": "code",
   "execution_count": 5,
   "id": "c97b686a",
   "metadata": {},
   "outputs": [
    {
     "data": {
      "text/plain": [
       "0"
      ]
     },
     "execution_count": 5,
     "metadata": {},
     "output_type": "execute_result"
    }
   ],
   "source": [
    "l.index(5)"
   ]
  },
  {
   "cell_type": "code",
   "execution_count": 1,
   "id": "6b3394ce",
   "metadata": {},
   "outputs": [],
   "source": [
    "#leetcode"
   ]
  },
  {
   "cell_type": "markdown",
   "id": "1f369d3a",
   "metadata": {},
   "source": [
    "Input: nums = [1,3,5,6], target = 5\n",
    "Output: 2\n",
    "    \n",
    "    \n",
    "Input: nums = [1,3,5,6], target = 2\n",
    "Output: 1"
   ]
  },
  {
   "cell_type": "code",
   "execution_count": 86,
   "id": "a55a901d",
   "metadata": {},
   "outputs": [],
   "source": [
    "def binary_search_iitm(nums, target):\n",
    "    \n",
    "    if len(nums)==0:\n",
    "        return False\n",
    "    m=len(nums)//2\n",
    "    \n",
    "    if target==nums[m]:\n",
    "        return m\n",
    "    if target < nums[m]:\n",
    "        return binary_search(nums[:m], target)\n",
    "    else:\n",
    "        return binary_search(nums[m+1:], target)"
   ]
  },
  {
   "cell_type": "code",
   "execution_count": 31,
   "id": "4fac292b",
   "metadata": {},
   "outputs": [
    {
     "data": {
      "text/plain": [
       "False"
      ]
     },
     "execution_count": 31,
     "metadata": {},
     "output_type": "execute_result"
    }
   ],
   "source": [
    "nums=[1,3,5,6]\n",
    "target=2\n",
    "binary_search(nums, target)"
   ]
  },
  {
   "cell_type": "code",
   "execution_count": 20,
   "id": "2b9901de",
   "metadata": {},
   "outputs": [],
   "source": [
    "def search_1(nums, target):\n",
    "    s=0\n",
    "    for i in range(len(nums)):\n",
    "        if nums[i]==target:\n",
    "            return i\n",
    "        elif nums[i]>target:\n",
    "            return s\n",
    "        else:\n",
    "            s+=1\n",
    "                \n",
    "    return s"
   ]
  },
  {
   "cell_type": "code",
   "execution_count": 32,
   "id": "7c8ebb90",
   "metadata": {},
   "outputs": [
    {
     "data": {
      "text/plain": [
       "1"
      ]
     },
     "execution_count": 32,
     "metadata": {},
     "output_type": "execute_result"
    }
   ],
   "source": [
    "search_1(nums, target)"
   ]
  },
  {
   "cell_type": "code",
   "execution_count": 23,
   "id": "27f97b15",
   "metadata": {},
   "outputs": [],
   "source": [
    "def search_2(nums, target):\n",
    "    left, right = 0, len(nums)\n",
    "\n",
    "    while left < right:\n",
    "        mid = (left + right) // 2\n",
    "        if nums[mid] < target:\n",
    "            left = mid + 1\n",
    "        else:\n",
    "            right = mid\n",
    "\n",
    "    return left"
   ]
  },
  {
   "cell_type": "code",
   "execution_count": 24,
   "id": "ea9ed0bf",
   "metadata": {},
   "outputs": [
    {
     "data": {
      "text/plain": [
       "4"
      ]
     },
     "execution_count": 24,
     "metadata": {},
     "output_type": "execute_result"
    }
   ],
   "source": [
    "search_2(nums, target)"
   ]
  },
  {
   "cell_type": "code",
   "execution_count": 35,
   "id": "6a62a203",
   "metadata": {},
   "outputs": [],
   "source": [
    "def search_3(arr, x):\n",
    "    l=0\n",
    "    r=len(arr)\n",
    "    while l < r:\n",
    "        mid = (l + r) // 2\n",
    "        if arr[mid] == x:\n",
    "            return mid\n",
    "        elif arr[mid] < x:\n",
    "            l = mid + 1\n",
    "        else:\n",
    "            r = mid \n",
    "    return l"
   ]
  },
  {
   "cell_type": "code",
   "execution_count": 36,
   "id": "69791495",
   "metadata": {},
   "outputs": [
    {
     "data": {
      "text/plain": [
       "1"
      ]
     },
     "execution_count": 36,
     "metadata": {},
     "output_type": "execute_result"
    }
   ],
   "source": [
    "search_3(nums, target)"
   ]
  },
  {
   "cell_type": "code",
   "execution_count": 33,
   "id": "ba94f555",
   "metadata": {},
   "outputs": [
    {
     "data": {
      "text/plain": [
       "[1, 3, 5, 6]"
      ]
     },
     "execution_count": 33,
     "metadata": {},
     "output_type": "execute_result"
    }
   ],
   "source": [
    "nums"
   ]
  },
  {
   "cell_type": "code",
   "execution_count": 34,
   "id": "76077d02",
   "metadata": {},
   "outputs": [
    {
     "data": {
      "text/plain": [
       "2"
      ]
     },
     "execution_count": 34,
     "metadata": {},
     "output_type": "execute_result"
    }
   ],
   "source": [
    "target"
   ]
  },
  {
   "cell_type": "code",
   "execution_count": 37,
   "id": "2d61d948",
   "metadata": {},
   "outputs": [],
   "source": [
    "#intersection of two array"
   ]
  },
  {
   "cell_type": "markdown",
   "id": "743ee558",
   "metadata": {},
   "source": [
    "Input: nums1 = [1,2,2,1], nums2 = [2,2]\n",
    "Output: [2]\n",
    "    \n",
    "Input: nums1 = [4,9,5], nums2 = [9,4,9,8,4]\n",
    "Output: [9,4]\n",
    "Explanation: [4,9] is also accepted."
   ]
  },
  {
   "cell_type": "code",
   "execution_count": 76,
   "id": "6e0f10d7",
   "metadata": {},
   "outputs": [],
   "source": [
    "def binary_search(nums, target):\n",
    "    l, r=0, len(nums)\n",
    "    while l<r:\n",
    "        m=(l+r)//2\n",
    "        if nums[m]==target:\n",
    "            return True\n",
    "        elif nums[m]<target:\n",
    "            l=m+1\n",
    "        else:\n",
    "            r=m\n",
    "    return False\n",
    "def intersect(nums1, nums2):\n",
    "    out=[]\n",
    "    for i in range(len(nums1)):\n",
    "        if binary_search(nums2, nums1[i]) and nums1[i] not in out:\n",
    "            out.append(nums1[i])\n",
    "    return out  "
   ]
  },
  {
   "cell_type": "code",
   "execution_count": 83,
   "id": "70c6a45d",
   "metadata": {},
   "outputs": [],
   "source": [
    "nums1 =[4,7,9,7,6,7]\n",
    "nums2=[5,0,0,6,1,6,2,2,4]"
   ]
  },
  {
   "cell_type": "code",
   "execution_count": 84,
   "id": "1d478c72",
   "metadata": {},
   "outputs": [
    {
     "data": {
      "text/plain": [
       "[4]"
      ]
     },
     "execution_count": 84,
     "metadata": {},
     "output_type": "execute_result"
    }
   ],
   "source": [
    "intersect(nums1, nums2)"
   ]
  },
  {
   "cell_type": "code",
   "execution_count": 87,
   "id": "ae39f017",
   "metadata": {},
   "outputs": [
    {
     "data": {
      "text/plain": [
       "False"
      ]
     },
     "execution_count": 87,
     "metadata": {},
     "output_type": "execute_result"
    }
   ],
   "source": [
    "binary_search_iitm(nums2, 6)"
   ]
  },
  {
   "cell_type": "code",
   "execution_count": 103,
   "id": "e56e3b87",
   "metadata": {},
   "outputs": [],
   "source": [
    "#perfect squarre\n",
    "\n",
    "def perfect_square_check(num):\n",
    "    if num==1:\n",
    "        return True\n",
    "    l,r=1, num\n",
    "    while l<r:\n",
    "        mid=(l+r)//2\n",
    "        square=mid*mid\n",
    "        if square==num:\n",
    "            return True\n",
    "        elif square<num:\n",
    "            l=mid+1\n",
    "        else: \n",
    "            r=mid\n",
    "    return False"
   ]
  },
  {
   "cell_type": "code",
   "execution_count": 105,
   "id": "39dac11c",
   "metadata": {},
   "outputs": [
    {
     "data": {
      "text/plain": [
       "False"
      ]
     },
     "execution_count": 105,
     "metadata": {},
     "output_type": "execute_result"
    }
   ],
   "source": [
    "perfect_square_check(85)"
   ]
  },
  {
   "cell_type": "code",
   "execution_count": null,
   "id": "132d57c4",
   "metadata": {},
   "outputs": [],
   "source": []
  }
 ],
 "metadata": {
  "kernelspec": {
   "display_name": "Python 3 (ipykernel)",
   "language": "python",
   "name": "python3"
  },
  "language_info": {
   "codemirror_mode": {
    "name": "ipython",
    "version": 3
   },
   "file_extension": ".py",
   "mimetype": "text/x-python",
   "name": "python",
   "nbconvert_exporter": "python",
   "pygments_lexer": "ipython3",
   "version": "3.11.7"
  }
 },
 "nbformat": 4,
 "nbformat_minor": 5
}
