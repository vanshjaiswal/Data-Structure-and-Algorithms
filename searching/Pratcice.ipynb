{
 "cells": [
  {
   "cell_type": "code",
   "execution_count": 1,
   "id": "2917c032",
   "metadata": {},
   "outputs": [],
   "source": [
    "#find the three largest number from the list."
   ]
  },
  {
   "cell_type": "code",
   "execution_count": 2,
   "id": "3a95e197",
   "metadata": {},
   "outputs": [],
   "source": [
    "l=[262,12,65,32,6,32,96,1,62,1222,6,62,562,]"
   ]
  },
  {
   "cell_type": "code",
   "execution_count": 3,
   "id": "5a631041",
   "metadata": {},
   "outputs": [],
   "source": [
    "# method 1 :  sort the list and return the value\n",
    "\n",
    "def three_largest(l):\n",
    "    l=sorted(l)\n",
    "    return [l[-1], l[-2], l[-3]]"
   ]
  },
  {
   "cell_type": "code",
   "execution_count": 4,
   "id": "4f87ff41",
   "metadata": {},
   "outputs": [
    {
     "data": {
      "text/plain": [
       "[1222, 562, 262]"
      ]
     },
     "execution_count": 4,
     "metadata": {},
     "output_type": "execute_result"
    }
   ],
   "source": [
    "three_largest(l)"
   ]
  },
  {
   "cell_type": "code",
   "execution_count": 10,
   "id": "46b60a29",
   "metadata": {},
   "outputs": [],
   "source": [
    "def three_largest(l):\n",
    "    first=l[0]\n",
    "    second=first\n",
    "    third=second\n",
    "    \n",
    "    for i in l:\n",
    "        if i>first:\n",
    "            third=second\n",
    "            second=first\n",
    "            first=i\n",
    "        elif i>second:\n",
    "            third=second\n",
    "            second=i\n",
    "        elif i>third:\n",
    "            third=i\n",
    "    return [first, second, third]\n",
    "            \n",
    "    "
   ]
  },
  {
   "cell_type": "code",
   "execution_count": 11,
   "id": "aa49cc0a",
   "metadata": {},
   "outputs": [
    {
     "data": {
      "text/plain": [
       "[1222, 562, 262]"
      ]
     },
     "execution_count": 11,
     "metadata": {},
     "output_type": "execute_result"
    }
   ],
   "source": [
    "three_largest(l)"
   ]
  },
  {
   "cell_type": "code",
   "execution_count": null,
   "id": "f5814509",
   "metadata": {},
   "outputs": [],
   "source": []
  },
  {
   "cell_type": "code",
   "execution_count": 12,
   "id": "e513fc9f",
   "metadata": {},
   "outputs": [],
   "source": [
    "#find the missing number"
   ]
  },
  {
   "cell_type": "markdown",
   "id": "ee809a4c",
   "metadata": {},
   "source": [
    "Input: arr[] = {1, 2, 4, 6, 3, 7, 8}, N = 8\n",
    "\n",
    "Output: 5\n",
    "\n",
    "Explanation: The missing number between 1 to 8 is 5"
   ]
  },
  {
   "cell_type": "code",
   "execution_count": 18,
   "id": "38abe243",
   "metadata": {},
   "outputs": [],
   "source": [
    "def missing_number(l, N):\n",
    "    s = (N * (N+1))/2\n",
    "    return int(s - sum(l))"
   ]
  },
  {
   "cell_type": "code",
   "execution_count": 19,
   "id": "1e14f681",
   "metadata": {},
   "outputs": [
    {
     "data": {
      "text/plain": [
       "5"
      ]
     },
     "execution_count": 19,
     "metadata": {},
     "output_type": "execute_result"
    }
   ],
   "source": [
    "l=[1, 2, 4, 6, 3, 7, 8]\n",
    "missing_number(l,8)"
   ]
  },
  {
   "cell_type": "code",
   "execution_count": null,
   "id": "5e62cd90",
   "metadata": {},
   "outputs": [],
   "source": []
  },
  {
   "cell_type": "markdown",
   "id": "4adfcc87",
   "metadata": {},
   "source": [
    "Find the first repeating element in an array of integers\n",
    "\n",
    "Input: arr[] = {10, 5, 3, 4, 3, 5, 6}\n",
    "\n",
    "Output: 5 \n",
    "\n",
    "Explanation: 5 is the first element that repeats\n",
    "\n",
    "Input: arr[] = {6, 10, 5, 4, 9, 120, 4, 6, 10}\n",
    "\n",
    "Output: 6 \n",
    "\n",
    "Explanation: 6 is the first element that repeats"
   ]
  },
  {
   "cell_type": "code",
   "execution_count": 21,
   "id": "edb07d95",
   "metadata": {},
   "outputs": [],
   "source": [
    "def repeat_element(l):\n",
    "    for i in l:\n",
    "        if l.count(i) > 1:\n",
    "            return i\n",
    "    return \"Not found\""
   ]
  },
  {
   "cell_type": "code",
   "execution_count": 23,
   "id": "4aa1c296",
   "metadata": {},
   "outputs": [
    {
     "data": {
      "text/plain": [
       "5"
      ]
     },
     "execution_count": 23,
     "metadata": {},
     "output_type": "execute_result"
    }
   ],
   "source": [
    "l=[10, 5, 3, 4, 3, 5, 6]\n",
    "repeat_element(l)"
   ]
  },
  {
   "cell_type": "code",
   "execution_count": 32,
   "id": "f394a8d6",
   "metadata": {},
   "outputs": [],
   "source": [
    "def repeat_element(l):\n",
    "    d={}\n",
    "    for i in l:\n",
    "        if i in d.keys():\n",
    "            d[i]=d[i]+1\n",
    "        else:\n",
    "            d[i]=1\n",
    "    for i in d.keys():\n",
    "        if d[i]>1:\n",
    "            return i\n",
    "    return \"Not found\""
   ]
  },
  {
   "cell_type": "code",
   "execution_count": 33,
   "id": "e202f52e",
   "metadata": {},
   "outputs": [
    {
     "data": {
      "text/plain": [
       "5"
      ]
     },
     "execution_count": 33,
     "metadata": {},
     "output_type": "execute_result"
    }
   ],
   "source": [
    "l=[10, 5, 3, 4, 3, 5, 6]\n",
    "repeat_element(l)"
   ]
  },
  {
   "cell_type": "code",
   "execution_count": 34,
   "id": "9ef80947",
   "metadata": {},
   "outputs": [],
   "source": [
    "def repeat_elements(l):\n",
    "    n=len(l)\n",
    "    m=-1\n",
    "    d={}\n",
    "    for i in range(n,-1,-1):\n",
    "        if l[i] in d.keys:\n",
    "            m=i\n",
    "        else:\n",
    "            d[l[i]]=1\n",
    "    if m != 1:\n",
    "        return l[m]\n",
    "    else:\n",
    "        return \"Not found\""
   ]
  },
  {
   "cell_type": "code",
   "execution_count": 35,
   "id": "cea1822c",
   "metadata": {},
   "outputs": [
    {
     "data": {
      "text/plain": [
       "5"
      ]
     },
     "execution_count": 35,
     "metadata": {},
     "output_type": "execute_result"
    }
   ],
   "source": [
    "l=[10, 5, 3, 4, 3, 5, 6]\n",
    "repeat_element(l)"
   ]
  },
  {
   "cell_type": "code",
   "execution_count": null,
   "id": "e00742f5",
   "metadata": {},
   "outputs": [],
   "source": []
  },
  {
   "cell_type": "markdown",
   "id": "c2af7956",
   "metadata": {},
   "source": [
    "Find a pair with given difference"
   ]
  },
  {
   "cell_type": "markdown",
   "id": "8af681a9",
   "metadata": {},
   "source": [
    "Input: arr[] = {5, 20, 3, 2, 50, 80}, n = 78\n",
    "\n",
    "Output: Pair Found: (2, 80)\n",
    "\n",
    "Input: arr[] = {90, 70, 20, 80, 50}, n = 45\n",
    "\n",
    "Output: No Such Pair"
   ]
  },
  {
   "cell_type": "code",
   "execution_count": 38,
   "id": "fdf3c7ce",
   "metadata": {},
   "outputs": [],
   "source": [
    "l=[5, 20, 3, 2, 50, 80]\n"
   ]
  },
  {
   "cell_type": "code",
   "execution_count": 41,
   "id": "0871da2d",
   "metadata": {},
   "outputs": [],
   "source": [
    "def diff_pair(l,target):\n",
    "    for i in l:\n",
    "        n=i-target\n",
    "        if n in l:\n",
    "            return (i, n)\n",
    "    return \"Not found\"\n",
    "    "
   ]
  },
  {
   "cell_type": "code",
   "execution_count": 53,
   "id": "1bdd7d0c",
   "metadata": {},
   "outputs": [
    {
     "ename": "KeyError",
     "evalue": "5",
     "output_type": "error",
     "traceback": [
      "\u001b[1;31m---------------------------------------------------------------------------\u001b[0m",
      "\u001b[1;31mKeyError\u001b[0m                                  Traceback (most recent call last)",
      "Cell \u001b[1;32mIn[53], line 1\u001b[0m\n\u001b[1;32m----> 1\u001b[0m \u001b[43mdiff_pair\u001b[49m\u001b[43m(\u001b[49m\u001b[43ml\u001b[49m\u001b[43m,\u001b[49m\u001b[38;5;241;43m78\u001b[39;49m\u001b[43m)\u001b[49m\n",
      "Cell \u001b[1;32mIn[49], line 6\u001b[0m, in \u001b[0;36mdiff_pair\u001b[1;34m(l, target)\u001b[0m\n\u001b[0;32m      4\u001b[0m     d[i\u001b[38;5;241m-\u001b[39mtarget]\u001b[38;5;241m=\u001b[39mi\n\u001b[0;32m      5\u001b[0m \u001b[38;5;28;01mfor\u001b[39;00m i \u001b[38;5;129;01min\u001b[39;00m l:\n\u001b[1;32m----> 6\u001b[0m     \u001b[38;5;28;01mif\u001b[39;00m \u001b[43md\u001b[49m\u001b[43m[\u001b[49m\u001b[43mi\u001b[49m\u001b[43m]\u001b[49m:\n\u001b[0;32m      7\u001b[0m         \u001b[38;5;28;01mreturn\u001b[39;00m (i, target\u001b[38;5;241m+\u001b[39mi)\n\u001b[0;32m      8\u001b[0m \u001b[38;5;28;01mreturn\u001b[39;00m \u001b[38;5;124m\"\u001b[39m\u001b[38;5;124mNot found\u001b[39m\u001b[38;5;124m\"\u001b[39m\n",
      "\u001b[1;31mKeyError\u001b[0m: 5"
     ]
    }
   ],
   "source": []
  },
  {
   "cell_type": "code",
   "execution_count": 60,
   "id": "b008f9f6",
   "metadata": {},
   "outputs": [],
   "source": [
    "def diff_pair(l,target):\n",
    "    d={}\n",
    "    for i in l:\n",
    "        d[i-target]=i\n",
    "    print(l)\n",
    "    print(d)   \n",
    "    for i in l:\n",
    "        if d.get(i):\n",
    "            return (i, target+i)\n",
    "\n",
    "    return \"Not found\""
   ]
  },
  {
   "cell_type": "code",
   "execution_count": 61,
   "id": "7a3872b2",
   "metadata": {},
   "outputs": [
    {
     "name": "stdout",
     "output_type": "stream",
     "text": [
      "[5, 20, 3, 2, 50, 80]\n",
      "{-73: 5, -58: 20, -75: 3, -76: 2, -28: 50, 2: 80}\n"
     ]
    },
    {
     "data": {
      "text/plain": [
       "(2, 80)"
      ]
     },
     "execution_count": 61,
     "metadata": {},
     "output_type": "execute_result"
    }
   ],
   "source": [
    "diff_pair(l,78)"
   ]
  },
  {
   "cell_type": "code",
   "execution_count": 63,
   "id": "8a049d63",
   "metadata": {},
   "outputs": [],
   "source": [
    "l=[90, 70, 20, 80, 50]"
   ]
  },
  {
   "cell_type": "code",
   "execution_count": 64,
   "id": "16f639eb",
   "metadata": {},
   "outputs": [
    {
     "name": "stdout",
     "output_type": "stream",
     "text": [
      "[90, 70, 20, 80, 50]\n",
      "{45: 90, 25: 70, -25: 20, 35: 80, 5: 50}\n"
     ]
    },
    {
     "data": {
      "text/plain": [
       "'Not found'"
      ]
     },
     "execution_count": 64,
     "metadata": {},
     "output_type": "execute_result"
    }
   ],
   "source": [
    "diff_pair(l, 45)"
   ]
  },
  {
   "cell_type": "code",
   "execution_count": 54,
   "id": "3cd8c008",
   "metadata": {},
   "outputs": [],
   "source": [
    "d.get(\"Vansh\")"
   ]
  },
  {
   "cell_type": "code",
   "execution_count": 52,
   "id": "1404e368",
   "metadata": {},
   "outputs": [
    {
     "data": {
      "text/plain": [
       "1"
      ]
     },
     "execution_count": 52,
     "metadata": {},
     "output_type": "execute_result"
    }
   ],
   "source": [
    "d[\"Hello\"]"
   ]
  },
  {
   "cell_type": "markdown",
   "id": "ae227ad9",
   "metadata": {},
   "source": [
    "Intersection of two array"
   ]
  },
  {
   "cell_type": "markdown",
   "id": "7426edb7",
   "metadata": {},
   "source": [
    "Input: nums1 = [1,2,2,1], nums2 = [2,2]\n",
    "Output: [2]\n",
    "    \n",
    "Input: nums1 = [4,9,5], nums2 = [9,4,9,8,4]\n",
    "Output: [9,4]\n",
    "Explanation: [4,9] is also accepted."
   ]
  },
  {
   "cell_type": "code",
   "execution_count": 67,
   "id": "e0a4a340",
   "metadata": {},
   "outputs": [],
   "source": [
    "output=[]\n",
    "l1 = [4,9,5]\n",
    "l2 = [9,4,9,8,4]\n",
    "for i in l1:\n",
    "    for j in l2:\n",
    "        if i==j:\n",
    "            output.append(j)"
   ]
  },
  {
   "cell_type": "code",
   "execution_count": 68,
   "id": "d90884b8",
   "metadata": {},
   "outputs": [
    {
     "data": {
      "text/plain": [
       "[4, 4, 9, 9]"
      ]
     },
     "execution_count": 68,
     "metadata": {},
     "output_type": "execute_result"
    }
   ],
   "source": [
    "output"
   ]
  },
  {
   "cell_type": "code",
   "execution_count": 70,
   "id": "528e4a2f",
   "metadata": {},
   "outputs": [],
   "source": [
    "l1=set(l1)\n",
    "l2=set(l2)\n",
    "output=l1.intersection(l2)"
   ]
  },
  {
   "cell_type": "code",
   "execution_count": 72,
   "id": "f616dff4",
   "metadata": {},
   "outputs": [
    {
     "data": {
      "text/plain": [
       "[9, 4]"
      ]
     },
     "execution_count": 72,
     "metadata": {},
     "output_type": "execute_result"
    }
   ],
   "source": [
    "list(output)"
   ]
  },
  {
   "cell_type": "code",
   "execution_count": 73,
   "id": "4f9e8d78",
   "metadata": {},
   "outputs": [],
   "source": [
    "def binary_search(n, l):\n",
    "    if l==[]:\n",
    "        return False\n",
    "    m=len(l)//2\n",
    "    \n",
    "    if n==l[m]:\n",
    "        return True\n",
    "    \n",
    "    if n<l[m]:\n",
    "        return binary_search(n, l[:m])\n",
    "    else:\n",
    "        return binary_search(n, l[m+1:])\n",
    "    "
   ]
  },
  {
   "cell_type": "code",
   "execution_count": 78,
   "id": "f12c82cb",
   "metadata": {},
   "outputs": [],
   "source": [
    "def intersect(l1, l2):\n",
    "    out=[]\n",
    "    for i in l1:\n",
    "        if binary_search(i, l2) and i not in out:\n",
    "            out.append(i)\n",
    "    return out"
   ]
  },
  {
   "cell_type": "code",
   "execution_count": 79,
   "id": "55068034",
   "metadata": {},
   "outputs": [
    {
     "data": {
      "text/plain": [
       "[4, 9]"
      ]
     },
     "execution_count": 79,
     "metadata": {},
     "output_type": "execute_result"
    }
   ],
   "source": [
    "l1 = [4,9,5]\n",
    "l2 = [9,4,9,8,4]\n",
    "intersect(l1,l2)"
   ]
  },
  {
   "cell_type": "code",
   "execution_count": null,
   "id": "c4140f2c",
   "metadata": {},
   "outputs": [],
   "source": []
  },
  {
   "cell_type": "code",
   "execution_count": null,
   "id": "513b0b94",
   "metadata": {},
   "outputs": [],
   "source": []
  },
  {
   "cell_type": "code",
   "execution_count": null,
   "id": "798a66e2",
   "metadata": {},
   "outputs": [],
   "source": []
  }
 ],
 "metadata": {
  "kernelspec": {
   "display_name": "Python 3 (ipykernel)",
   "language": "python",
   "name": "python3"
  },
  "language_info": {
   "codemirror_mode": {
    "name": "ipython",
    "version": 3
   },
   "file_extension": ".py",
   "mimetype": "text/x-python",
   "name": "python",
   "nbconvert_exporter": "python",
   "pygments_lexer": "ipython3",
   "version": "3.11.7"
  }
 },
 "nbformat": 4,
 "nbformat_minor": 5
}
