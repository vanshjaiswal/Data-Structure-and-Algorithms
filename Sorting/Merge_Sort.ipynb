{
 "cells": [
  {
   "cell_type": "code",
   "execution_count": 9,
   "id": "2e406b53",
   "metadata": {},
   "outputs": [],
   "source": [
    "def merge(A,B):\n",
    "    m, n = len(A), len(B)\n",
    "    C, i,j,k = [],0,0,0\n",
    "    \n",
    "    while k < m+n:\n",
    "        if i == m: #A is empty\n",
    "            C.extend(B[j:])\n",
    "            k = k + (n-j)\n",
    "        elif j == n:\n",
    "            C.extend(A[i:])\n",
    "            k = k + (m-i)\n",
    "        elif A[i] < B[j]:\n",
    "            C.append(A[i])\n",
    "            i, k = i+1, k+1\n",
    "        else:\n",
    "            C.append(B[j])\n",
    "            j,k = j+1, k+1\n",
    "    return C\n",
    "            \n",
    "        "
   ]
  },
  {
   "cell_type": "code",
   "execution_count": 10,
   "id": "4f1c84b4",
   "metadata": {},
   "outputs": [],
   "source": [
    "def mergesort(A):\n",
    "    n=len(A)\n",
    "    if len(A) <=1:\n",
    "        return A\n",
    "    \n",
    "    L = mergesort(A[:n//2])\n",
    "    R = mergesort(A[n//2:])\n",
    "    \n",
    "    B = merge(L, R)\n",
    "    return B"
   ]
  },
  {
   "cell_type": "code",
   "execution_count": 11,
   "id": "bbae83c1",
   "metadata": {},
   "outputs": [],
   "source": [
    "l=[62,16,343,43,593,215,33,41,52]"
   ]
  },
  {
   "cell_type": "code",
   "execution_count": 12,
   "id": "388b61ff",
   "metadata": {},
   "outputs": [
    {
     "data": {
      "text/plain": [
       "[16, 33, 41, 43, 52, 62, 215, 343, 593]"
      ]
     },
     "execution_count": 12,
     "metadata": {},
     "output_type": "execute_result"
    }
   ],
   "source": [
    "mergesort(l)"
   ]
  },
  {
   "cell_type": "code",
   "execution_count": null,
   "id": "6b6f8a5e",
   "metadata": {},
   "outputs": [],
   "source": []
  }
 ],
 "metadata": {
  "kernelspec": {
   "display_name": "Python 3 (ipykernel)",
   "language": "python",
   "name": "python3"
  },
  "language_info": {
   "codemirror_mode": {
    "name": "ipython",
    "version": 3
   },
   "file_extension": ".py",
   "mimetype": "text/x-python",
   "name": "python",
   "nbconvert_exporter": "python",
   "pygments_lexer": "ipython3",
   "version": "3.10.9"
  }
 },
 "nbformat": 4,
 "nbformat_minor": 5
}
