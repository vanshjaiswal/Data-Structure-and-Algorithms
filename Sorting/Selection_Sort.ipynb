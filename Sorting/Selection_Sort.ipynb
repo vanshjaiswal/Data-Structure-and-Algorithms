{
 "cells": [
  {
   "cell_type": "markdown",
   "id": "f6274d9d",
   "metadata": {},
   "source": [
    "# Selection Sort"
   ]
  },
  {
   "cell_type": "markdown",
   "id": "8e6447df",
   "metadata": {},
   "source": [
    "Sorting a list makes many other computation easier\n",
    "\n",
    "> Binary Search\n",
    "\n",
    "> Finding the median\n",
    "\n",
    "> Checking for duplicates\n",
    "\n",
    "> Building a frequency table of values"
   ]
  },
  {
   "cell_type": "markdown",
   "id": "55b3aaf8",
   "metadata": {},
   "source": [
    "### Algorithm"
   ]
  },
  {
   "cell_type": "markdown",
   "id": "7a817b40",
   "metadata": {},
   "source": [
    "1: Select the next element in the sorted list.\n",
    "\n",
    "2: Append it to the final sorted list.\n",
    "\n",
    "3: Avoid using a second list\n",
    "\n",
    "4: Swap the minimum element into the first position, eventually the list is rearranged in place in ascending order"
   ]
  },
  {
   "cell_type": "code",
   "execution_count": 3,
   "id": "e2b81cf9",
   "metadata": {},
   "outputs": [],
   "source": [
    "def selection_sort(l):\n",
    "    n=len(l)\n",
    "    \n",
    "    if n < 1:\n",
    "        return L\n",
    "    \n",
    "    for i in range(n):\n",
    "        #Assume l[:i] is sorted\n",
    "        \n",
    "        mpos = i   \n",
    "        #mpos: position of minimun in L[i:]\n",
    "        \n",
    "        for j in range(i+1, n):\n",
    "            if l[j] < l[mpos]:\n",
    "                mpos = j\n",
    "           \n",
    "        #l[mpos]: smallest value in L[i:]\n",
    "        #Exchange l[mpos] and l[i]\n",
    "        \n",
    "        l[i], l[mpos] = l[mpos], l[i]\n",
    "    return l\n",
    "        "
   ]
  },
  {
   "cell_type": "code",
   "execution_count": 2,
   "id": "73236cbb",
   "metadata": {},
   "outputs": [],
   "source": [
    "l=[6,28,3,3,42,5,2,3,7,85]"
   ]
  },
  {
   "cell_type": "code",
   "execution_count": 5,
   "id": "90583643",
   "metadata": {},
   "outputs": [
    {
     "data": {
      "text/plain": [
       "[2, 3, 3, 3, 5, 6, 7, 28, 42, 85]"
      ]
     },
     "execution_count": 5,
     "metadata": {},
     "output_type": "execute_result"
    }
   ],
   "source": [
    "selection_sort(l)"
   ]
  },
  {
   "cell_type": "code",
   "execution_count": 4,
   "id": "3790f781",
   "metadata": {},
   "outputs": [],
   "source": [
    "def selection_sort(l):\n",
    "    n=len(l)\n",
    "    \n",
    "    for i in range(n):\n",
    "        mpos = i\n",
    "        for j in range(i+1, n):\n",
    "            if l[j]<l[mpos]:\n",
    "                mpos = j\n",
    "        l[i], l[mpos] = l[mpos], l[i]\n",
    "    return l"
   ]
  },
  {
   "cell_type": "code",
   "execution_count": null,
   "id": "b684b045",
   "metadata": {},
   "outputs": [],
   "source": []
  },
  {
   "cell_type": "code",
   "execution_count": null,
   "id": "be1f2055",
   "metadata": {},
   "outputs": [],
   "source": []
  },
  {
   "cell_type": "code",
   "execution_count": null,
   "id": "5434b2ad",
   "metadata": {},
   "outputs": [],
   "source": []
  },
  {
   "cell_type": "code",
   "execution_count": null,
   "id": "00490282",
   "metadata": {},
   "outputs": [],
   "source": []
  },
  {
   "cell_type": "code",
   "execution_count": null,
   "id": "c2a085cd",
   "metadata": {},
   "outputs": [],
   "source": []
  },
  {
   "cell_type": "code",
   "execution_count": null,
   "id": "e2c83837",
   "metadata": {},
   "outputs": [],
   "source": []
  },
  {
   "cell_type": "code",
   "execution_count": null,
   "id": "54f5513c",
   "metadata": {},
   "outputs": [],
   "source": []
  },
  {
   "cell_type": "code",
   "execution_count": null,
   "id": "93b75d1a",
   "metadata": {},
   "outputs": [],
   "source": []
  }
 ],
 "metadata": {
  "kernelspec": {
   "display_name": "Python 3 (ipykernel)",
   "language": "python",
   "name": "python3"
  },
  "language_info": {
   "codemirror_mode": {
    "name": "ipython",
    "version": 3
   },
   "file_extension": ".py",
   "mimetype": "text/x-python",
   "name": "python",
   "nbconvert_exporter": "python",
   "pygments_lexer": "ipython3",
   "version": "3.10.9"
  }
 },
 "nbformat": 4,
 "nbformat_minor": 5
}
