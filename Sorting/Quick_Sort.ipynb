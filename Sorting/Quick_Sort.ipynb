{
 "cells": [
  {
   "cell_type": "code",
   "execution_count": 1,
   "id": "ab96066e",
   "metadata": {},
   "outputs": [],
   "source": [
    "def quicksort(l):\n",
    "    if len(l) <= 1:\n",
    "        return l\n",
    "    else:\n",
    "        pivot = l.pop()\n",
    "    \n",
    "    items_greater = []\n",
    "    items_smaller = []\n",
    "    \n",
    "    for i in l:\n",
    "        if i > pivot:\n",
    "            items_greater.append(i)\n",
    "        else:\n",
    "            items_smaller.append(i)\n",
    "    \n",
    "    return quicksort(items_smaller) + [pivot] + quicksort(items_greater)\n",
    "    "
   ]
  },
  {
   "cell_type": "code",
   "execution_count": 2,
   "id": "c8bff2c8",
   "metadata": {},
   "outputs": [],
   "source": [
    "l=[62,32,96,64,326,95]"
   ]
  },
  {
   "cell_type": "code",
   "execution_count": 3,
   "id": "0cca5797",
   "metadata": {},
   "outputs": [
    {
     "data": {
      "text/plain": [
       "[32, 62, 64, 95, 96, 326]"
      ]
     },
     "execution_count": 3,
     "metadata": {},
     "output_type": "execute_result"
    }
   ],
   "source": [
    "quicksort(l)"
   ]
  },
  {
   "cell_type": "markdown",
   "id": "720772b7",
   "metadata": {},
   "source": [
    "# Bubble Sort"
   ]
  },
  {
   "cell_type": "code",
   "execution_count": 4,
   "id": "054ca6a3",
   "metadata": {},
   "outputs": [],
   "source": [
    "def bubble_sort(l):\n",
    "    sort=False\n",
    "    while not sort:\n",
    "        sort = True\n",
    "        for i in range(len(l)-1):\n",
    "            if l[i] > l[i+1]:\n",
    "                l[i], l[i+1] = l[i+1], l[i]\n",
    "                sort=False\n",
    "    return l"
   ]
  },
  {
   "cell_type": "code",
   "execution_count": 5,
   "id": "32959eaa",
   "metadata": {},
   "outputs": [
    {
     "data": {
      "text/plain": [
       "[32, 62, 64, 96, 326]"
      ]
     },
     "execution_count": 5,
     "metadata": {},
     "output_type": "execute_result"
    }
   ],
   "source": [
    "bubble_sort(l)"
   ]
  },
  {
   "cell_type": "code",
   "execution_count": null,
   "id": "43482cbc",
   "metadata": {},
   "outputs": [],
   "source": []
  }
 ],
 "metadata": {
  "kernelspec": {
   "display_name": "Python 3 (ipykernel)",
   "language": "python",
   "name": "python3"
  },
  "language_info": {
   "codemirror_mode": {
    "name": "ipython",
    "version": 3
   },
   "file_extension": ".py",
   "mimetype": "text/x-python",
   "name": "python",
   "nbconvert_exporter": "python",
   "pygments_lexer": "ipython3",
   "version": "3.11.7"
  }
 },
 "nbformat": 4,
 "nbformat_minor": 5
}
