{
 "cells": [
  {
   "cell_type": "markdown",
   "id": "c60228b0",
   "metadata": {},
   "source": [
    "# Insertion Sort"
   ]
  },
  {
   "cell_type": "markdown",
   "id": "7bdbe108",
   "metadata": {},
   "source": [
    "> Move the first paper to a new pile\n",
    "\n",
    "> Second Paper\n",
    "\n",
    "    > Lower Marks than first paper ?  Place below first paper in new pile\n",
    "    \n",
    "    > Higher marks than first paper ?  Place above first paper\n",
    "    \n",
    "> Third paper: Insert into correct position with respect to first two..\n",
    "\n",
    "> Do this for remaining papers: Insert each one into correct positions in the second pile"
   ]
  },
  {
   "cell_type": "markdown",
   "id": "3f23b4e7",
   "metadata": {},
   "source": [
    "### Algorithm"
   ]
  },
  {
   "cell_type": "markdown",
   "id": "e69756ac",
   "metadata": {},
   "source": [
    "> Start building a new sorted list\n",
    "\n",
    "> Pick next element and insert into the sorted list\n",
    "\n",
    "> An iterative formulation :  Assume L[:i] is sorted, Insert L[i] in L[:i]"
   ]
  },
  {
   "cell_type": "code",
   "execution_count": 4,
   "id": "a7de602e",
   "metadata": {},
   "outputs": [],
   "source": [
    "def InsertionSort(l):\n",
    "    n = len(l)\n",
    "    if n < 1:\n",
    "        return l\n",
    "    for i in range(n):\n",
    "        # Assume L[:i] is sorted \n",
    "        # Move L[i] to correct position in l\n",
    "        j=i\n",
    "        while (j > 0 and l[j] < l[j-1]):\n",
    "            l[j], l[j-1] = l[j-1], l[j]\n",
    "            j = j-1\n",
    "    return l"
   ]
  },
  {
   "cell_type": "code",
   "execution_count": 2,
   "id": "0f4778db",
   "metadata": {},
   "outputs": [],
   "source": [
    "l=[62,66,12,15,87,32]"
   ]
  },
  {
   "cell_type": "code",
   "execution_count": 3,
   "id": "44c38bff",
   "metadata": {},
   "outputs": [
    {
     "data": {
      "text/plain": [
       "[12, 15, 32, 62, 66, 87]"
      ]
     },
     "execution_count": 3,
     "metadata": {},
     "output_type": "execute_result"
    }
   ],
   "source": [
    "insertion_sort(l)"
   ]
  },
  {
   "cell_type": "code",
   "execution_count": 1,
   "id": "085b931c",
   "metadata": {},
   "outputs": [],
   "source": [
    "def insertion_sort(l):\n",
    "    n=len(l)\n",
    "    if n<1:\n",
    "        return l\n",
    "    for i in range(n):\n",
    "        j=i\n",
    "        while j>0 and l[j] < l[j-1]:\n",
    "            l[j], l[j-1] = l[j-1], l[j]\n",
    "            j=j-1\n",
    "    return l"
   ]
  },
  {
   "cell_type": "markdown",
   "id": "e3ccbdf2",
   "metadata": {},
   "source": [
    "# Recursive Approach"
   ]
  },
  {
   "cell_type": "code",
   "execution_count": 4,
   "id": "3311ad98",
   "metadata": {},
   "outputs": [],
   "source": [
    "def Insert(l, v):\n",
    "    if len(l)==0:\n",
    "        return [v]\n",
    "    if v>= l[-1]:\n",
    "        return l + [v]\n",
    "    else:\n",
    "        return Insert(l[:-1], v) + l[-1:]\n",
    "    \n",
    "def Isort(l):\n",
    "    if len(l)<1:\n",
    "        return l\n",
    "    l = Insert (Isort(l[:-1]), l[-1])\n",
    "    return l"
   ]
  },
  {
   "cell_type": "code",
   "execution_count": 6,
   "id": "c029e514",
   "metadata": {},
   "outputs": [
    {
     "data": {
      "text/plain": [
       "[2, 3, 3, 32, 32, 63, 65, 66, 67, 74, 98, 313, 686, 769]"
      ]
     },
     "execution_count": 6,
     "metadata": {},
     "output_type": "execute_result"
    }
   ],
   "source": [
    "ls=[66,32,3,65,32,98,67,63,769,686,74,2,313,3]\n",
    "Isort(ls)"
   ]
  },
  {
   "cell_type": "code",
   "execution_count": null,
   "id": "97ad88c9",
   "metadata": {},
   "outputs": [],
   "source": []
  },
  {
   "cell_type": "code",
   "execution_count": null,
   "id": "11bba861",
   "metadata": {},
   "outputs": [],
   "source": []
  }
 ],
 "metadata": {
  "kernelspec": {
   "display_name": "Python 3 (ipykernel)",
   "language": "python",
   "name": "python3"
  },
  "language_info": {
   "codemirror_mode": {
    "name": "ipython",
    "version": 3
   },
   "file_extension": ".py",
   "mimetype": "text/x-python",
   "name": "python",
   "nbconvert_exporter": "python",
   "pygments_lexer": "ipython3",
   "version": "3.11.7"
  }
 },
 "nbformat": 4,
 "nbformat_minor": 5
}
