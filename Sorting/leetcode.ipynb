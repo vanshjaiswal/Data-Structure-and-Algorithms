{
 "cells": [
  {
   "cell_type": "code",
   "execution_count": null,
   "id": "659560dd",
   "metadata": {},
   "outputs": [],
   "source": [
    "\"\"\"\n",
    "You are given two integer arrays nums1 and nums2, sorted in non-decreasing order, and two integers m and n, \n",
    "representing the number of elements in nums1 and nums2 respectively.\n",
    "\n",
    "Merge nums1 and nums2 into a single array sorted in non-decreasing order.\n",
    "\n",
    "The final sorted array should not be returned by the function, \n",
    "but instead be stored inside the array nums1. To accommodate this, nums1 has a length of m + n, \n",
    "where the first m elements denote the elements that should be merged, \n",
    "and the last n elements are set to 0 and should be ignored. nums2 has a length of n.\n",
    "\n",
    "\n",
    "Input: nums1 = [1,2,3,0,0,0], m = 3, nums2 = [2,5,6], n = 3\n",
    "Output: [1,2,2,3,5,6]\n",
    "\"\"\""
   ]
  },
  {
   "cell_type": "code",
   "execution_count": 17,
   "id": "bb671fc6",
   "metadata": {},
   "outputs": [],
   "source": [
    "nums1 = [1,2,3,0,0,0]\n",
    "nums2 = [2,5,6]\n",
    "m = 3\n",
    "n = 3"
   ]
  },
  {
   "cell_type": "code",
   "execution_count": 18,
   "id": "aa8ce900",
   "metadata": {},
   "outputs": [],
   "source": [
    "for i in range(m,m+n):\n",
    "    nums1[i] = nums2[i-m]"
   ]
  },
  {
   "cell_type": "code",
   "execution_count": 19,
   "id": "29e58cf7",
   "metadata": {},
   "outputs": [
    {
     "data": {
      "text/plain": [
       "[1, 2, 3, 2, 5, 6]"
      ]
     },
     "execution_count": 19,
     "metadata": {},
     "output_type": "execute_result"
    }
   ],
   "source": [
    "nums1"
   ]
  },
  {
   "cell_type": "code",
   "execution_count": null,
   "id": "66ecefbf",
   "metadata": {},
   "outputs": [],
   "source": []
  },
  {
   "cell_type": "code",
   "execution_count": 10,
   "id": "398222dd",
   "metadata": {},
   "outputs": [],
   "source": [
    "import bisect"
   ]
  },
  {
   "cell_type": "code",
   "execution_count": 11,
   "id": "5491d74a",
   "metadata": {},
   "outputs": [
    {
     "data": {
      "text/plain": [
       "[1, 2, 3]"
      ]
     },
     "execution_count": 11,
     "metadata": {},
     "output_type": "execute_result"
    }
   ],
   "source": [
    "\n",
    "nums1"
   ]
  },
  {
   "cell_type": "code",
   "execution_count": 15,
   "id": "98be8f03",
   "metadata": {},
   "outputs": [],
   "source": [
    "nums1 = nums1[:m]\n",
    "for i in range(n):\n",
    "    pos = bisect.bisect(nums1, nums2[i])\n",
    "    nums1.insert(pos, nums2[i])"
   ]
  },
  {
   "cell_type": "code",
   "execution_count": 16,
   "id": "ac3458b0",
   "metadata": {},
   "outputs": [
    {
     "data": {
      "text/plain": [
       "[1]"
      ]
     },
     "execution_count": 16,
     "metadata": {},
     "output_type": "execute_result"
    }
   ],
   "source": [
    "nums1"
   ]
  },
  {
   "cell_type": "code",
   "execution_count": 14,
   "id": "d1a8d77c",
   "metadata": {},
   "outputs": [],
   "source": [
    "nums1 = [1]\n",
    "m = 1\n",
    "nums2 = []\n",
    "n = 0"
   ]
  },
  {
   "cell_type": "code",
   "execution_count": null,
   "id": "ca6b493c",
   "metadata": {},
   "outputs": [],
   "source": [
    "\"\"\"\n",
    "Given an array nums of size n, return the majority element.\n",
    "\n",
    "The majority element is the element that appears more than ⌊n / 2⌋ times. \n",
    "You may assume that the majority element always exists in the array.\n",
    "\n",
    "Example 1:\n",
    "\n",
    "Input: nums = [3,2,3]\n",
    "Output: 3\n",
    "Example 2:\n",
    "\n",
    "Input: nums = [2,2,1,1,1,2,2]\n",
    "Output: 2\n",
    "\n",
    "\n",
    "\"\"\""
   ]
  },
  {
   "cell_type": "code",
   "execution_count": 20,
   "id": "58f7675a",
   "metadata": {},
   "outputs": [],
   "source": [
    "nums = [2,2,1,1,1,2,2]"
   ]
  },
  {
   "cell_type": "code",
   "execution_count": 22,
   "id": "a6bfc797",
   "metadata": {},
   "outputs": [],
   "source": [
    "\n",
    "def count_n(nums):\n",
    "    n = len(nums)\n",
    "\n",
    "    l=list(set(nums))\n",
    "\n",
    "    for i in l:\n",
    "        if nums.count(i) > n/2:\n",
    "            return i\n",
    "        \n"
   ]
  },
  {
   "cell_type": "code",
   "execution_count": 23,
   "id": "af3d159a",
   "metadata": {},
   "outputs": [
    {
     "data": {
      "text/plain": [
       "2"
      ]
     },
     "execution_count": 23,
     "metadata": {},
     "output_type": "execute_result"
    }
   ],
   "source": [
    "count_n(nums)"
   ]
  },
  {
   "cell_type": "code",
   "execution_count": 24,
   "id": "5dce4705",
   "metadata": {},
   "outputs": [],
   "source": [
    "nums =[2,14,18,22,22]"
   ]
  },
  {
   "cell_type": "code",
   "execution_count": 28,
   "id": "25f11a97",
   "metadata": {},
   "outputs": [],
   "source": [
    "def duplicates(nums):\n",
    "    d={}\n",
    "    for i in nums:\n",
    "        if i in d.keys():\n",
    "            return True\n",
    "        else:\n",
    "            d[i] = 1\n",
    "    return False"
   ]
  },
  {
   "cell_type": "code",
   "execution_count": 29,
   "id": "bf77ef56",
   "metadata": {},
   "outputs": [
    {
     "data": {
      "text/plain": [
       "True"
      ]
     },
     "execution_count": 29,
     "metadata": {},
     "output_type": "execute_result"
    }
   ],
   "source": [
    "duplicates(nums)"
   ]
  },
  {
   "cell_type": "code",
   "execution_count": 26,
   "id": "413c5e7d",
   "metadata": {},
   "outputs": [
    {
     "name": "stdout",
     "output_type": "stream",
     "text": [
      "false\n",
      "false\n",
      "false\n",
      "true\n",
      "true\n"
     ]
    }
   ],
   "source": [
    "for i in nums:\n",
    "    if nums.count(i)>1:\n",
    "        print(\"true\")\n",
    "    else:\n",
    "        print(\"false\")"
   ]
  },
  {
   "cell_type": "code",
   "execution_count": 30,
   "id": "1102eb74",
   "metadata": {},
   "outputs": [],
   "source": [
    "s=\"ae\"\n",
    "t=\"aea\""
   ]
  },
  {
   "cell_type": "code",
   "execution_count": 34,
   "id": "3c280e0d",
   "metadata": {},
   "outputs": [
    {
     "name": "stdout",
     "output_type": "stream",
     "text": [
      "a\n"
     ]
    }
   ],
   "source": [
    "if s==\"\":\n",
    "    print( t)\n",
    "s=sorted(s)\n",
    "t=sorted(t)\n",
    "\n",
    "\n",
    "for i in range(len(t)-1):\n",
    "    if s[i] != t[i]:\n",
    "        print(t[i])\n",
    "        break\n",
    "else:\n",
    "    print(t[-1]) "
   ]
  },
  {
   "cell_type": "markdown",
   "id": "fab263bf",
   "metadata": {},
   "source": [
    "# 2 sum"
   ]
  },
  {
   "cell_type": "code",
   "execution_count": 36,
   "id": "79822192",
   "metadata": {},
   "outputs": [],
   "source": [
    "def two_sum(nums, target):\n",
    "    seen = {}\n",
    "    for i, value in enumerate(nums):\n",
    "        remaining = target - nums[i]\n",
    "        \n",
    "        if remaining in seen:\n",
    "            return [i, seen[remaining]]\n",
    "        else:\n",
    "            seen[value] = i\n",
    "    \n",
    "    "
   ]
  },
  {
   "cell_type": "code",
   "execution_count": 37,
   "id": "a1175c98",
   "metadata": {},
   "outputs": [],
   "source": [
    "l=[1,2,3,-1,-2]"
   ]
  },
  {
   "cell_type": "code",
   "execution_count": 38,
   "id": "09e2667a",
   "metadata": {},
   "outputs": [
    {
     "data": {
      "text/plain": [
       "[3, 0]"
      ]
     },
     "execution_count": 38,
     "metadata": {},
     "output_type": "execute_result"
    }
   ],
   "source": [
    "two_sum(l, 0)"
   ]
  },
  {
   "cell_type": "code",
   "execution_count": 41,
   "id": "992f7ee1",
   "metadata": {},
   "outputs": [],
   "source": [
    "def two_sum(nums, target):\n",
    "    for left in range(len(nums)-1):\n",
    "        right = len(nums)-1\n",
    "        while left < right:\n",
    "            temp_sum = nums[left] + nums[right]\n",
    "            if temp_sum > target:\n",
    "                right -=1\n",
    "            elif temp_sum < target:\n",
    "                left +=1\n",
    "            else:\n",
    "                return [left, right]"
   ]
  },
  {
   "cell_type": "code",
   "execution_count": 42,
   "id": "0162c718",
   "metadata": {},
   "outputs": [
    {
     "data": {
      "text/plain": [
       "[1, 4]"
      ]
     },
     "execution_count": 42,
     "metadata": {},
     "output_type": "execute_result"
    }
   ],
   "source": [
    "two_sum(l, 0)"
   ]
  },
  {
   "cell_type": "code",
   "execution_count": null,
   "id": "6552264a",
   "metadata": {},
   "outputs": [],
   "source": []
  },
  {
   "cell_type": "code",
   "execution_count": null,
   "id": "e73d2f14",
   "metadata": {},
   "outputs": [],
   "source": []
  },
  {
   "cell_type": "code",
   "execution_count": null,
   "id": "a0d5682f",
   "metadata": {},
   "outputs": [],
   "source": []
  }
 ],
 "metadata": {
  "kernelspec": {
   "display_name": "Python 3 (ipykernel)",
   "language": "python",
   "name": "python3"
  },
  "language_info": {
   "codemirror_mode": {
    "name": "ipython",
    "version": 3
   },
   "file_extension": ".py",
   "mimetype": "text/x-python",
   "name": "python",
   "nbconvert_exporter": "python",
   "pygments_lexer": "ipython3",
   "version": "3.10.9"
  }
 },
 "nbformat": 4,
 "nbformat_minor": 5
}
