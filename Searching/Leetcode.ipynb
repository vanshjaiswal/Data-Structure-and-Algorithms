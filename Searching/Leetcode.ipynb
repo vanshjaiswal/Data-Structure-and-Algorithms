{
 "cells": [
  {
   "cell_type": "code",
   "execution_count": 1,
   "id": "25353d55",
   "metadata": {},
   "outputs": [],
   "source": [
    "def binary_search(target, l: list):\n",
    "    if l==[]:\n",
    "        return False\n",
    "    \n",
    "    m=len(l)//2\n",
    "    if l[m]==target:\n",
    "        return True\n",
    "    \n",
    "    if target < l[m]:\n",
    "        return binary_search(target, l[:m])\n",
    "    else:\n",
    "        return binary_search(target, l[m+1:])"
   ]
  },
  {
   "cell_type": "code",
   "execution_count": 1,
   "id": "c3787a2c-6861-4535-a95a-3c0d9f8ae6f3",
   "metadata": {},
   "outputs": [
    {
     "data": {
      "text/plain": [
       "9"
      ]
     },
     "execution_count": 1,
     "metadata": {},
     "output_type": "execute_result"
    }
   ],
   "source": [
    "ls = [12,45,78,79,85,92,97,99,100]\n",
    "len(ls)"
   ]
  },
  {
   "cell_type": "code",
   "execution_count": 2,
   "id": "ff32e64e",
   "metadata": {},
   "outputs": [],
   "source": [
    "def search (target:int, l:list):\n",
    "    if l==[]:\n",
    "        return -1\n",
    "    start, end= 0 , len(l)-1\n",
    "    \n",
    "    while start <= end:\n",
    "        mid = (start + end)//2\n",
    "        if l[mid]==target:\n",
    "            return mid\n",
    "        elif l[mid] < target:\n",
    "            start = mid + 1\n",
    "        else:\n",
    "            end = mid -1"
   ]
  },
  {
   "cell_type": "code",
   "execution_count": 6,
   "id": "2d065c69",
   "metadata": {},
   "outputs": [
    {
     "data": {
      "text/plain": [
       "1"
      ]
     },
     "execution_count": 6,
     "metadata": {},
     "output_type": "execute_result"
    }
   ],
   "source": [
    "l=[1,2,3,4,5,6,7]\n",
    "target=2\n",
    "search(target, l)"
   ]
  },
  {
   "cell_type": "markdown",
   "id": "3b25dc11",
   "metadata": {},
   "source": [
    "# Q: Search Insert Position"
   ]
  },
  {
   "cell_type": "markdown",
   "id": "5e923e16",
   "metadata": {},
   "source": [
    "Given a sorted array of distinct integers and a target value, return the index if the target is found. If not, return the index where it would be if it were inserted in order.\n",
    "\n",
    "You must write an algorithm with O(log n) runtime complexity."
   ]
  },
  {
   "cell_type": "markdown",
   "id": "8cd545fd",
   "metadata": {},
   "source": [
    "Example 1:\n",
    "\n",
    "Input: nums = [1,3,5,6], target = 5\n",
    "Output: 2\n",
    "\n",
    "\n",
    "Example 2:\n",
    "\n",
    "Input: nums = [1,3,5,6], target = 2\n",
    "Output: 1\n",
    "\n",
    "\n",
    "Example 3:\n",
    "\n",
    "Input: nums = [1,3,5,6], target = 7\n",
    "Output: 4"
   ]
  },
  {
   "cell_type": "markdown",
   "id": "125b3018",
   "metadata": {},
   "source": [
    "URL: https://leetcode.com/problems/search-insert-position/description/"
   ]
  },
  {
   "cell_type": "code",
   "execution_count": 20,
   "id": "3b3006b0",
   "metadata": {},
   "outputs": [],
   "source": [
    "def searchInsert(nums, target):\n",
    "    if nums==[]:\n",
    "        return m\n",
    "    \n",
    "    m=len(nums)//2\n",
    "    \n",
    "    if target == nums[m]:\n",
    "        return m\n",
    "    \n",
    "    if target < nums[m]:\n",
    "        return searchInsert(nums[:m], target)\n",
    "    else:\n",
    "        return searchInsert(nums[m+1:], target)"
   ]
  },
  {
   "cell_type": "code",
   "execution_count": 26,
   "id": "fce6e38a",
   "metadata": {},
   "outputs": [],
   "source": [
    "def searchInsert(nums, target):\n",
    "    s=0\n",
    "    for i in range(len(nums)):\n",
    "        if nums[i]==target:\n",
    "            return i\n",
    "        elif nums[i]>target:\n",
    "            return s \n",
    "        else:\n",
    "            s=s+1\n",
    "    return s\n",
    "            "
   ]
  },
  {
   "cell_type": "code",
   "execution_count": 49,
   "id": "0187d707",
   "metadata": {},
   "outputs": [],
   "source": [
    "def searchInsert(l, target):\n",
    "    start, end = 0, len(l)-1\n",
    "    while start<=end:\n",
    "        mid = (start+end)//2\n",
    "        if l[mid]==target:\n",
    "            return mid\n",
    "        elif l[mid] < target:\n",
    "            start = mid+1\n",
    "        else:\n",
    "            end = mid - 1\n",
    "    return start\n",
    "            "
   ]
  },
  {
   "cell_type": "code",
   "execution_count": 46,
   "id": "b666dfc8",
   "metadata": {},
   "outputs": [],
   "source": [
    "def insert_fun(nums, target):\n",
    "    low, high = 0, len(nums) - 1\n",
    "\n",
    "    while low <= high:\n",
    "        mid = (low + high) // 2\n",
    "\n",
    "        if nums[mid] == target:\n",
    "            return mid\n",
    "        elif nums[mid] < target:\n",
    "            low = mid + 1\n",
    "        else:\n",
    "            high = mid - 1\n",
    "\n",
    "    return low"
   ]
  },
  {
   "cell_type": "code",
   "execution_count": null,
   "id": "06cdf5ec",
   "metadata": {},
   "outputs": [],
   "source": [
    "        while low <= high:\n",
    "            mid = (low + high) // 2\n",
    "            \n",
    "            if nums[mid] == target:\n",
    "                return mid\n",
    "            elif nums[mid] < target:\n",
    "                low = mid + 1\n",
    "            else:\n",
    "                high = mid - 1\n",
    "        \n",
    "        return low"
   ]
  },
  {
   "cell_type": "code",
   "execution_count": 50,
   "id": "392d1a63",
   "metadata": {},
   "outputs": [],
   "source": [
    "nums = [1,3,5,6]\n",
    "target = 5"
   ]
  },
  {
   "cell_type": "code",
   "execution_count": 51,
   "id": "2a06ffe0",
   "metadata": {},
   "outputs": [
    {
     "data": {
      "text/plain": [
       "2"
      ]
     },
     "execution_count": 51,
     "metadata": {},
     "output_type": "execute_result"
    }
   ],
   "source": [
    "insert_fun(nums, target)"
   ]
  },
  {
   "cell_type": "code",
   "execution_count": 52,
   "id": "b16e40c0",
   "metadata": {},
   "outputs": [
    {
     "data": {
      "text/plain": [
       "2"
      ]
     },
     "execution_count": 52,
     "metadata": {},
     "output_type": "execute_result"
    }
   ],
   "source": [
    "searchInsert(nums, target)"
   ]
  },
  {
   "cell_type": "code",
   "execution_count": 29,
   "id": "c893f471",
   "metadata": {},
   "outputs": [],
   "source": [
    "nums = [1,3,5,6]\n",
    "target = 2 "
   ]
  },
  {
   "cell_type": "code",
   "execution_count": 30,
   "id": "b4267b13",
   "metadata": {},
   "outputs": [
    {
     "data": {
      "text/plain": [
       "1"
      ]
     },
     "execution_count": 30,
     "metadata": {},
     "output_type": "execute_result"
    }
   ],
   "source": [
    "searchInsert(nums, target)"
   ]
  },
  {
   "cell_type": "code",
   "execution_count": null,
   "id": "84c937ef",
   "metadata": {},
   "outputs": [],
   "source": []
  },
  {
   "cell_type": "markdown",
   "id": "e8650039",
   "metadata": {},
   "source": [
    "You are given an array of characters letters that is sorted in non-decreasing order, and a character target. There are at least two different characters in letters.\n",
    "\n",
    "Return the smallest character in letters that is lexicographically greater than target. If such a character does not exist, return the first character in letters.\n",
    "\n",
    " \n",
    "\n",
    "Example 1:\n",
    "\n",
    "Input: letters = [\"c\",\"f\",\"j\"], target = \"a\"\n",
    "Output: \"c\"\n",
    "Explanation: The smallest character that is lexicographically greater than 'a' in letters is 'c'.\n",
    "Example 2:\n",
    "\n",
    "Input: letters = [\"c\",\"f\",\"j\"], target = \"c\"\n",
    "Output: \"f\"\n",
    "Explanation: The smallest character that is lexicographically greater than 'c' in letters is 'f'."
   ]
  },
  {
   "cell_type": "code",
   "execution_count": 3,
   "id": "8cf5a38b",
   "metadata": {},
   "outputs": [],
   "source": [
    "def search (target:int, l:list):\n",
    "    start, end= 0 , len(l)-1\n",
    "    \n",
    "    while start <=end:\n",
    "        mid = (start + end)//2\n",
    "        if l[mid]==target:\n",
    "            return l[mid+1]\n",
    "        elif l[mid] < target:\n",
    "            start = mid + 1\n",
    "        else:\n",
    "            end = mid -1\n",
    "    return l[0]"
   ]
  },
  {
   "cell_type": "code",
   "execution_count": 6,
   "id": "31eb4cca",
   "metadata": {},
   "outputs": [
    {
     "data": {
      "text/plain": [
       "'f'"
      ]
     },
     "execution_count": 6,
     "metadata": {},
     "output_type": "execute_result"
    }
   ],
   "source": [
    "letters = [\"c\",\"f\",\"j\"]\n",
    "target = \"c\"\n",
    "\n",
    "search(target, letters)"
   ]
  },
  {
   "cell_type": "code",
   "execution_count": null,
   "id": "57d7de3f",
   "metadata": {},
   "outputs": [],
   "source": []
  },
  {
   "cell_type": "markdown",
   "id": "41531420",
   "metadata": {},
   "source": []
  },
  {
   "cell_type": "markdown",
   "id": "efb8b4a6",
   "metadata": {},
   "source": []
  },
  {
   "cell_type": "markdown",
   "id": "af49e013",
   "metadata": {},
   "source": [
    "Q: Given two sorted arrays nums1 and nums2 of size m and n respectively, return the median of the two sorted arrays.\n",
    "\n",
    "The overall run time complexity should be O(log (m+n))."
   ]
  },
  {
   "cell_type": "code",
   "execution_count": 2,
   "id": "ab466df4",
   "metadata": {},
   "outputs": [
    {
     "data": {
      "text/plain": [
       "'\\n\\nExample 1:\\n\\nInput: nums1 = [1,3], nums2 = [2]\\nOutput: 2.00000\\nExplanation: merged array = [1,2,3] and median is 2.\\nExample 2:\\n\\nInput: nums1 = [1,2], nums2 = [3,4]\\nOutput: 2.50000\\nExplanation: merged array = [1,2,3,4] and median is (2 + 3) / 2 = 2.5.\\n'"
      ]
     },
     "execution_count": 2,
     "metadata": {},
     "output_type": "execute_result"
    }
   ],
   "source": [
    "\"\"\"\n",
    "\n",
    "Example 1:\n",
    "\n",
    "Input: nums1 = [1,3], nums2 = [2]\n",
    "Output: 2.00000\n",
    "Explanation: merged array = [1,2,3] and median is 2.\n",
    "Example 2:\n",
    "\n",
    "Input: nums1 = [1,2], nums2 = [3,4]\n",
    "Output: 2.50000\n",
    "Explanation: merged array = [1,2,3,4] and median is (2 + 3) / 2 = 2.5.\n",
    "\"\"\""
   ]
  },
  {
   "cell_type": "code",
   "execution_count": 3,
   "id": "92b873d3",
   "metadata": {},
   "outputs": [],
   "source": [
    "import bisect "
   ]
  },
  {
   "cell_type": "code",
   "execution_count": 19,
   "id": "81ea924b",
   "metadata": {},
   "outputs": [],
   "source": []
  },
  {
   "cell_type": "code",
   "execution_count": 5,
   "id": "6b6ffdae",
   "metadata": {},
   "outputs": [
    {
     "data": {
      "text/plain": [
       "1"
      ]
     },
     "execution_count": 5,
     "metadata": {},
     "output_type": "execute_result"
    }
   ],
   "source": [
    "bisect.bisect(nums1, 2)"
   ]
  },
  {
   "cell_type": "code",
   "execution_count": 6,
   "id": "16544ea6",
   "metadata": {},
   "outputs": [],
   "source": [
    "nums1 = [1,2]\n",
    "nums2 = [3,4]"
   ]
  },
  {
   "cell_type": "code",
   "execution_count": 8,
   "id": "9ae53980",
   "metadata": {},
   "outputs": [
    {
     "data": {
      "text/plain": [
       "2"
      ]
     },
     "execution_count": 8,
     "metadata": {},
     "output_type": "execute_result"
    }
   ],
   "source": [
    "bisect.bisect(nums1, 4)"
   ]
  },
  {
   "cell_type": "code",
   "execution_count": 30,
   "id": "03484bc2",
   "metadata": {},
   "outputs": [],
   "source": [
    "nums1 = [1,3]\n",
    "nums2 = [2]"
   ]
  },
  {
   "cell_type": "code",
   "execution_count": 25,
   "id": "125fd7b6",
   "metadata": {},
   "outputs": [
    {
     "name": "stdout",
     "output_type": "stream",
     "text": [
      "2\n",
      "1\n",
      "[1, 2, 3]\n"
     ]
    }
   ],
   "source": [
    "for i in nums2:\n",
    "    pos = bisect.bisect(nums1, i)\n",
    "    print(i)\n",
    "    print(pos)\n",
    "    nums1.insert(pos, i)\n",
    "    print(nums1)\n",
    "    \n",
    "median = np.median(nums1)"
   ]
  },
  {
   "cell_type": "code",
   "execution_count": 17,
   "id": "71237ada",
   "metadata": {},
   "outputs": [
    {
     "data": {
      "text/plain": [
       "[1, 3, 1]"
      ]
     },
     "execution_count": 17,
     "metadata": {},
     "output_type": "execute_result"
    }
   ],
   "source": [
    "nums1"
   ]
  },
  {
   "cell_type": "code",
   "execution_count": 16,
   "id": "719b7160",
   "metadata": {},
   "outputs": [
    {
     "data": {
      "text/plain": [
       "1.0"
      ]
     },
     "execution_count": 16,
     "metadata": {},
     "output_type": "execute_result"
    }
   ],
   "source": [
    "median"
   ]
  },
  {
   "cell_type": "code",
   "execution_count": 9,
   "id": "f77795cd",
   "metadata": {},
   "outputs": [],
   "source": [
    "import numpy as np"
   ]
  },
  {
   "cell_type": "code",
   "execution_count": 10,
   "id": "ca921eaf",
   "metadata": {},
   "outputs": [],
   "source": [
    "l=[1,4,5,6,3,6,32,7]"
   ]
  },
  {
   "cell_type": "code",
   "execution_count": 11,
   "id": "50056060",
   "metadata": {},
   "outputs": [
    {
     "data": {
      "text/plain": [
       "5.5"
      ]
     },
     "execution_count": 11,
     "metadata": {},
     "output_type": "execute_result"
    }
   ],
   "source": [
    "np.median(l)"
   ]
  },
  {
   "cell_type": "code",
   "execution_count": 32,
   "id": "84b20c34",
   "metadata": {},
   "outputs": [],
   "source": [
    "nums=nums1 + nums2"
   ]
  },
  {
   "cell_type": "code",
   "execution_count": 33,
   "id": "10704e7c",
   "metadata": {},
   "outputs": [
    {
     "data": {
      "text/plain": [
       "[1, 3, 2]"
      ]
     },
     "execution_count": 33,
     "metadata": {},
     "output_type": "execute_result"
    }
   ],
   "source": [
    "nums"
   ]
  },
  {
   "cell_type": "code",
   "execution_count": 34,
   "id": "6cb5b453",
   "metadata": {},
   "outputs": [
    {
     "data": {
      "text/plain": [
       "2.0"
      ]
     },
     "execution_count": 34,
     "metadata": {},
     "output_type": "execute_result"
    }
   ],
   "source": [
    "np.median(nums)"
   ]
  },
  {
   "cell_type": "code",
   "execution_count": 46,
   "id": "42b6a10c",
   "metadata": {},
   "outputs": [],
   "source": [
    "nums1 = [1,3]\n",
    "nums2 = [2,4]"
   ]
  },
  {
   "cell_type": "code",
   "execution_count": 47,
   "id": "e99e9475",
   "metadata": {},
   "outputs": [],
   "source": [
    "nums = nums1 + nums2\n",
    "nums = sorted(nums)"
   ]
  },
  {
   "cell_type": "code",
   "execution_count": 48,
   "id": "ab433ecb",
   "metadata": {},
   "outputs": [
    {
     "data": {
      "text/plain": [
       "[1, 2, 3, 4]"
      ]
     },
     "execution_count": 48,
     "metadata": {},
     "output_type": "execute_result"
    }
   ],
   "source": [
    "nums"
   ]
  },
  {
   "cell_type": "code",
   "execution_count": 50,
   "id": "c84f534d",
   "metadata": {},
   "outputs": [
    {
     "name": "stdout",
     "output_type": "stream",
     "text": [
      "7\n"
     ]
    },
    {
     "ename": "TypeError",
     "evalue": "unsupported operand type(s) for /: 'NoneType' and 'int'",
     "output_type": "error",
     "traceback": [
      "\u001b[1;31m---------------------------------------------------------------------------\u001b[0m",
      "\u001b[1;31mTypeError\u001b[0m                                 Traceback (most recent call last)",
      "Cell \u001b[1;32mIn[50], line 3\u001b[0m\n\u001b[0;32m      1\u001b[0m l\u001b[38;5;241m=\u001b[39m\u001b[38;5;28mlen\u001b[39m(nums)\n\u001b[0;32m      2\u001b[0m \u001b[38;5;28;01mif\u001b[39;00m l\u001b[38;5;241m%\u001b[39m\u001b[38;5;241m2\u001b[39m\u001b[38;5;241m==\u001b[39m\u001b[38;5;241m0\u001b[39m:\n\u001b[1;32m----> 3\u001b[0m     \u001b[38;5;28;43mprint\u001b[39;49m\u001b[43m \u001b[49m\u001b[43m(\u001b[49m\u001b[43mnums\u001b[49m\u001b[43m[\u001b[49m\u001b[43m(\u001b[49m\u001b[43ml\u001b[49m\u001b[38;5;241;43m/\u001b[39;49m\u001b[38;5;241;43m/\u001b[39;49m\u001b[38;5;241;43m2\u001b[39;49m\u001b[43m)\u001b[49m\u001b[43m]\u001b[49m\u001b[43m \u001b[49m\u001b[38;5;241;43m+\u001b[39;49m\u001b[43m \u001b[49m\u001b[43mnums\u001b[49m\u001b[43m[\u001b[49m\u001b[43m(\u001b[49m\u001b[43ml\u001b[49m\u001b[38;5;241;43m/\u001b[39;49m\u001b[38;5;241;43m/\u001b[39;49m\u001b[38;5;241;43m2\u001b[39;49m\u001b[43m)\u001b[49m\u001b[38;5;241;43m+\u001b[39;49m\u001b[38;5;241;43m1\u001b[39;49m\u001b[43m]\u001b[49m\u001b[43m)\u001b[49m\u001b[38;5;241;43m/\u001b[39;49m\u001b[38;5;241;43m2\u001b[39;49m\n\u001b[0;32m      4\u001b[0m \u001b[38;5;28;01melse\u001b[39;00m:\n\u001b[0;32m      5\u001b[0m     \u001b[38;5;28mprint\u001b[39m (nums[(l)\u001b[38;5;241m/\u001b[39m\u001b[38;5;241m/\u001b[39m\u001b[38;5;241m2\u001b[39m])\n",
      "\u001b[1;31mTypeError\u001b[0m: unsupported operand type(s) for /: 'NoneType' and 'int'"
     ]
    }
   ],
   "source": [
    "l=len(nums)\n",
    "if l%2==0:\n",
    "    print (nums[(l//2)] + nums[(l//2)+1])/2\n",
    "else:\n",
    "    print (nums[(l)//2])"
   ]
  },
  {
   "cell_type": "code",
   "execution_count": 51,
   "id": "ca25a0f3",
   "metadata": {},
   "outputs": [],
   "source": [
    "nums1 = [1,3]\n",
    "nums2 = [2]"
   ]
  },
  {
   "cell_type": "code",
   "execution_count": null,
   "id": "c3f1e651",
   "metadata": {},
   "outputs": [],
   "source": []
  }
 ],
 "metadata": {
  "kernelspec": {
   "display_name": "Python 3 (ipykernel)",
   "language": "python",
   "name": "python3"
  },
  "language_info": {
   "codemirror_mode": {
    "name": "ipython",
    "version": 3
   },
   "file_extension": ".py",
   "mimetype": "text/x-python",
   "name": "python",
   "nbconvert_exporter": "python",
   "pygments_lexer": "ipython3",
   "version": "3.11.7"
  }
 },
 "nbformat": 4,
 "nbformat_minor": 5
}
