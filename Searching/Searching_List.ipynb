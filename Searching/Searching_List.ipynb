{
 "cells": [
  {
   "cell_type": "markdown",
   "id": "54860625",
   "metadata": {},
   "source": [
    "# Naive Search"
   ]
  },
  {
   "cell_type": "markdown",
   "id": "48e8fc98",
   "metadata": {},
   "source": [
    "> Is value v present in list l? \n",
    "\n",
    "> Naive solution scans the whole list."
   ]
  },
  {
   "cell_type": "code",
   "execution_count": 1,
   "id": "16d9f21b",
   "metadata": {},
   "outputs": [],
   "source": [
    "def naive_search(v, l):\n",
    "    for i in l:\n",
    "        if v==i:\n",
    "            return True\n",
    "    return False"
   ]
  },
  {
   "cell_type": "markdown",
   "id": "f4f4660d",
   "metadata": {},
   "source": [
    "> Input size is n, the length of the list\n",
    "\n",
    "> Worst case is when v is not present in l,\n",
    "\n",
    "> Worst case complexity is O(n)"
   ]
  },
  {
   "cell_type": "markdown",
   "id": "d02d93a8",
   "metadata": {},
   "source": [
    "# Searching a sorted list"
   ]
  },
  {
   "cell_type": "markdown",
   "id": "e5850e70",
   "metadata": {},
   "source": [
    "What if l is sorted in ascending order."
   ]
  },
  {
   "cell_type": "markdown",
   "id": "0eaed3e2",
   "metadata": {},
   "source": [
    "> Compare v with the mid point of l\n",
    "\n",
    "> if mid-point is v, the value is found.\n",
    "\n",
    "> if v is less than the midpoint, search the first half.\n",
    "\n",
    "> if v is greater than the mid-point, search the second half.\n",
    "\n",
    ">stop when interval to search become empty"
   ]
  },
  {
   "cell_type": "code",
   "execution_count": 3,
   "id": "e15ef7b4",
   "metadata": {},
   "outputs": [],
   "source": [
    "def binary_search(v,l):\n",
    "    \n",
    "    if l==[]:          #if empty list or out of elements after recursive calls\n",
    "        return False\n",
    "    \n",
    "    m=len(l)//2        #finding the mid-point of the list\n",
    "    \n",
    "    if v == l[m]:      #if the element found return True\n",
    "        return True\n",
    "    \n",
    "    if v < l[m]:       #if v is less than the mid point value then search in first half\n",
    "        return binary_search(v,l[:m])\n",
    "    \n",
    "    else:             # otherwise search in second half\n",
    "        return binary_search(v,l[m+1:] )         "
   ]
  },
  {
   "cell_type": "markdown",
   "id": "0f6e63da",
   "metadata": {},
   "source": [
    "How long does this take?"
   ]
  },
  {
   "cell_type": "markdown",
   "id": "4b3f62f4",
   "metadata": {},
   "source": [
    "> Each call halves the interval to search.\n",
    "\n",
    "> Stop when the interval become empty.\n",
    "\n",
    "> log n ---- Number of times to divide n by 2 to reach 1.\n",
    "\n",
    "> 1 // 2 =0, so next call reaches empty list\n",
    "\n",
    "> Total time is O(log n ) steps "
   ]
  },
  {
   "cell_type": "code",
   "execution_count": null,
   "id": "2807e83c",
   "metadata": {},
   "outputs": [],
   "source": []
  },
  {
   "cell_type": "code",
   "execution_count": null,
   "id": "a2977661",
   "metadata": {},
   "outputs": [],
   "source": []
  },
  {
   "cell_type": "code",
   "execution_count": null,
   "id": "11f7ce67",
   "metadata": {},
   "outputs": [],
   "source": []
  },
  {
   "cell_type": "code",
   "execution_count": null,
   "id": "b8f37220",
   "metadata": {},
   "outputs": [],
   "source": []
  },
  {
   "cell_type": "code",
   "execution_count": null,
   "id": "0563992f",
   "metadata": {},
   "outputs": [],
   "source": []
  },
  {
   "cell_type": "code",
   "execution_count": null,
   "id": "0307261f",
   "metadata": {},
   "outputs": [],
   "source": []
  }
 ],
 "metadata": {
  "kernelspec": {
   "display_name": "Python 3 (ipykernel)",
   "language": "python",
   "name": "python3"
  },
  "language_info": {
   "codemirror_mode": {
    "name": "ipython",
    "version": 3
   },
   "file_extension": ".py",
   "mimetype": "text/x-python",
   "name": "python",
   "nbconvert_exporter": "python",
   "pygments_lexer": "ipython3",
   "version": "3.11.7"
  }
 },
 "nbformat": 4,
 "nbformat_minor": 5
}
