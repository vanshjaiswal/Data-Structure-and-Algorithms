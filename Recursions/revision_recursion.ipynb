{
 "cells": [
  {
   "cell_type": "markdown",
   "metadata": {},
   "source": [
    "# Recursion\n"
   ]
  },
  {
   "cell_type": "code",
   "execution_count": 2,
   "metadata": {},
   "outputs": [
    {
     "data": {
      "text/plain": [
       "[5, 4, 3, 2, 1]"
      ]
     },
     "execution_count": 2,
     "metadata": {},
     "output_type": "execute_result"
    }
   ],
   "source": [
    "#reverse an array using recursion\n",
    "\n",
    "\n",
    "arr = [1,2,3,4,5]\n",
    "\n",
    "def reverse(arr, start, end):\n",
    "    if start==end:\n",
    "        return arr\n",
    "    arr[start], arr[end] = arr[end], arr[start]\n",
    "    return reverse(arr, start+1, end -1)\n",
    "\n",
    "reverse(arr, 0, 4)\n"
   ]
  },
  {
   "cell_type": "markdown",
   "metadata": {},
   "source": [
    "### Pattern 1 :  Take or Not Take\n",
    "\n",
    "In take or not take we are taking one index at a time then we REMOVE it and then calling the non take part"
   ]
  },
  {
   "cell_type": "code",
   "execution_count": 3,
   "metadata": {},
   "outputs": [
    {
     "data": {
      "text/plain": [
       "[[3, 1, 2], [3, 1], [3, 2], [3], [1, 2], [1], [2], []]"
      ]
     },
     "execution_count": 3,
     "metadata": {},
     "output_type": "execute_result"
    }
   ],
   "source": [
    "#print all subsequence- contagious or non-contagious\n",
    "\n",
    "def subsequence(index, intermediate, arr, output):\n",
    "    #base case\n",
    "    if index >= len(arr):\n",
    "        output.append(intermediate.copy())\n",
    "        return output\n",
    "    \n",
    "    #take \n",
    "    intermediate.append(arr[index])\n",
    "    subsequence(index+1, intermediate, arr, output)\n",
    "\n",
    "    #not take\n",
    "    #remove the element that we have added earlier\n",
    "    intermediate.remove(arr[index])\n",
    "    subsequence(index+1, intermediate, arr, output)\n",
    "\n",
    "    return output\n",
    "\n",
    "subsequence(0, [], [3,1,2], [])\n",
    "\n",
    "\n"
   ]
  },
  {
   "cell_type": "markdown",
   "metadata": {},
   "source": [
    "### Pattern 2 : Take not take with the sum of subsequence with sum k\n",
    "\n",
    "In this pattern we are trying to find the subsequence with a given sum. For this we will use the previous take and not take scenario\n",
    "but we will take one sum variable and every time in Take we add the arr[i] into sum and subtract the same into the Not Take.\n",
    "\n",
    "**Boundary condition**: Whenever the sum ==k you have to add that subsequence in the output arr and when index will reach n you habe to return  "
   ]
  },
  {
   "cell_type": "code",
   "execution_count": 10,
   "metadata": {},
   "outputs": [
    {
     "data": {
      "text/plain": [
       "[[1, 1], [2]]"
      ]
     },
     "execution_count": 10,
     "metadata": {},
     "output_type": "execute_result"
    }
   ],
   "source": [
    "def sum_k(index, intermediate, recursive_sum, arr, output, k):\n",
    "    if recursive_sum == k:\n",
    "        return output.append(intermediate.copy())\n",
    "    if index >= len(arr):\n",
    "        return \n",
    "    \n",
    "    #take\n",
    "    intermediate.append(arr[index])\n",
    "    recursive_sum += arr[index]\n",
    "    sum_k(index+1, intermediate, recursive_sum, arr, output, k)\n",
    "\n",
    "    #not take\n",
    "    intermediate.remove(arr[index])\n",
    "    recursive_sum -= arr[index]\n",
    "    sum_k(index+1, intermediate, recursive_sum, arr, output, k)\n",
    "\n",
    "    return output\n",
    "\n",
    "sum_k(0, [], 0, [1,2,1], [], 2)\n"
   ]
  },
  {
   "cell_type": "markdown",
   "metadata": {},
   "source": [
    "### Pattern 3: Boolean return and check recursion output to print only one subsequence\n",
    "\n",
    "Print any 1 subsequence with sum k.\n",
    "\n",
    "In this pattern we are trying to print 1 subsequence with sum k. For this we are returning the boolean value in our boundary condition. As well as in TAKE and NOT TAKE we are checking whether the current recursive call is True or not. If TRUE then we return the whole value as True and print the output.\n",
    "\n",
    "\n",
    "**Boundary Condtion**: When index reach n and then if sum==k then append that subsequence in the output and return True else False\n"
   ]
  },
  {
   "cell_type": "code",
   "execution_count": 1,
   "metadata": {},
   "outputs": [
    {
     "data": {
      "text/plain": [
       "True"
      ]
     },
     "execution_count": 1,
     "metadata": {},
     "output_type": "execute_result"
    }
   ],
   "source": [
    "def anyone_sum_k(index, sum_k, intermediate, arr, output, k):\n",
    "    \n",
    "\n",
    "    if index >= len(arr):\n",
    "        if sum_k == k:\n",
    "            output.append(intermediate.copy())\n",
    "            return True\n",
    "        else:\n",
    "            return False\n",
    "\n",
    "    #take\n",
    "    intermediate.append(arr[index])\n",
    "    sum_k += arr[index]\n",
    "    if anyone_sum_k(index+1, sum_k, intermediate, arr, output, k):\n",
    "        return True\n",
    "\n",
    "    #not take\n",
    "    intermediate.remove(arr[index])\n",
    "    sum_k -= arr[index]\n",
    "    if anyone_sum_k(index+1, sum_k, intermediate, arr, output, k):\n",
    "        return True\n",
    "\n",
    "    return \n",
    "    \n",
    "anyone_sum_k(0, 0, [], [1,2,1], [], 2)\n"
   ]
  },
  {
   "cell_type": "markdown",
   "metadata": {},
   "source": [
    "### Pattern 4 : Count the number of subsequence with sum k (LEFT + RIGHT)\n",
    "\n",
    "In this pattern we are returning the value 1 when the sum==k for a subsequence else 0. For every split of take and not take it will return the 1 or 0. then we just need to add this take+not take. \n",
    "\n",
    "We create a variable LEFT and RIGHT and then at the end we are taking sum of it.\n",
    "\n",
    "\n",
    "**Boundary Condition**: When index reach n then if the sum ==  k then return 1 else return 0"
   ]
  },
  {
   "cell_type": "code",
   "execution_count": 16,
   "metadata": {},
   "outputs": [
    {
     "data": {
      "text/plain": [
       "2"
      ]
     },
     "execution_count": 16,
     "metadata": {},
     "output_type": "execute_result"
    }
   ],
   "source": [
    "def count_sum_k(index, recursive_sum, arr, k):\n",
    "    if index >= len(arr):\n",
    "        if recursive_sum==k:\n",
    "            return 1\n",
    "        else:\n",
    "            return 0\n",
    "\n",
    "    #take---> LEFT\n",
    "    recursive_sum += arr[index]\n",
    "    left = count_sum_k(index+1, recursive_sum, arr, k)\n",
    "\n",
    "    #Not take ---> RIGHT\n",
    "    recursive_sum -= arr[index]\n",
    "    right = count_sum_k(index+1, recursive_sum, arr, k)\n",
    "\n",
    "    return left + right\n",
    "\n",
    "count_sum_k(0,0, [1,2,1],  2)"
   ]
  },
  {
   "cell_type": "markdown",
   "metadata": {},
   "source": [
    "### Pattern 5: Combination Sum 1--> PICK and NOT PICK of any index\n",
    "\n",
    "\n",
    "Intuition:\n",
    "\n",
    "For questions like printing combinations or subsequences, the first thing that should strike your mind is recursion.\n",
    "\n",
    "How to think recursively?\n",
    "\n",
    "Whenever the problem is related to picking up elements from an array to form a combination, start thinking about the “pick and non-pick” approach.\n",
    "\n",
    "**First of all you have to SORT the elements of the array**\n",
    "\n",
    "In this pattern we are PICKing the same index element until the target-arr[index] is less than 0. So basically I can pick an element multiple times. In case of NOT PICK we will move to the next element. \n",
    "\n",
    "Make sure that during pick you are adding the arr[index] in DS and in not pick you have to remove it. \n",
    "\n",
    "**NOTE** - \n",
    "In the recurive call you are going to use target - arr[index] for not pick you have to pass the target only\n",
    "\n",
    "\n",
    "**Base condition**: \n",
    "1: when index>=n then return\n",
    "\n",
    "2: check if target == 0. if True then add the DS into the output.\n"
   ]
  },
  {
   "cell_type": "code",
   "execution_count": 5,
   "metadata": {},
   "outputs": [
    {
     "data": {
      "text/plain": [
       "[[2, 2, 3], [7]]"
      ]
     },
     "execution_count": 5,
     "metadata": {},
     "output_type": "execute_result"
    }
   ],
   "source": [
    "def combination_sum(index, target, intermediate, arr, output):\n",
    "    if index >= len(arr):\n",
    "        if target == 0:\n",
    "            output.append(intermediate.copy())\n",
    "        return\n",
    "    \n",
    "    \n",
    "    \n",
    "    #Pick\n",
    "    if arr[index] <= target:\n",
    "        intermediate.append(arr[index])\n",
    "        combination_sum(index, target-arr[index], intermediate, arr, output)\n",
    "        intermediate.remove(arr[index])\n",
    "        \n",
    "    #Not pick\n",
    "    combination_sum(index+1, target, intermediate, arr, output)\n",
    "\n",
    "    return output\n",
    "\n",
    "\n",
    "combination_sum(0, 7, [], sorted([8,2,3,6,7]), [])"
   ]
  },
  {
   "cell_type": "markdown",
   "metadata": {},
   "source": [
    "### Pattern 6: Combination sum 2 equal to k ; Subsequence sum must contain one element only once. \n",
    "\n",
    "\n",
    "\n",
    "first of all we have to sort the array.\n",
    "then for the subsequence we can pick the 0 the index by n-1 ways. so we have to run a for loop. because we cannot take an element twice. In that case we have to check the next element and if it is same then I have to skip that element so we have to make the recursive call for the element which is unique. \n",
    "\n",
    "\n",
    "In the for loop we will make one condition for skipping the same value element . \n",
    "\n",
    "every time we are taking the element if target-arr[ind] is less than arr[ind]. \n",
    "\n",
    "\n",
    "**Base Condition** : if target == 0: output.append(ds)\n",
    "if index >= n:\n",
    "return\n",
    "\n"
   ]
  },
  {
   "cell_type": "code",
   "execution_count": 8,
   "metadata": {},
   "outputs": [
    {
     "data": {
      "text/plain": [
       "[[1, 1, 2], [2, 2]]"
      ]
     },
     "execution_count": 8,
     "metadata": {},
     "output_type": "execute_result"
    }
   ],
   "source": [
    "def combination_sum2(index, intermediate, target, arr, output):\n",
    "    if target == 0:\n",
    "        output.append(intermediate.copy())\n",
    "    # if induex >= len(arr):\n",
    "    #     retrn \n",
    "    \n",
    "    \n",
    "    for i in range(index, len(arr)):\n",
    "        #Check if the next value is same as the previous value if True then dont take it\n",
    "        if i > index and arr[i] ==  arr[i-1]:\n",
    "            continue\n",
    "        #  If the arr element is greater than the target then since we have sorted list so all the element must be greater than that\n",
    "        if arr[i] > target:\n",
    "            break\n",
    "\n",
    "        #make a recursion call\n",
    "        intermediate.append(arr[i])\n",
    "        combination_sum2(i+1, intermediate, target-arr[i], arr, output)\n",
    "        \n",
    "        intermediate.remove(arr[i])\n",
    "     \n",
    "        \n",
    "\n",
    "    return output\n",
    "\n",
    "\n",
    "combination_sum2(0, [], 4, sorted([1,1,1,2,2]), [])"
   ]
  },
  {
   "cell_type": "markdown",
   "metadata": {},
   "source": [
    "### Pattern 7: Write the Permutation of the array\n",
    "\n",
    "In the permutation we have to run a for loop on all the elements and to track that which element is already added into our current permutation using a dictionary. Then we will mark the current elements and only consider those elements in the recursive call which is not in the dictionary\n",
    "\n",
    "Once we exhaust all the possible elements then we set dic[arr[i]] = 0 again to mark it as unmarked value \n",
    "\n",
    "**Base Condition**: if len(arr) ==  len(intermediate): add the intermediate to the array "
   ]
  },
  {
   "cell_type": "code",
   "execution_count": 48,
   "metadata": {},
   "outputs": [
    {
     "data": {
      "text/plain": [
       "[[1, 2, 3], [1, 3, 2], [2, 1, 3], [2, 3, 1], [3, 1, 2], [3, 2, 1]]"
      ]
     },
     "execution_count": 48,
     "metadata": {},
     "output_type": "execute_result"
    }
   ],
   "source": [
    "def permutation(index, intermediate, arr, dic, output):\n",
    "    if len(intermediate) == len(arr):\n",
    "        output.append(intermediate.copy())\n",
    "    # if index >= len(arr):\n",
    "    #     return \n",
    "\n",
    "    for i in range(0, len(arr)):\n",
    "        if dic[arr[i]] != 1:\n",
    "            dic[arr[i]] = 1\n",
    "            intermediate.append(arr[i])\n",
    "            permutation(i+1, intermediate, arr, dic, output)\n",
    "            dic[arr[i]] = 0\n",
    "            intermediate.remove(arr[i])\n",
    "    return output\n",
    "\n",
    "\n",
    "permutation(0, [], [1,2,3], {1:0, 2:0, 3:0}, [])"
   ]
  },
  {
   "cell_type": "markdown",
   "metadata": {},
   "source": [
    "### Pattern 8: Write the unique permutation for the array contains the duplicate elements\n",
    "\n",
    "In this problem we have to use the dictionary which contains the elements and their number of occurence. \n",
    "Since there are some duplicate elements then we have the option of selecting the unique element at each level because the duplicate element will end up in the same permutation.\n",
    "\n",
    "run the for loop on the dictionary keys(unique elements) and check if its count is more than 0 then reduce the count by 1 add it in the intermediate list and call the recursion. After this increase the count again and remove the element from the intermediate list.\n",
    "\n",
    "\n",
    "**Base Condition**: len(arr) == len(intermediate) then add the element in the output"
   ]
  },
  {
   "cell_type": "code",
   "execution_count": 54,
   "metadata": {},
   "outputs": [
    {
     "data": {
      "text/plain": [
       "[[1, 1, 2], [1, 2, 1], [2, 1, 1]]"
      ]
     },
     "execution_count": 54,
     "metadata": {},
     "output_type": "execute_result"
    }
   ],
   "source": [
    "def permutation2(index, intermediate, dic, arr, output):\n",
    "    if len(intermediate) == len(arr):\n",
    "        output.append(intermediate.copy())\n",
    "    \n",
    "    for i in dic.keys():\n",
    "        if dic[i] > 0:\n",
    "            dic[i] -= 1\n",
    "            intermediate.append(i)\n",
    "            permutation2(i+1, intermediate, dic, arr, output)\n",
    "            dic[i] += 1\n",
    "            intermediate.pop()\n",
    "    return output\n",
    "arr = [1,1,2]\n",
    "permutation2(0, [], {1:2,2:1}, arr, [])\n",
    "# Example 1:\n",
    "\n",
    "# Input: nums = [1,1,2]\n",
    "# Output:\n",
    "# [[1,1,2],\n",
    "#  [1,2,1],\n",
    "#  [2,1,1]]\n"
   ]
  },
  {
   "cell_type": "code",
   "execution_count": 67,
   "metadata": {},
   "outputs": [
    {
     "name": "stdout",
     "output_type": "stream",
     "text": [
      "[1, 2, 3, 4]\n"
     ]
    },
    {
     "data": {
      "text/plain": [
       "'3412'"
      ]
     },
     "execution_count": 67,
     "metadata": {},
     "output_type": "execute_result"
    }
   ],
   "source": [
    "#https://leetcode.com/problems/permutation-sequence/solutions/2502436/c-100-fastest-solution-best-approach-with-good-explanation-easy-to-understand-1/\n",
    "\n",
    "###HARD###\n",
    "def permutation_sequence(n, k):\n",
    "    arr = []\n",
    "    fact = 1\n",
    "    for i in range(1, n+1):\n",
    "  \n",
    "        arr.append(i)\n",
    "        fact *= i\n",
    "\n",
    "    print(arr)\n",
    "    fact = fact // n\n",
    "    k=k-1\n",
    "    ans = \"\"\n",
    "    while True:\n",
    "        ans += str(arr[k//fact])\n",
    "        arr.remove(arr[k//fact])\n",
    "        k %= fact\n",
    "        \n",
    "        if len(arr)==0:\n",
    "            break\n",
    "        fact = fact//len(arr)\n",
    "        \n",
    "\n",
    "    return ans\n",
    "\n",
    "permutation_sequence(4, 17)\n",
    "        \n"
   ]
  },
  {
   "cell_type": "markdown",
   "metadata": {},
   "source": [
    "**SUBSET SUM 1**\n",
    "\n",
    "This problem is solved on the pattern of TAKE AND NOT TAKE"
   ]
  },
  {
   "cell_type": "code",
   "execution_count": 9,
   "metadata": {},
   "outputs": [
    {
     "data": {
      "text/plain": [
       "[8, 7, 6, 5, 3, 2, 1, 0]"
      ]
     },
     "execution_count": 9,
     "metadata": {},
     "output_type": "execute_result"
    }
   ],
   "source": [
    "def subset_sum(index, intermediate, arr, sub_sum, output):\n",
    "    if index >= len(arr):\n",
    "        output.append(sub_sum)\n",
    "        return\n",
    "\n",
    "    #take\n",
    "    # sub_sum += arr[index]\n",
    "    intermediate.append(arr[index])\n",
    "    subset_sum(index+1, intermediate, arr, sub_sum+arr[index], output)\n",
    "\n",
    "    #not take\n",
    "    # sub_sum -= arr[index]\n",
    "    intermediate.remove(arr[index])\n",
    "    subset_sum(index+1, intermediate, arr, sub_sum, output)\n",
    "\n",
    "    return output\n",
    "\n",
    "subset_sum(0, [], [5,2,1], 0, [])"
   ]
  },
  {
   "cell_type": "markdown",
   "metadata": {},
   "source": [
    "**SUBSET SUM 2**\n",
    "\n",
    "This problem is solved on the pattern of PICK AND NOT PICK at any index with the for loop based on PATTERN 6"
   ]
  },
  {
   "cell_type": "code",
   "execution_count": 72,
   "metadata": {},
   "outputs": [
    {
     "data": {
      "text/plain": [
       "[0, 1, 3, 5, 2, 4]"
      ]
     },
     "execution_count": 72,
     "metadata": {},
     "output_type": "execute_result"
    }
   ],
   "source": [
    "def subset_sum2(index, sub_sum, arr, output):\n",
    "    output.append(sub_sum)\n",
    "    if index >= len(arr):\n",
    "        return\n",
    "    \n",
    "    for i in range(index, len(arr)):\n",
    "        if i>index and arr[i] == arr[i-1]:\n",
    "            continue\n",
    "        \n",
    "        sub_sum += arr[i]\n",
    "        subset_sum2(i+1, sub_sum, arr, output)\n",
    "        sub_sum -= arr[i]\n",
    "    return output\n",
    "\n",
    "subset_sum2(0, 0, [1, 2, 2], [])"
   ]
  },
  {
   "cell_type": "markdown",
   "metadata": {},
   "source": [
    "### Pattern 10: Word Search - Moving in n-direction of 2D array and finding sequence/pattern/sum \n",
    "\n",
    "In this problem we will explore all the n-direction(4 in this case) using (i+1, j), (i-1, j), (i, j+1), (i,j-1) and also maintaining a visisted array to prevent the infinite loop."
   ]
  },
  {
   "cell_type": "code",
   "execution_count": 103,
   "metadata": {},
   "outputs": [
    {
     "data": {
      "text/plain": [
       "False"
      ]
     },
     "execution_count": 103,
     "metadata": {},
     "output_type": "execute_result"
    }
   ],
   "source": [
    "#Word Search\n",
    "\n",
    "\n",
    "def word_search(row, col, index, board, word, visited):\n",
    "    if index == len(word):\n",
    "        print(\"Inside\")\n",
    "        return True\n",
    "\n",
    "    if row < 0 or col < 0 or row >= len(board) or col >= len(board[0]) or board[row][col] != word[index] or (row, col) in visited:\n",
    "        return False\n",
    "\n",
    "    visited.add((row, col))\n",
    "\n",
    "    result =  (word_search(row + 1, col, index + 1, board, word, visited) or  \n",
    "            word_search(row , col-1, index + 1, board, word, visited) or\n",
    "            word_search(row-1 , col, index + 1, board, word, visited) or\n",
    "            word_search(row, col+1, index + 1, board, word, visited)) \n",
    "    visited.remove((row, col))\n",
    "    return result\n",
    "\n",
    "def driver(board, word):\n",
    "    visited = set()\n",
    "    for i in range(len(board)):\n",
    "        for j in range(len(board[0])):\n",
    "            if word_search(i, j, 0, board, word, visited):\n",
    "                return True\n",
    "    return False\n",
    " \n",
    "\n",
    "board = [[\"A\",\"B\",\"C\",\"E\"],\n",
    "        [\"S\",\"F\",\"C\",\"S\"],\n",
    "        [\"A\",\"D\",\"E\",\"E\"]]\n",
    "word = \"ABCCEDK\"\n",
    "visit = set()\n",
    "driver(board, word)\n",
    "\n",
    "\n",
    "    \n"
   ]
  },
  {
   "cell_type": "markdown",
   "metadata": {},
   "source": [
    "**Rat in a Maze**"
   ]
  },
  {
   "cell_type": "code",
   "execution_count": 105,
   "metadata": {},
   "outputs": [
    {
     "data": {
      "text/plain": [
       "['DDRDRR', 'DDRDDRR']"
      ]
     },
     "execution_count": 105,
     "metadata": {},
     "output_type": "execute_result"
    }
   ],
   "source": [
    "def path_finder(row, col, arr, visited, path, output):\n",
    "    if row==len(arr)-1 and col==len(arr)-1:\n",
    "        output.append(path)\n",
    "        return\n",
    "    \n",
    "    path_notation = \"DLRU\"\n",
    "    i = [1,0,0,-1]\n",
    "    j = [0,-1,1,0]\n",
    "\n",
    "    for pos in range(4):\n",
    "        nrow = row + i[pos]\n",
    "        ncol = col + j[pos]\n",
    "\n",
    "        if nrow >= 0 and ncol >= 0 and nrow < len(arr) and ncol<len(arr[0]) and arr[nrow][ncol]==1 and (nrow, ncol) not in visited:\n",
    "            path += path_notation[pos]\n",
    "            visited.add((nrow,ncol))\n",
    "            path_finder(nrow, ncol, arr, visited, path, output)\n",
    "            visited.remove((nrow, ncol))\n",
    "\n",
    "    return output\n",
    "\n",
    "m=[[1, 0, 0, 0],\n",
    "    [1, 1, 0, 1], \n",
    "    [1, 1, 0, 0],\n",
    "    [0, 1, 1, 1]]\n",
    "\n",
    "visited = set()\n",
    "path_finder(0, 0, m,visited,\"\", [])"
   ]
  },
  {
   "cell_type": "code",
   "execution_count": null,
   "metadata": {},
   "outputs": [],
   "source": []
  }
 ],
 "metadata": {
  "kernelspec": {
   "display_name": "base",
   "language": "python",
   "name": "python3"
  },
  "language_info": {
   "codemirror_mode": {
    "name": "ipython",
    "version": 3
   },
   "file_extension": ".py",
   "mimetype": "text/x-python",
   "name": "python",
   "nbconvert_exporter": "python",
   "pygments_lexer": "ipython3",
   "version": "3.11.7"
  }
 },
 "nbformat": 4,
 "nbformat_minor": 2
}
