{
 "cells": [
  {
   "cell_type": "markdown",
   "metadata": {},
   "source": [
    "Dynamic Programming: \n",
    "\n",
    "There are going to be the 4 solutions into the DP problem:\n",
    "\n",
    "1: Recursion (Brute force and having exponential Time complexity)\n",
    "2: Memoization (Top Down Approach)\n",
    "3: Tabulation (Bottom Up Approach)\n",
    "4: Space Optimization "
   ]
  },
  {
   "cell_type": "markdown",
   "metadata": {},
   "source": [
    "Fibonacchi"
   ]
  },
  {
   "cell_type": "code",
   "execution_count": 4,
   "metadata": {},
   "outputs": [
    {
     "data": {
      "text/plain": [
       "5"
      ]
     },
     "execution_count": 4,
     "metadata": {},
     "output_type": "execute_result"
    }
   ],
   "source": [
    "def fib_recursion(n):\n",
    "    #base case\n",
    "    if n<=1:\n",
    "        return n\n",
    "\n",
    "    return fib_recursion(n-1) + fib_recursion(n-2)\n",
    "\n",
    "fib_recursion(5)"
   ]
  },
  {
   "cell_type": "code",
   "execution_count": 8,
   "metadata": {},
   "outputs": [
    {
     "data": {
      "text/plain": [
       "55"
      ]
     },
     "execution_count": 8,
     "metadata": {},
     "output_type": "execute_result"
    }
   ],
   "source": [
    "def fib_memoization(n, dp):\n",
    "    #base case\n",
    "    if n<=1:\n",
    "        return n\n",
    "\n",
    "    #check if the subproblem is already calculated in the past and stored in the dp \n",
    "    if dp[n] != -1:\n",
    "        return dp[n]\n",
    "\n",
    "    #else: we are caluclating it for the very first time\n",
    "    dp[n] = fib_memoization(n-1, dp) + fib_memoization(n-2, dp)\n",
    "\n",
    "    return dp[n]\n",
    "    \n",
    "n=10\n",
    "dp = [-1] * (n+1)\n",
    "fib_memoization(n, dp)"
   ]
  },
  {
   "cell_type": "code",
   "execution_count": 11,
   "metadata": {},
   "outputs": [
    {
     "data": {
      "text/plain": [
       "5"
      ]
     },
     "execution_count": 11,
     "metadata": {},
     "output_type": "execute_result"
    }
   ],
   "source": [
    "def fib_tabulation(n):\n",
    "    #create a dp array of size n+1 (In case of 1D DP)\n",
    "    dp = [-1] * (n+1)\n",
    "\n",
    "    #assign the base case value to the specific dp index\n",
    "    dp[0] = 0\n",
    "    dp[1] = 1\n",
    "\n",
    "    #Write a for loop equals to number of params changing in recursion calls: 1 in this case\n",
    "    for i in range(2, n+1):\n",
    "        #copy the recursion and replace it with the dp array index and assign the value into the present index\n",
    "        # return fib_recursion(n-1) + fib_recursion(n-2)\n",
    "        dp[i] = dp[i-1] + dp[i-2]\n",
    "\n",
    "    #return the dp value of the index for which you are calculating everything\n",
    "    return dp[n]\n",
    "\n",
    "fib_tabulation(5)"
   ]
  },
  {
   "cell_type": "code",
   "execution_count": 12,
   "metadata": {},
   "outputs": [
    {
     "data": {
      "text/plain": [
       "5"
      ]
     },
     "execution_count": 12,
     "metadata": {},
     "output_type": "execute_result"
    }
   ],
   "source": [
    "def space_optimization(n):\n",
    "    #convert the base case into the variables as prev and prev2\n",
    "    prev = 1\n",
    "    prev2 = 0\n",
    "    for i in range(2, n+1):\n",
    "        cur = prev + prev2\n",
    "        prev2 = prev\n",
    "        prev =  cur\n",
    "\n",
    "    return prev\n",
    "\n",
    "space_optimization(5)\n"
   ]
  },
  {
   "cell_type": "markdown",
   "metadata": {},
   "source": [
    "Climbing Stairs\n"
   ]
  },
  {
   "cell_type": "code",
   "execution_count": 13,
   "metadata": {},
   "outputs": [
    {
     "data": {
      "text/plain": [
       "8"
      ]
     },
     "execution_count": 13,
     "metadata": {},
     "output_type": "execute_result"
    }
   ],
   "source": [
    "def recursion(n):\n",
    "    if n==1 or n==0:\n",
    "        return 1\n",
    "    \n",
    "    two_step = 0 \n",
    "    one_step = recursion(n-1)\n",
    "    two_step = recursion (n-2)\n",
    "\n",
    "    return one_step + two_step\n",
    "\n",
    "recursion(5)\n",
    "\n",
    "#TC : O(2^n)\n",
    "#SC:  O(N): Aux recursion stack\n",
    "\n"
   ]
  },
  {
   "cell_type": "code",
   "execution_count": 14,
   "metadata": {},
   "outputs": [
    {
     "data": {
      "text/plain": [
       "8"
      ]
     },
     "execution_count": 14,
     "metadata": {},
     "output_type": "execute_result"
    }
   ],
   "source": [
    "def memoization(n, dp):\n",
    "    if n==1 or n==0:\n",
    "        return 1\n",
    "\n",
    "    if dp[n] != -1:\n",
    "        return dp[n]\n",
    "\n",
    "    two = 0\n",
    "    one = memoization(n-1, dp)\n",
    "    two = memoization(n-2, dp)\n",
    "    dp[n] = one + two\n",
    "    return dp[n]\n",
    "\n",
    "n=5\n",
    "dp = [-1] * (n+1)\n",
    "memoization(n, dp)\n",
    "\n",
    "#TC: O(N) Linear\n",
    "#SC: O(N)  + O(N)"
   ]
  },
  {
   "cell_type": "code",
   "execution_count": 16,
   "metadata": {},
   "outputs": [
    {
     "data": {
      "text/plain": [
       "8"
      ]
     },
     "execution_count": 16,
     "metadata": {},
     "output_type": "execute_result"
    }
   ],
   "source": [
    "def tabulation(n):\n",
    "    dp = [-1] * (n+1)\n",
    "\n",
    "    #assign the base case\n",
    "    dp[0] = 1\n",
    "    dp[1] = 1\n",
    "\n",
    "    #write a for loop from bottom to top\n",
    "    for i in range(2, n+1):\n",
    "        #copy the recursion\n",
    "        # one_step = recursion(n-1)\n",
    "        # two_step = recursion (n-2)\n",
    "\n",
    "        # return one_step + two_step\n",
    "        one_step = dp[i-1]\n",
    "        two_step = dp[i-2]\n",
    "\n",
    "        dp[i] = one_step + two_step\n",
    "\n",
    "    return dp[n]\n",
    "\n",
    "tabulation(5)\n",
    "\n",
    "#TC: O(N)\n",
    "#SC : O(N)\n",
    "\n",
    "        "
   ]
  },
  {
   "cell_type": "code",
   "execution_count": 17,
   "metadata": {},
   "outputs": [
    {
     "data": {
      "text/plain": [
       "8"
      ]
     },
     "execution_count": 17,
     "metadata": {},
     "output_type": "execute_result"
    }
   ],
   "source": [
    "def space_optimization(n):\n",
    "    #write the base cases as the value of prev and prev2\n",
    "    prev = 1\n",
    "    prev2 = 1\n",
    "\n",
    "    for i in range(2, n+1):\n",
    "        cur = prev + prev2\n",
    "        prev2 = prev\n",
    "        prev = cur\n",
    "\n",
    "    return prev \n",
    "\n",
    "\n",
    "space_optimization(5)\n",
    "\n",
    "#TC : O(N)\n",
    "#SC : O(1)"
   ]
  },
  {
   "cell_type": "markdown",
   "metadata": {},
   "source": [
    "Frog Jump:\n",
    "\n",
    "H = [10,20,30,10]\n",
    "find min energy"
   ]
  },
  {
   "cell_type": "code",
   "execution_count": 21,
   "metadata": {},
   "outputs": [
    {
     "data": {
      "text/plain": [
       "20"
      ]
     },
     "execution_count": 21,
     "metadata": {},
     "output_type": "execute_result"
    }
   ],
   "source": [
    "def recursion(index, H):\n",
    "    if index <= 0:\n",
    "        return 0\n",
    "\n",
    "    two_step = float(\"inf\")\n",
    "    one_step  =  recursion(index - 1, H) + abs(H[index] - H[index-1])\n",
    "    two_step = recursion(index - 2, H)  + abs(H[index] - H[index -2])\n",
    "\n",
    "    return min(one_step, two_step)\n",
    "\n",
    "H = [10,20,30,10]\n",
    "n=len(H)\n",
    "recursion(n-1, H)\n"
   ]
  },
  {
   "cell_type": "code",
   "execution_count": 24,
   "metadata": {},
   "outputs": [
    {
     "data": {
      "text/plain": [
       "20"
      ]
     },
     "execution_count": 24,
     "metadata": {},
     "output_type": "execute_result"
    }
   ],
   "source": [
    "def memoization(index, H, dp):\n",
    "    if index<=0: return 0\n",
    "    if dp[index] != -1: return dp[index]\n",
    "\n",
    "    two = float(\"inf\")\n",
    "    one = memoization(index-1, H, dp) + abs(H[index] - H[index-1])\n",
    "    two = memoization(index-2, H, dp) + abs(H[index] - H[index-2])\n",
    "    dp[index] =  min(one, two)\n",
    "    return dp[index]\n",
    "\n",
    "H = [10,20,30,10]\n",
    "n=len(H)\n",
    "dp=[-1] * (n+1)\n",
    "memoization(n-1, H, dp)\n",
    "    "
   ]
  },
  {
   "cell_type": "code",
   "execution_count": 29,
   "metadata": {},
   "outputs": [
    {
     "data": {
      "text/plain": [
       "20"
      ]
     },
     "execution_count": 29,
     "metadata": {},
     "output_type": "execute_result"
    }
   ],
   "source": [
    "def tabulation(index, H):\n",
    "    dp = [-1] * (index+1)\n",
    "    \n",
    "    #assign base case: if index==0: return 0\n",
    "    dp[0] = 0\n",
    "\n",
    "    two_step = float(\"inf\")\n",
    "    for i in range(1, index+1):\n",
    "        # one_step  =  recursion(index - 1, H) + abs(H[index] - H[index-1])\n",
    "        # two_step = recursion(index - 2, H)  + abs(H[index] - H[index -2])\n",
    "\n",
    "        # return min(one_step, two_step)\n",
    "        \n",
    "        one_step  =  dp[i - 1] + abs(H[i] - H[i-1])\n",
    "        if i>1:\n",
    "            two_step = dp[i - 2]  + abs(H[i] - H[i -2])\n",
    "\n",
    "        dp[i] =  min(one_step, two_step)\n",
    "    \n",
    "    return dp[index]\n",
    "\n",
    "H = [10,20,30,10]\n",
    "n=len(H)\n",
    "tabulation(n-1, H)"
   ]
  },
  {
   "cell_type": "code",
   "execution_count": 30,
   "metadata": {},
   "outputs": [
    {
     "data": {
      "text/plain": [
       "20"
      ]
     },
     "execution_count": 30,
     "metadata": {},
     "output_type": "execute_result"
    }
   ],
   "source": [
    "def space_optimization(index, H):\n",
    "    prev = 0\n",
    "    prev2 = 0\n",
    "    two_step = float(\"inf\")\n",
    "    for i in range(1, index+1):\n",
    "        one_step  =  prev + abs(H[i] - H[i-1])\n",
    "        if i>1:\n",
    "            two_step = prev2  + abs(H[i] - H[i -2])\n",
    "        cur =  min(one_step, two_step)\n",
    "        prev2 = prev \n",
    "        prev = cur \n",
    "    return prev \n",
    "\n",
    "H = [10,20,30,10]\n",
    "n=len(H)\n",
    "space_optimization(n-1, H)     "
   ]
  },
  {
   "cell_type": "markdown",
   "metadata": {},
   "source": [
    "Frog K jump"
   ]
  },
  {
   "cell_type": "code",
   "execution_count": 35,
   "metadata": {},
   "outputs": [
    {
     "data": {
      "text/plain": [
       "30"
      ]
     },
     "execution_count": 35,
     "metadata": {},
     "output_type": "execute_result"
    }
   ],
   "source": [
    "def recursion(index, H, k):\n",
    "    if index==0:\n",
    "        return 0\n",
    "    mini = float(\"inf\")\n",
    "    for j in range(1, k+1):\n",
    "        if index-j>=0:\n",
    "            jump = recursion(index-j, H, k) +  abs(H[index]-H[index-j])\n",
    "            mini = min(mini, jump)\n",
    "    return mini \n",
    "\n",
    "H =  [10, 30, 40, 50, 20]\n",
    "n=len(H)\n",
    "k=3\n",
    "recursion(n-1, H, k)"
   ]
  },
  {
   "cell_type": "code",
   "execution_count": 36,
   "metadata": {},
   "outputs": [
    {
     "data": {
      "text/plain": [
       "30"
      ]
     },
     "execution_count": 36,
     "metadata": {},
     "output_type": "execute_result"
    }
   ],
   "source": [
    "def memoization(index, H, k, dp):\n",
    "    if index==0: return 0\n",
    "    if dp[index] != -1: return dp[index]\n",
    "    mini = float(\"inf\")\n",
    "    for j in range(1, k+1):\n",
    "        if index-j >=0:\n",
    "            jump = memoization(index-j, H, k, dp) + abs(H[index] -  H[index-j])\n",
    "            mini = min(mini, jump)\n",
    "    dp[index]  =  mini \n",
    "    return dp[index]\n",
    "\n",
    "H =  [10, 30, 40, 50, 20]\n",
    "n=len(H)\n",
    "k=3\n",
    "dp = [-1] * (n+1)\n",
    "memoization(n-1, H, k, dp)"
   ]
  },
  {
   "cell_type": "code",
   "execution_count": 37,
   "metadata": {},
   "outputs": [
    {
     "data": {
      "text/plain": [
       "30"
      ]
     },
     "execution_count": 37,
     "metadata": {},
     "output_type": "execute_result"
    }
   ],
   "source": [
    "def tabulation(index, H, k):\n",
    "    dp = [-1] * (len(H) + 1)\n",
    "\n",
    "    #convert the base case in the dp array value and assign it to the dp index \n",
    "    dp[0] =  0\n",
    "\n",
    "    for index in range(1, len(H)):\n",
    "        mini =  float(\"inf\")\n",
    "        for j in range(1, k+1):\n",
    "            if index-j>=0:\n",
    "                jump = dp[index-j] +  abs(H[index]-H[index-j])\n",
    "                mini = min(mini, jump)\n",
    "        dp[index] = mini \n",
    "    return dp[index]\n",
    "\n",
    "H =  [10, 30, 40, 50, 20]\n",
    "n=len(H)\n",
    "k=3\n",
    "tabulation(n-1, H, k)"
   ]
  },
  {
   "cell_type": "markdown",
   "metadata": {},
   "source": [
    "House Robber 1"
   ]
  },
  {
   "cell_type": "code",
   "execution_count": 95,
   "metadata": {},
   "outputs": [
    {
     "data": {
      "text/plain": [
       "12"
      ]
     },
     "execution_count": 95,
     "metadata": {},
     "output_type": "execute_result"
    }
   ],
   "source": [
    "def recursion(index, arr): #n-1 --> 0 Top down \n",
    "    if index==0:\n",
    "        return arr[0]\n",
    "    if index<0:\n",
    "        return 0\n",
    "\n",
    "    not_pick=float(\"-inf\")\n",
    "    pick = arr[index] + recursion(index-2, arr)\n",
    "    not_pick = 0 + recursion(index-1, arr)\n",
    "\n",
    "    return max(pick, not_pick)\n",
    "\n",
    "nums = [2,7,9,3,1]\n",
    "recursion(len(nums)-1, nums)\n",
    "\n",
    "#TC (2^n)\n",
    "#: SC : O(N) recursion stack"
   ]
  },
  {
   "cell_type": "code",
   "execution_count": 96,
   "metadata": {},
   "outputs": [
    {
     "data": {
      "text/plain": [
       "12"
      ]
     },
     "execution_count": 96,
     "metadata": {},
     "output_type": "execute_result"
    },
    {
     "ename": "",
     "evalue": "",
     "output_type": "error",
     "traceback": [
      "\u001b[1;31mThe Kernel crashed while executing code in the current cell or a previous cell. \n",
      "\u001b[1;31mPlease review the code in the cell(s) to identify a possible cause of the failure. \n",
      "\u001b[1;31mClick <a href='https://aka.ms/vscodeJupyterKernelCrash'>here</a> for more info. \n",
      "\u001b[1;31mView Jupyter <a href='command:jupyter.viewOutput'>log</a> for further details."
     ]
    }
   ],
   "source": [
    "def memoization(index, arr, dp):\n",
    "    if index <= 1:\n",
    "        return arr[index]\n",
    "\n",
    "    #step 2\n",
    "    if dp[index]  != -1:\n",
    "        return dp[index]\n",
    "    #step 3: solving it first time\n",
    "    not_pick = float(\"inf\")\n",
    "    pick = arr[index] + memoization(index-2, arr, dp)\n",
    "    not_pick = 0 + memoization(index-1, arr, dp)\n",
    "    dp[index] = max(pick, not_pick)\n",
    "    return dp[index]\n",
    "\n",
    "nums = [2,7,9,3,1]\n",
    "n=len(nums)\n",
    "#step 1\n",
    "dp =[-1] * (n+1)\n",
    "memoization(n-1, nums, dp)\n",
    "\n",
    "#TC: O(N)\n",
    "#SC: Aux(N)  + O(N)"
   ]
  },
  {
   "cell_type": "code",
   "execution_count": 50,
   "metadata": {},
   "outputs": [
    {
     "data": {
      "text/plain": [
       "3176"
      ]
     },
     "execution_count": 50,
     "metadata": {},
     "output_type": "execute_result"
    }
   ],
   "source": [
    "def tabulation(index, arr): #bottom up\n",
    "    n=len(arr)\n",
    "    dp = [-1] * (n+1)\n",
    "    # nums = [2,7,9,3,1]\n",
    "    #base cases : if index <= 1: return arr[index]\n",
    "    dp[0] = arr[0]    #dp [2, 7, 11, -1, -1, -1]  7\n",
    "    \n",
    "\n",
    "    for i in range(1, n): #2\n",
    "        pick = arr[i] #7, 9\n",
    "        if i>1:\n",
    "            pick += dp[i-2] #11\n",
    "        not_pick = 0 + dp[i-1] #2 #7\n",
    "\n",
    "        dp[i] = max(pick, not_pick)\n",
    "    return dp[index]\n",
    "\n",
    "nums = [104,209,137,52,158,67,213,86,141,110,151,127,238,147,169,138,240,185,246,225,147,203,83,83,131,227,54,78,165,180,214,151,111,161,233,147,124,143]\n",
    "\n",
    "tabulation(len(nums)-1, nums)\n",
    "\n",
    "        "
   ]
  },
  {
   "cell_type": "code",
   "execution_count": 52,
   "metadata": {},
   "outputs": [
    {
     "data": {
      "text/plain": [
       "3176"
      ]
     },
     "execution_count": 52,
     "metadata": {},
     "output_type": "execute_result"
    }
   ],
   "source": [
    "def space_optimization(arr):\n",
    "    n=len(arr)\n",
    "    prev = arr[0]\n",
    "    prev2 = 0\n",
    "\n",
    "    for i in range(1, n):\n",
    "        pick = arr[i]\n",
    "        if i>1:\n",
    "            pick += prev2\n",
    "        not_pick = 0 + prev        \n",
    "        cur = max(pick, not_pick)\n",
    "        prev2 = prev \n",
    "        prev = cur \n",
    "    return prev \n",
    "\n",
    "nums = [104,209,137,52,158,67,213,86,141,110,151,127,238,147,169,138,240,185,246,225,147,203,83,83,131,227,54,78,165,180,214,151,111,161,233,147,124,143]\n",
    "\n",
    "space_optimization(nums)"
   ]
  },
  {
   "cell_type": "markdown",
   "metadata": {},
   "source": [
    "2D DP: DP on grid"
   ]
  },
  {
   "cell_type": "markdown",
   "metadata": {},
   "source": [
    "Ninja problem\n",
    "n=3 and arr[]= [[1,2,5],[3,1,1],[3,3,3]]\n",
    "\n",
    "return max merit\n"
   ]
  },
  {
   "cell_type": "code",
   "execution_count": 57,
   "metadata": {},
   "outputs": [
    {
     "data": {
      "text/plain": [
       "11"
      ]
     },
     "execution_count": 57,
     "metadata": {},
     "output_type": "execute_result"
    }
   ],
   "source": [
    "def recursion(index, last, arr):\n",
    "    #base case\n",
    "    if index == 0:\n",
    "        maxi = float(\"-inf\")\n",
    "        for j in range(3):\n",
    "            if j != last:\n",
    "                activity = arr[index][j]\n",
    "                maxi = max(activity, maxi)\n",
    "        return maxi\n",
    "\n",
    "    maxi = float(\"-inf\") \n",
    "    for i in range(3):\n",
    "        if i != last:\n",
    "            activity = arr[index][i] + recursion(index-1, i, arr)\n",
    "            maxi = max(activity, maxi)\n",
    "    return maxi\n",
    "\n",
    "arr = [[1,2,5],[3,1,1],[3,3,3]]\n",
    "recursion(len(arr)-1, 3, arr)\n",
    "    "
   ]
  },
  {
   "cell_type": "code",
   "execution_count": 64,
   "metadata": {},
   "outputs": [
    {
     "data": {
      "text/plain": [
       "11"
      ]
     },
     "execution_count": 64,
     "metadata": {},
     "output_type": "execute_result"
    }
   ],
   "source": [
    "def memoization(index, last, arr, dp):\n",
    "    if index==0:\n",
    "        maxi = float(\"-inf\")\n",
    "        for i in range(3):\n",
    "            if i != last:\n",
    "                act = arr[index][i]\n",
    "                maxi = max(act, maxi)\n",
    "        return maxi\n",
    "\n",
    "    if dp[index][last] != -1: \n",
    "        return dp[index][last]\n",
    "    maxi=float(\"-inf\")\n",
    "    for i in range(3):\n",
    "        if i != last:\n",
    "            activity =  arr[index][i] + memoization(index-1, i, arr, dp)\n",
    "            maxi = max(maxi, activity)\n",
    "    dp[index][last] = maxi\n",
    "    return dp[index][last]\n",
    "\n",
    "arr = [[1,2,5],[3,1,1],[3,3,3]]\n",
    "dp =[[-1 for i in range(4)] for j in range(len(arr))]\n",
    "memoization(len(arr)-1, 3, arr, dp)"
   ]
  },
  {
   "cell_type": "code",
   "execution_count": 74,
   "metadata": {},
   "outputs": [
    {
     "data": {
      "text/plain": [
       "11"
      ]
     },
     "execution_count": 74,
     "metadata": {},
     "output_type": "execute_result"
    }
   ],
   "source": [
    "def tabulation(arr):\n",
    "    n=len(arr)\n",
    "    dp = [[-1 for i in range(4)] for j in range(n)]\n",
    "\n",
    "    #base case: at index 0 we have 4 possible options and we are taking max of the three task except the one selected task\n",
    "    # if index==0:\n",
    "    #     maxi = float(\"-inf\")\n",
    "    #     for i in range(3):\n",
    "    #         if i != last:\n",
    "    #             act = arr[index][i]\n",
    "    #             maxi = max(act, maxi)\n",
    "    #     return maxi\n",
    "    dp[0][0] = max(arr[0][1], arr[0][2])\n",
    "    dp[0][1] = max(arr[0][0], arr[0][2])\n",
    "    dp[0][2] = max(arr[0][1], arr[0][0])\n",
    "    dp[0][3] = max(arr[0][1], arr[0][2], arr[0][0])\n",
    "\n",
    "    #write the nested for loops: Here two params are changing ie index and last.\n",
    "    for index in range(1, n):\n",
    "        for last in range(4): #since we have 4 possible last values 0,1,2,3\n",
    "            #copy the recursion\n",
    "            # maxi = float(\"-inf\")\n",
    "            dp[index][last]=0\n",
    "            for task in range(3):\n",
    "                if task != last:\n",
    "                    activity = arr[index][task] + dp[index-1][task]\n",
    "                    maxi = max(activity, maxi)\n",
    "            dp[index][last] = maxi\n",
    "            \n",
    "    return dp[n-1][3]\n",
    "            \n",
    "\n",
    "arr = [[1,2,5],[3,1,1],[3,3,3]]\n",
    "tabulation(arr)"
   ]
  },
  {
   "cell_type": "code",
   "execution_count": 77,
   "metadata": {},
   "outputs": [
    {
     "data": {
      "text/plain": [
       "11"
      ]
     },
     "execution_count": 77,
     "metadata": {},
     "output_type": "execute_result"
    }
   ],
   "source": [
    "def space_optimization(arr):\n",
    "    n=len(arr)\n",
    "    prev = [0] * 4\n",
    "\n",
    "    prev[0] = max(arr[0][1], arr[0][2])\n",
    "    prev[1] = max(arr[0][0], arr[0][2])\n",
    "    prev[2] = max(arr[0][1], arr[0][0])\n",
    "    prev[3] = max(arr[0][1], arr[0][2], arr[0][0])\n",
    "\n",
    "    for index in range(1, n):\n",
    "        temp = [0] * 4\n",
    "        for last in range(4):\n",
    "            temp[last]=0\n",
    "            for task in range(3):\n",
    "                if task != last:\n",
    "                    activity = arr[index][task] + prev[task]\n",
    "                    temp[last] = max(activity, temp[last])\n",
    "            \n",
    "        prev = temp\n",
    "\n",
    "    return prev[n-1]\n",
    "\n",
    "\n",
    "arr = [[1,2,5],[3,1,1],[3,3,3]]\n",
    "space_optimization(arr)          "
   ]
  },
  {
   "cell_type": "markdown",
   "metadata": {},
   "source": [
    "Unique Path on grid: from 0,0 to m-1, n-1 we can move right and down only\n",
    "\n",
    "(FIXED START AND FIXED ENDING)\n"
   ]
  },
  {
   "cell_type": "code",
   "execution_count": 78,
   "metadata": {},
   "outputs": [
    {
     "data": {
      "text/plain": [
       "28"
      ]
     },
     "execution_count": 78,
     "metadata": {},
     "output_type": "execute_result"
    }
   ],
   "source": [
    "def recursion(i, j, m, n): #top down n-1 m-1 to 0 , 0 we can move left and up\n",
    "    #base: Destination\n",
    "    if i==0 and j==0:\n",
    "        return 1\n",
    "\n",
    "    #base: boundary\n",
    "    if i<0 or j<0:\n",
    "        return 0\n",
    "    left=0\n",
    "    up = recursion(i-1, j, m, n)\n",
    "    left = recursion(i, j-1, m, n)\n",
    "\n",
    "    return up + left\n",
    "\n",
    "recursion(2,6,3,7)\n",
    "\n",
    "\n",
    "    "
   ]
  },
  {
   "cell_type": "code",
   "execution_count": null,
   "metadata": {},
   "outputs": [],
   "source": [
    "def recursion(i, j, m, n): #top down n-1 m-1 to 0 , 0 we can move left and up\n",
    "    #base: Destination\n",
    "    if i==0 and j==0:\n",
    "        return 1\n",
    "\n",
    "    #base: boundary\n",
    "    if i<0 or j<0:\n",
    "        return 0\n",
    "    left=0\n",
    "    up = recursion(i-1, j, m, n)\n",
    "    left = recursion(i, j-1, m, n)\n",
    "\n",
    "    return up + left\n",
    "\n",
    "\n",
    "recursion(2,6,3,7)"
   ]
  },
  {
   "cell_type": "code",
   "execution_count": 85,
   "metadata": {},
   "outputs": [
    {
     "data": {
      "text/plain": [
       "28"
      ]
     },
     "execution_count": 85,
     "metadata": {},
     "output_type": "execute_result"
    }
   ],
   "source": [
    "def memoization(i, j, m, n, dp):\n",
    "    #base: Destination\n",
    "    if i==0 and j==0:\n",
    "        return 1\n",
    "\n",
    "    #base: boundary\n",
    "    if i<0 or j<0:\n",
    "        return 0\n",
    "\n",
    "    if dp[i][j] != -1:\n",
    "        return dp[i][j]\n",
    "\n",
    "    left=0\n",
    "    up = memoization(i-1, j, m, n, dp)\n",
    "    left = memoization(i, j-1, m, n, dp)\n",
    "    dp[i][j] = up + left\n",
    "    return dp[i][j]\n",
    "\n",
    "m=3\n",
    "n=7\n",
    "dp = [[-1 for i in range(n)] for j in range(m)]\n",
    "memoization(m-1,n-1,m,n, dp)"
   ]
  },
  {
   "cell_type": "code",
   "execution_count": 90,
   "metadata": {},
   "outputs": [
    {
     "data": {
      "text/plain": [
       "28"
      ]
     },
     "execution_count": 90,
     "metadata": {},
     "output_type": "execute_result"
    }
   ],
   "source": [
    "def tabulation(m,n):\n",
    "    dp = [[0 for i in range(n)] for j in range(m)]\n",
    "\n",
    "    #base case\n",
    "    dp[0][0] = 1 \n",
    "\n",
    "\n",
    "    for i in range(m):\n",
    "        for j in range(n):\n",
    "            if i==0 and j==0:\n",
    "                continue\n",
    "            up = 0\n",
    "            left = 0\n",
    "            if i>0:\n",
    "                up = dp[i-1][j]\n",
    "            if j>0:\n",
    "                left = dp[i][j-1]\n",
    "            dp[i][j] = up + left\n",
    "    \n",
    "    return dp[m-1][n-1]\n",
    "\n",
    "tabulation(3, 7)\n"
   ]
  },
  {
   "cell_type": "code",
   "execution_count": 93,
   "metadata": {},
   "outputs": [
    {
     "data": {
      "text/plain": [
       "28"
      ]
     },
     "execution_count": 93,
     "metadata": {},
     "output_type": "execute_result"
    }
   ],
   "source": [
    "def space_optimization(m,n):\n",
    "    prev = [0] * n\n",
    "    #base case \n",
    "    prev[0] = 1\n",
    "\n",
    "    for i in range(m):\n",
    "        temp = [0] * n\n",
    "        for j in range(n):\n",
    "            if j==0:\n",
    "                temp[j] = prev[j]\n",
    "            if j>0:\n",
    "                temp[j] = prev[j] + temp[j-1]\n",
    "        prev = temp \n",
    "    return prev[n-1]\n",
    "\n",
    "space_optimization(3, 7)\n"
   ]
  },
  {
   "cell_type": "markdown",
   "metadata": {},
   "source": [
    "# Coin Change"
   ]
  },
  {
   "cell_type": "code",
   "execution_count": 94,
   "metadata": {},
   "outputs": [],
   "source": [
    "def recursion(index, arr, output, intermediate, target):\n",
    "    #base case coins = [1,2,5]\n",
    "    if index <= 0:\n",
    "        return\n",
    "    if target == 0:\n",
    "        print(intermediate)\n",
    "        output[0] = min(output[0], len(intermediate))\n",
    "\n",
    "\n",
    "    #pick\n",
    "    if arr[index] <= target:\n",
    "        # target -= arr[index]\n",
    "        intermediate.append(arr[index])\n",
    "        self.recursion(index, arr, output, intermediate, target-arr[index])\n",
    "        target += arr[index]\n",
    "        intermediate.remove(arr[index])\n",
    "    #not pick\n",
    "    self.recursion(index-1, arr, output, intermediate, target)\n",
    "\n",
    "    return output\n",
    "\n",
    "def coinChange(self, coins, amount):\n",
    "    n=len(coins)\n",
    "    output = [float(\"inf\")]\n",
    "    intermediate = []\n",
    "    self.recursion(n-1, coins, output, intermediate, amount)\n",
    "    # self.combination_sum(0, coins, amount, intermediate, output)\n",
    "\n",
    "    if output[0] == float(\"inf\"):\n",
    "        return -1\n",
    "    else:\n",
    "        return output[0]"
   ]
  },
  {
   "cell_type": "markdown",
   "metadata": {},
   "source": [
    "# Minimum path sum\n",
    "\n",
    "Input: grid = [[1,3,1],[1,5,1],[4,2,1]]\n",
    "Output: 7\n",
    "Explanation: Because the path 1 → 3 → 1 → 1 → 1 minimizes the sum."
   ]
  },
  {
   "cell_type": "code",
   "execution_count": 12,
   "metadata": {},
   "outputs": [
    {
     "data": {
      "text/plain": [
       "7"
      ]
     },
     "execution_count": 12,
     "metadata": {},
     "output_type": "execute_result"
    }
   ],
   "source": [
    "def recursion(i, j, arr):\n",
    "    if i==0 and j==0:\n",
    "        return arr[i][j]\n",
    "    if i<0 or j<0: \n",
    "        return float(\"inf\")\n",
    "\n",
    "\n",
    "    left = float(\"inf\")\n",
    "    up = arr[i][j] + recursion(i-1, j, arr)\n",
    "    left = arr[i][j] + recursion(i, j-1, arr)\n",
    "\n",
    "    return min(left, up)\n",
    "\n",
    "grid = [[1,3,1],\n",
    "        [1,5,1],\n",
    "        [4,2,1]]\n",
    "m = len(grid)\n",
    "n = len(grid[0])\n",
    "recursion(m-1, n-1, grid)"
   ]
  },
  {
   "cell_type": "code",
   "execution_count": 13,
   "metadata": {},
   "outputs": [
    {
     "data": {
      "text/plain": [
       "7"
      ]
     },
     "execution_count": 13,
     "metadata": {},
     "output_type": "execute_result"
    }
   ],
   "source": [
    "def memoization(i, j, arr, dp):\n",
    "    if i==0 and j==0: return arr[0][0]\n",
    "    if i<0 or j<0: return float('inf')\n",
    "    if dp[i][j] != -1 : return dp[i][j]\n",
    "    left=float(\"inf\")\n",
    "    up=arr[i][j] + memoization(i-1, j, arr, dp)\n",
    "    left = arr[i][j]  + memoization(i, j-1, arr, dp)\n",
    "    dp[i][j] = min(up, left)\n",
    "    return dp[i][j]\n",
    "\n",
    "grid = [[1,3,1],\n",
    "        [1,5,1],\n",
    "        [4,2,1]]\n",
    "m = len(grid)\n",
    "n = len(grid[0])\n",
    "dp = [[-1 for i in range(n)] for j in range(m)]\n",
    "memoization(m-1, n-1, grid, dp)"
   ]
  },
  {
   "cell_type": "code",
   "execution_count": 22,
   "metadata": {},
   "outputs": [
    {
     "name": "stdout",
     "output_type": "stream",
     "text": [
      "[[1, 4, 5], [2, 7, 6], [6, 8, 7]]\n"
     ]
    },
    {
     "data": {
      "text/plain": [
       "7"
      ]
     },
     "execution_count": 22,
     "metadata": {},
     "output_type": "execute_result"
    }
   ],
   "source": [
    "def tabulation(arr):\n",
    "    m = len(arr)\n",
    "    n = len(arr[0])\n",
    "    dp = [[-1 for i in range(n)] for j in range(m)]\n",
    "\n",
    "    #base case to values at index of basecase cases:\n",
    "    #if i==0 and j==0 : arr[0][0]\n",
    "\n",
    "    dp[0][0] = arr[0][0]\n",
    "\n",
    "    #write nested loops equals to the changing param in recursion, i.e. 2 in this case \n",
    "    \n",
    "    for i in range(m):\n",
    "        for j in range(n):\n",
    "            if i==0 and j==0:\n",
    "                continue\n",
    "            up=float(\"inf\")\n",
    "            left = float(\"inf\")\n",
    "            if i>0:\n",
    "                up = arr[i][j] + dp[i-1][j]\n",
    "            if j>0:\n",
    "                left = arr[i][j] + dp[i][j-1]\n",
    "            dp[i][j] = min(up, left)\n",
    "    print(dp)\n",
    "    return dp[m-1][n-1]\n",
    "\n",
    "grid = [[1,3,1],\n",
    "        [1,5,1],\n",
    "        [4,2,1]]\n",
    "tabulation(grid)\n",
    "\n",
    "\n"
   ]
  },
  {
   "cell_type": "code",
   "execution_count": 28,
   "metadata": {},
   "outputs": [
    {
     "name": "stdout",
     "output_type": "stream",
     "text": [
      "[1, 4, 5]\n",
      "[2, 7, 6]\n",
      "[6, 8, 7]\n"
     ]
    },
    {
     "data": {
      "text/plain": [
       "7"
      ]
     },
     "execution_count": 28,
     "metadata": {},
     "output_type": "execute_result"
    }
   ],
   "source": [
    "def space_optimized(arr):\n",
    "    m=len(arr)\n",
    "    n=len(arr[0])\n",
    "    prev = [float(\"inf\")] * n\n",
    "    prev[0] = arr[0][0]\n",
    "\n",
    "    for i in range(m):\n",
    "        temp = [0] * n\n",
    "        for j in range(n):\n",
    "            if i==0 and j==0:\n",
    "                temp[j] = prev[j]\n",
    "                continue\n",
    "            if j==0:\n",
    "                temp[j] = arr[i][j] + prev[j]\n",
    "            if j>0:\n",
    "                temp[j] = arr[i][j] + min(prev[j], temp[j-1])\n",
    "        prev= temp\n",
    "        print(prev)\n",
    "    return prev[n-1]\n",
    "\n",
    "grid = [[1,3,1],\n",
    "        [1,5,1],\n",
    "        [4,2,1]]\n",
    "space_optimized(grid)                                                                                                                                                                                                                                                                                                                                                                                                                                                                                                                                                                                                                                                                                                                                  "
   ]
  },
  {
   "cell_type": "markdown",
   "metadata": {},
   "source": [
    "# Min Path Sum Triangular Grid\n",
    "\n",
    "Input: triangle = [[2],[3,4],[6,5,7],[4,1,8,3]]\n",
    "Output: 11\n",
    "Explanation: The triangle looks like:\n",
    "2\n",
    "3 4\n",
    "6 5 7\n",
    "4 1 8 3\n",
    "The minimum path sum from top to bottom is 2 + 3 + 5 + 1 = 11 (underlined above).\n"
   ]
  },
  {
   "cell_type": "code",
   "execution_count": 29,
   "metadata": {},
   "outputs": [
    {
     "data": {
      "text/plain": [
       "11"
      ]
     },
     "execution_count": 29,
     "metadata": {},
     "output_type": "execute_result"
    }
   ],
   "source": [
    "def recursion(i, j, arr):\n",
    "    if i==len(arr)-1:\n",
    "        return arr[i][j]\n",
    "    diagonal = float(\"inf\")\n",
    "    down = arr[i][j] + recursion(i+1, j, arr)\n",
    "    diagional = arr[i][j] + recursion(i+1, j+1, arr)\n",
    "\n",
    "    return min(down, diagional)\n",
    "triangle = [[2],[3,4],[6,5,7],[4,1,8,3]]\n",
    "recursion(0, 0, triangle)\n"
   ]
  },
  {
   "cell_type": "code",
   "execution_count": 31,
   "metadata": {},
   "outputs": [
    {
     "data": {
      "text/plain": [
       "11"
      ]
     },
     "execution_count": 31,
     "metadata": {},
     "output_type": "execute_result"
    }
   ],
   "source": [
    "def memoization(i, j, arr, dp):\n",
    "    if i==len(arr)-1:\n",
    "        return arr[i][j]\n",
    "    if dp[i][j] != -1: return dp[i][j]\n",
    "    diagonal = float(\"inf\")\n",
    "    down = arr[i][j] + recursion(i+1, j, arr)\n",
    "    diagional = arr[i][j] + recursion(i+1, j+1, arr)\n",
    "    dp[i][j] = min(down, diagional)\n",
    "    return dp[i][j]\n",
    "triangle = [[2],[3,4],[6,5,7],[4,1,8,3]]\n",
    "n=len(triangle)\n",
    "dp = [[-1 for i in range(n)] for j in range(n)]\n",
    "memoization(0, 0, triangle, dp)"
   ]
  },
  {
   "cell_type": "code",
   "execution_count": 33,
   "metadata": {},
   "outputs": [
    {
     "data": {
      "text/plain": [
       "11"
      ]
     },
     "execution_count": 33,
     "metadata": {},
     "output_type": "execute_result"
    }
   ],
   "source": [
    "def tabulation(arr):\n",
    "    n= len(arr)\n",
    "    dp = [[0 for i in range(n)] for j in range(n)]\n",
    "    #bottom up: n-1 to 0\n",
    "    #base case value will assign, which is the last row as it is important to \n",
    "    # compute the value of previos row as we ware looking for th i+1 rows\n",
    "\n",
    "    dp[n-1] = arr[n-1]\n",
    "\n",
    "    for i in range(n-2, -1, -1):\n",
    "        for j in range(i, -1,-1):\n",
    "            #copy the recursion\n",
    "            down = arr[i][j] + dp[i+1][j]\n",
    "            diagional = arr[i][j] + dp[i+1][j+1]\n",
    "            dp[i][j] = min(down, diagional)\n",
    "    return dp[0][0]\n",
    "\n",
    "triangle = [[2],[3,4],[6,5,7],[4,1,8,3]]\n",
    "tabulation(triangle)\n"
   ]
  },
  {
   "cell_type": "code",
   "execution_count": 34,
   "metadata": {},
   "outputs": [
    {
     "data": {
      "text/plain": [
       "11"
      ]
     },
     "execution_count": 34,
     "metadata": {},
     "output_type": "execute_result"
    }
   ],
   "source": [
    "def space_optimized(arr):\n",
    "    n=len(arr)\n",
    "    prev = arr[n-1]\n",
    "\n",
    "    for i in range(n-2, -1, -1):\n",
    "        temp = [0] * n\n",
    "        for j in range(i, -1,-1):\n",
    "            temp[j] =  arr[i][j] + min(prev[j], prev[j+1])\n",
    "        prev = temp\n",
    "    return prev[0]\n",
    "\n",
    "space_optimized(triangle)"
   ]
  },
  {
   "cell_type": "markdown",
   "metadata": {},
   "source": [
    "# Minimum path falling sum\n",
    "\n",
    "varibale end variable start\n",
    "\n",
    "Input: matrix = [[2,1,3],[6,5,4],[7,8,9]]\n",
    "Output: 13\n",
    "Explanation: There are two falling paths with a minimum sum as shown.\n",
    "\n",
    "the next element from position (row, col) will be (row + 1, col - 1), (row + 1, col), or (row + 1, col + 1)."
   ]
  },
  {
   "cell_type": "code",
   "execution_count": 39,
   "metadata": {},
   "outputs": [
    {
     "name": "stdout",
     "output_type": "stream",
     "text": [
      "13\n"
     ]
    }
   ],
   "source": [
    "def recursion(i, j, arr):\n",
    "\n",
    "    if j<0 or j>=len(arr): \n",
    "        return float(\"inf\")\n",
    "    if i==0: return arr[0][j]\n",
    "    up=float(\"inf\")\n",
    "    right=float(\"inf\")\n",
    "    left = arr[i][j] + recursion(i-1, j-1, arr)\n",
    "    up = arr[i][j] + recursion(i-1, j, arr)\n",
    "    right = arr[i][j] + recursion(i-1, j+1, arr)\n",
    "    return min(up, left, right)\n",
    "\n",
    "matrix = [[2,1,3],[6,5,4],[7,8,9]]\n",
    "n=len(matrix)\n",
    "mini=float(\"inf\")\n",
    "for j in range(n):\n",
    "    value = recursion(n-1, j, matrix)\n",
    "    mini = min(mini, value)\n",
    "\n",
    "print(mini)"
   ]
  },
  {
   "cell_type": "code",
   "execution_count": 41,
   "metadata": {},
   "outputs": [
    {
     "name": "stdout",
     "output_type": "stream",
     "text": [
      "13\n"
     ]
    }
   ],
   "source": [
    "def memoization(i, j, arr, dp):\n",
    "\n",
    "    if j<0 or j>=len(arr): \n",
    "        return float(\"inf\")\n",
    "    if i==0: return arr[0][j]\n",
    "    up=float(\"inf\")\n",
    "    right=float(\"inf\")\n",
    "    left = arr[i][j] + memoization(i-1, j-1, arr, dp)\n",
    "    up = arr[i][j] + memoization(i-1, j, arr, dp)\n",
    "    right = arr[i][j] + memoization(i-1, j+1, arr, dp)\n",
    "    return min(up, left, right)\n",
    "\n",
    "matrix = [[2,1,3],[6,5,4],[7,8,9]]\n",
    "n=len(matrix)\n",
    "mini=float(\"inf\")\n",
    "dp=[[-1 for i in range(n)] for j in range(n)]\n",
    "\n",
    "for j in range(n):\n",
    "    value = memoization(n-1, j, matrix, dp)\n",
    "    mini = min(mini, value)\n",
    "print(mini)"
   ]
  },
  {
   "cell_type": "code",
   "execution_count": 55,
   "metadata": {},
   "outputs": [
    {
     "data": {
      "text/plain": [
       "13"
      ]
     },
     "execution_count": 55,
     "metadata": {},
     "output_type": "execute_result"
    }
   ],
   "source": [
    "def tabulation(arr):\n",
    "    n=len(arr)\n",
    "    dp=[[0 for i in range(n)] for j in range(n)]\n",
    "    dp[0] =  arr[0]\n",
    "    for i in  range(1, n):\n",
    "        for j in range(n):\n",
    "            if j==0:\n",
    "                dp[i][j] = arr[i][j] + min(dp[i-1][j], dp[i-1][j+1])\n",
    "                # continue\n",
    "            elif j==n-1:\n",
    "                dp[i][j] =  arr[i][j] + min(dp[i-1][j], dp[i-1][j-1])\n",
    "            else:\n",
    "                dp[i][j] = arr[i][j] + min(dp[i-1][j-1], dp[i-1][j], dp[i-1][j+1])\n",
    "    return min(dp[n-1])\n",
    "\n",
    "matrix = [[2,1,3],\n",
    "          [6,5,4],\n",
    "          [7,8,9]]\n",
    "\n",
    "        #   [[2, 1, 3], \n",
    "        #   [7, 6, 5], \n",
    "        #   [12, 13, 14]]\n",
    "tabulation(matrix)"
   ]
  },
  {
   "cell_type": "code",
   "execution_count": 56,
   "metadata": {},
   "outputs": [
    {
     "data": {
      "text/plain": [
       "13"
      ]
     },
     "execution_count": 56,
     "metadata": {},
     "output_type": "execute_result"
    }
   ],
   "source": [
    "def space_optimization(arr):\n",
    "    n = len(arr)\n",
    "    prev = arr[0]\n",
    "    for i in range(1, n):\n",
    "        temp  = [0] * n\n",
    "        for j in range(n):\n",
    "            if j==0:\n",
    "                temp[j] = arr[i][j] + min(prev[j], prev[j+1])\n",
    "            elif j==n-1:\n",
    "                temp[j] = arr[i][j] + min(prev[j], prev[j-1])\n",
    "            else:\n",
    "                temp[j] =  arr[i][j] + min(prev[j], prev[j+1], prev[j-1])\n",
    "        prev = temp \n",
    "    return min(prev)\n",
    "\n",
    "matrix = [[2,1,3],\n",
    "          [6,5,4],\n",
    "          [7,8,9]]\n",
    "space_optimization(matrix)"
   ]
  },
  {
   "cell_type": "markdown",
   "metadata": {},
   "source": [
    "# DP on Subsequence "
   ]
  },
  {
   "cell_type": "markdown",
   "metadata": {},
   "source": [
    "## Subset Sum equal to k \n",
    "\n",
    "arr=[1,2,3,4] k=4"
   ]
  },
  {
   "cell_type": "code",
   "execution_count": 59,
   "metadata": {},
   "outputs": [
    {
     "data": {
      "text/plain": [
       "True"
      ]
     },
     "execution_count": 59,
     "metadata": {},
     "output_type": "execute_result"
    }
   ],
   "source": [
    "def recursion(index, target, arr):\n",
    "    if target == 0:\n",
    "        return True \n",
    "    if index ==0:\n",
    "        return arr[index] == target\n",
    "\n",
    "    not_take = recursion(index-1, target, arr)\n",
    "    take = False\n",
    "    if arr[index] <= target:\n",
    "        take = recursion(index-1, target-arr[index], arr)\n",
    "\n",
    "    return take or not_take\n",
    "\n",
    "arr=[1,2,3,4]\n",
    "k=4\n",
    "\n",
    "recursion(len(arr)-1, k, arr)"
   ]
  },
  {
   "cell_type": "code",
   "execution_count": 63,
   "metadata": {},
   "outputs": [
    {
     "data": {
      "text/plain": [
       "True"
      ]
     },
     "execution_count": 63,
     "metadata": {},
     "output_type": "execute_result"
    }
   ],
   "source": [
    "def memoization(index, target, arr, dp):\n",
    "    if target ==0:\n",
    "        return True\n",
    "\n",
    "    if index==0:\n",
    "        return arr[0]==target \n",
    "    \n",
    "    if dp[index][target] != -1:\n",
    "        return dp[index][target]\n",
    "\n",
    "    not_take = memoization(index-1, target, arr, dp)\n",
    "    take= False\n",
    "    if arr[index]<= target:\n",
    "        take = memoization(index, target-arr[index], arr, dp)\n",
    "    \n",
    "    dp[index][target] = take or not_take\n",
    "\n",
    "    return dp[index][target]\n",
    "\n",
    "arr = [1,2,3,4]\n",
    "k=4\n",
    "n=len(arr)\n",
    "dp = [[-1 for i in range(k+1)] for j in range(len(arr)) ]\n",
    "memoization(n-1, k, arr, dp)"
   ]
  },
  {
   "cell_type": "code",
   "execution_count": 68,
   "metadata": {},
   "outputs": [
    {
     "data": {
      "text/plain": [
       "True"
      ]
     },
     "execution_count": 68,
     "metadata": {},
     "output_type": "execute_result"
    }
   ],
   "source": [
    "def tabulation(arr, k):\n",
    "    n=len(arr)\n",
    "    dp = [[False for i in range(k+1)] for j in range(n)]\n",
    "    \n",
    "    #base case 1: if target==0: return True \n",
    "    for i in range(n):\n",
    "        dp[i][0] = True \n",
    "    \n",
    "    #base case 2: if ind==0: return arr[0]==target\n",
    "    if arr[0] <= k:\n",
    "        dp[0][arr[0]]= True \n",
    "\n",
    "    for index in  range(1, n):\n",
    "        take = False\n",
    "        for target in range(k+1):\n",
    "            not_take = dp[index-1][target]\n",
    "            if arr[index] <= target:\n",
    "                take = dp[index-1][target-arr[index]]\n",
    "            dp[index][target] =  take or not_take\n",
    "    return dp[index][k]\n",
    "\n",
    "tabulation(arr, k)"
   ]
  },
  {
   "cell_type": "code",
   "execution_count": 71,
   "metadata": {},
   "outputs": [
    {
     "data": {
      "text/plain": [
       "True"
      ]
     },
     "execution_count": 71,
     "metadata": {},
     "output_type": "execute_result"
    }
   ],
   "source": [
    "def space_optimization(arr, k):\n",
    "    prev = [False] * (k+1)\n",
    "\n",
    "    prev[0] = True\n",
    "    if arr[0]<=k:\n",
    "        prev[arr[0]] = True\n",
    "    \n",
    "    for index in range(1, n):\n",
    "        cur = [False] * (k+1)\n",
    "        cur[0] = True\n",
    "        take = False\n",
    "        for target in range(k+1):\n",
    "            not_take =  prev[target]\n",
    "            if arr[index] <= target:\n",
    "                take = prev[target-arr[index]]\n",
    "            cur[target] = take or not_take\n",
    "\n",
    "        prev = cur\n",
    "    return prev[k]\n",
    "\n",
    "space_optimization(arr, k)\n",
    "            "
   ]
  },
  {
   "cell_type": "markdown",
   "metadata": {},
   "source": [
    "## partition equal subset sum\n",
    "\n",
    "Input: nums = [1,5,11,5]\n",
    "Output: true\n",
    "Explanation: The array can be partitioned as [1, 5, 5] and [11]."
   ]
  },
  {
   "cell_type": "markdown",
   "metadata": {},
   "source": [
    "#### solution:\n",
    "\n",
    "S = sum(arr)\n",
    "if S is odd then two equal partitions are not possible \n",
    "if S is even then we can find S/2 that will be the sum of subset S1. if S1 exist means the other subset sum will be S/2"
   ]
  },
  {
   "cell_type": "code",
   "execution_count": 75,
   "metadata": {},
   "outputs": [
    {
     "data": {
      "text/plain": [
       "True"
      ]
     },
     "execution_count": 75,
     "metadata": {},
     "output_type": "execute_result"
    }
   ],
   "source": [
    "def recursion(index, target, arr):\n",
    "    if target==0:\n",
    "        return True\n",
    "    if index == 0:\n",
    "        return arr[0]==target\n",
    "\n",
    "    not_take = recursion(index-1, target, arr)\n",
    "    take= False\n",
    "    if arr[index] <= target:\n",
    "        take = recursion(index-1, target-arr[index], arr)\n",
    "\n",
    "    return take or not_take\n",
    "\n",
    "def recursion_driver(arr):\n",
    "    n=len(arr)\n",
    "    s=sum(arr)\n",
    "    if s%2==0:\n",
    "        return recursion(n-1, sum(arr)//2, arr)\n",
    "    else:\n",
    "        return False\n",
    "\n",
    "arr = [1,5,11,5]\n",
    "recursion_driver(arr)\n"
   ]
  },
  {
   "cell_type": "code",
   "execution_count": 76,
   "metadata": {},
   "outputs": [
    {
     "data": {
      "text/plain": [
       "True"
      ]
     },
     "execution_count": 76,
     "metadata": {},
     "output_type": "execute_result"
    }
   ],
   "source": [
    "def tabulation(arr):\n",
    "    n=len(arr)\n",
    "    s=sum(arr)\n",
    "    if s%2 !=0:\n",
    "        return False\n",
    "    k = s//2\n",
    "\n",
    "    dp = [[False for i in range(k+1)] for j in range(n)]\n",
    "\n",
    "    #base case: if target==0:return True\n",
    "    for i in range(n):\n",
    "        dp[i][0] = True\n",
    "\n",
    "    #base case 2: if index == 0: return arr[index]==target\n",
    "    if arr[0] <= k:\n",
    "        dp[0][arr[0]]= True\n",
    "\n",
    "    for index in range(1, n):\n",
    "        for target in range(k+1):\n",
    "            not_take = dp[index-1][target]\n",
    "            take= False\n",
    "            if arr[index] <= target:\n",
    "                take = dp[index-1][target- arr[index]]\n",
    "            dp[index][target] = take or not_take\n",
    "\n",
    "    return dp[index][k]\n",
    "    \n",
    "arr = [1,5,11,5]\n",
    "tabulation(arr)"
   ]
  },
  {
   "cell_type": "markdown",
   "metadata": {},
   "source": [
    "### Partition Array Into Two Arrays to Minimize Sum Difference\n",
    "\n",
    "Input: nums = [3,9,7,3]\n",
    "Output: 2\n",
    "Explanation: One optimal partition is: [3,9] and [7,3].\n",
    "The absolute difference between the sums of the arrays is abs((3 + 9) - (7 + 3)) = 2."
   ]
  },
  {
   "cell_type": "markdown",
   "metadata": {},
   "source": [
    "#### Solution\n",
    "\n",
    "We can build the tabulation table for the target S= sum(arr), the last row of the tabulation will give us that which are the \n",
    "values that can be possible subset sum.\n",
    "\n",
    "To minimize the abs[S1-S2] We can just compute the S1 and then we can S2 by S2 = S- S1"
   ]
  },
  {
   "cell_type": "code",
   "execution_count": 87,
   "metadata": {},
   "outputs": [
    {
     "data": {
      "text/plain": [
       "2"
      ]
     },
     "execution_count": 87,
     "metadata": {},
     "output_type": "execute_result"
    }
   ],
   "source": [
    "def tabulation(arr):\n",
    "    n=len(arr)\n",
    "    k=sum(arr)\n",
    "\n",
    "    dp = [[False for i in range(k+1)] for j in range(n)]\n",
    "\n",
    "    for i in range(n):\n",
    "        dp[i][0] = True\n",
    "\n",
    "    if arr[0]<=k:\n",
    "        dp[0][arr[0]]= True\n",
    "\n",
    "    for index in range(1, n):\n",
    "        for target in range(k+1):\n",
    "            not_take=dp[index-1][target]\n",
    "            take= False\n",
    "            if arr[index]<= target:\n",
    "                take = dp[index-1][target-arr[index]]\n",
    "            dp[index][target] = take or not_take\n",
    "\n",
    "    return dp\n",
    "\n",
    "def min_absolute_diff(arr):\n",
    "    #last row of tabulation will tell me that which values are possible \n",
    "    n=len(arr)\n",
    "    dp = tabulation(arr)\n",
    "    S=sum(arr)\n",
    "    possible_list = dp[n-1]\n",
    "\n",
    "    S1 = [i for i in range(len(possible_list)) if possible_list[i]]\n",
    "    S2 = [S-i for i in S1]\n",
    "    mini = float(\"inf\")\n",
    "    for i in range(len(S1)//2):\n",
    "        value = abs(S1[i]-S2[i])\n",
    "        mini= min(value, mini)\n",
    "\n",
    "    return mini\n",
    "\n",
    "    #possible list contains the value of S1 which are possible. \n",
    "\n",
    "arr=[1,5,11,5]\n",
    "min_absolute_diff(arr)"
   ]
  },
  {
   "cell_type": "markdown",
   "metadata": {},
   "source": [
    "## Count subset with sum k\n",
    "\n",
    "\n",
    "#### Solution:\n",
    "In the previous problem we have to return the True or False, this time we have to count, so at every index we have two options take or not take so we can return the 0 and 1 values for take and not take and then we can simply add it to get the total number of sum k subset"
   ]
  },
  {
   "cell_type": "code",
   "execution_count": 88,
   "metadata": {},
   "outputs": [
    {
     "data": {
      "text/plain": [
       "3"
      ]
     },
     "execution_count": 88,
     "metadata": {},
     "output_type": "execute_result"
    }
   ],
   "source": [
    "def recursion(index, target, arr):\n",
    "    if target==0:\n",
    "        return 1\n",
    "    if index==0:\n",
    "        if arr[index] == target:\n",
    "            return 1\n",
    "        else:\n",
    "            return 0\n",
    "    \n",
    "    not_take = recursion(index-1, target, arr)\n",
    "    take=0\n",
    "    if arr[index]<=target:\n",
    "        take=recursion(index-1, target-arr[index], arr)\n",
    "\n",
    "    return take + not_take\n",
    "\n",
    "arr = [5, 2, 3, 10, 6, 8]\n",
    "k = 10\n",
    "\n",
    "recursion(len(arr)-1, k, arr)"
   ]
  },
  {
   "cell_type": "code",
   "execution_count": 92,
   "metadata": {},
   "outputs": [
    {
     "data": {
      "text/plain": [
       "3"
      ]
     },
     "execution_count": 92,
     "metadata": {},
     "output_type": "execute_result"
    }
   ],
   "source": [
    "def memoization(index, target, arr, dp):\n",
    "    if target==0:\n",
    "        return 1\n",
    "    if index==0:\n",
    "        if arr[0]==target:\n",
    "            return 1\n",
    "        else:\n",
    "            return 0\n",
    "\n",
    "    if dp[index][target] != -1: \n",
    "        return dp[index][target]\n",
    "    not_take = memoization(index-1, target, arr, dp)\n",
    "    take = 0\n",
    "    if arr[index] <= target:\n",
    "        take = memoization(index-1, target-arr[index], arr, dp)\n",
    "\n",
    "    dp[index][target] = take + not_take\n",
    "    return dp[index][target]\n",
    "\n",
    "arr = [5, 2, 3, 10, 6, 8]\n",
    "k = 10\n",
    "n=len(arr)\n",
    "dp = [[-1 for i in range(k+1)] for j in range(n)]\n",
    "memoization(len(arr)-1, k, arr, dp)"
   ]
  },
  {
   "cell_type": "code",
   "execution_count": 93,
   "metadata": {},
   "outputs": [
    {
     "data": {
      "text/plain": [
       "3"
      ]
     },
     "execution_count": 93,
     "metadata": {},
     "output_type": "execute_result"
    }
   ],
   "source": [
    "def tabulation(arr, k):\n",
    "    n=len(arr)\n",
    "    dp=[[0 for i in range(k+1)] for j in range(n)]\n",
    "\n",
    "    for i in range(n):\n",
    "        dp[i][0] = 1\n",
    "    \n",
    "    if arr[0] <= k:\n",
    "        dp[0][arr[0]]=1\n",
    "\n",
    "    for index in range(1, n):\n",
    "        for target in range(k+1):\n",
    "            not_take = dp[index-1][target]\n",
    "            take=0\n",
    "            if arr[index]<=target:\n",
    "                take = dp[index-1][target-arr[index]]\n",
    "            dp[index][target] = take + not_take\n",
    "\n",
    "    return dp[index][target]\n",
    "\n",
    "arr = [5, 2, 3, 10, 6, 8]\n",
    "k = 10\n",
    "tabulation(arr, k)"
   ]
  },
  {
   "cell_type": "code",
   "execution_count": 98,
   "metadata": {},
   "outputs": [
    {
     "data": {
      "text/plain": [
       "3"
      ]
     },
     "execution_count": 98,
     "metadata": {},
     "output_type": "execute_result"
    }
   ],
   "source": [
    "def space_optimization(arr, k):\n",
    "    n=len(arr)\n",
    "    prev = [0] * (k+1)\n",
    "    prev[0] = 1\n",
    "\n",
    "    if arr[0]<=k:\n",
    "        prev[arr[0]]=1\n",
    "\n",
    "    for index in range(1,n):\n",
    "        temp =  [0] * (k+1)\n",
    "        temp[0] = 1\n",
    "        for target in range(k+1):\n",
    "            not_take = prev[target]\n",
    "            take=0\n",
    "            if arr[index]<=target:\n",
    "                take = prev[target - arr[index]]\n",
    "            temp[target] = take + not_take\n",
    "        prev = temp\n",
    "    return prev[k]\n",
    "\n",
    "\n",
    "arr = [5, 2, 3, 10, 6, 8]\n",
    "k = 10\n",
    "space_optimization(arr, k)"
   ]
  },
  {
   "cell_type": "code",
   "execution_count": 2,
   "metadata": {},
   "outputs": [
    {
     "data": {
      "text/plain": [
       "-1400"
      ]
     },
     "execution_count": 2,
     "metadata": {},
     "output_type": "execute_result"
    }
   ],
   "source": [
    "eval(\"20*30-40*50\")"
   ]
  },
  {
   "cell_type": "code",
   "execution_count": null,
   "metadata": {},
   "outputs": [],
   "source": [
    "x = \"20*30-40*50\""
   ]
  },
  {
   "cell_type": "code",
   "execution_count": 9,
   "metadata": {},
   "outputs": [
    {
     "data": {
      "text/plain": [
       "'dcbabcd'"
      ]
     },
     "execution_count": 9,
     "metadata": {},
     "output_type": "execute_result"
    }
   ],
   "source": [
    "s = \"abcd\"\n",
    "s1= s[::-1] + s[1:]\n",
    "s1\n"
   ]
  },
  {
   "cell_type": "code",
   "execution_count": 10,
   "metadata": {},
   "outputs": [
    {
     "data": {
      "text/plain": [
       "7"
      ]
     },
     "execution_count": 10,
     "metadata": {},
     "output_type": "execute_result"
    }
   ],
   "source": [
    "len(s1)"
   ]
  },
  {
   "cell_type": "code",
   "execution_count": 15,
   "metadata": {},
   "outputs": [
    {
     "data": {
      "text/plain": [
       "'b'"
      ]
     },
     "execution_count": 15,
     "metadata": {},
     "output_type": "execute_result"
    }
   ],
   "source": [
    "\n",
    "mid= len(s1)//2 -1\n",
    "s1[mid]\n"
   ]
  },
  {
   "cell_type": "code",
   "execution_count": 16,
   "metadata": {},
   "outputs": [
    {
     "data": {
      "text/plain": [
       "'babcd'"
      ]
     },
     "execution_count": 16,
     "metadata": {},
     "output_type": "execute_result"
    }
   ],
   "source": [
    "x= s1[mid:]\n",
    "x"
   ]
  },
  {
   "cell_type": "code",
   "execution_count": 18,
   "metadata": {},
   "outputs": [
    {
     "data": {
      "text/plain": [
       "'dcbab'"
      ]
     },
     "execution_count": 18,
     "metadata": {},
     "output_type": "execute_result"
    }
   ],
   "source": [
    "y=x[::-1]\n",
    "y"
   ]
  },
  {
   "cell_type": "code",
   "execution_count": 22,
   "metadata": {},
   "outputs": [
    {
     "data": {
      "text/plain": [
       "'dcbabcd'"
      ]
     },
     "execution_count": 22,
     "metadata": {},
     "output_type": "execute_result"
    }
   ],
   "source": [
    "s = \"abcd\"\n",
    "s1= s[::-1] + s[1:]\n",
    "s1"
   ]
  },
  {
   "cell_type": "code",
   "execution_count": 28,
   "metadata": {},
   "outputs": [
    {
     "name": "stdout",
     "output_type": "stream",
     "text": [
      "dcbabcd\n"
     ]
    }
   ],
   "source": [
    "s1= s[::-1] + s[1:]\n",
    "mid= len(s1)//2 -1\n",
    "shortest_palindrome=float(\"inf\")\n",
    "while mid>=0:\n",
    "    x= s1[mid:]\n",
    "    y=x[::-1]\n",
    "    if x==y and len(x)<shortest_palindrome:\n",
    "        shortest_palindrome = len(x)\n",
    "        print(x)\n",
    "        break\n",
    "    mid -=1"
   ]
  },
  {
   "cell_type": "code",
   "execution_count": 29,
   "metadata": {},
   "outputs": [
    {
     "data": {
      "text/plain": [
       "'dcabba'"
      ]
     },
     "execution_count": 29,
     "metadata": {},
     "output_type": "execute_result"
    }
   ],
   "source": [
    "s = \"abbacd\"\n",
    "r = s[::-1]\n",
    "r\n"
   ]
  },
  {
   "cell_type": "code",
   "execution_count": 30,
   "metadata": {},
   "outputs": [
    {
     "name": "stdout",
     "output_type": "stream",
     "text": [
      "dcabbacd\n",
      "dcabbabbacd\n",
      "dcabbaabbacd\n"
     ]
    }
   ],
   "source": [
    "for i in range(len(s)+1):\n",
    "    if s.startswith(r[i:]):\n",
    "        print( r[:i] + s)"
   ]
  },
  {
   "cell_type": "code",
   "execution_count": null,
   "metadata": {},
   "outputs": [],
   "source": []
  }
 ],
 "metadata": {
  "kernelspec": {
   "display_name": "base",
   "language": "python",
   "name": "python3"
  },
  "language_info": {
   "codemirror_mode": {
    "name": "ipython",
    "version": 3
   },
   "file_extension": ".py",
   "mimetype": "text/x-python",
   "name": "python",
   "nbconvert_exporter": "python",
   "pygments_lexer": "ipython3",
   "version": "3.11.7"
  }
 },
 "nbformat": 4,
 "nbformat_minor": 2
}
